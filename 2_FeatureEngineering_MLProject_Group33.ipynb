{
 "cells": [
  {
   "cell_type": "markdown",
   "id": "d8b23b07f259ca99",
   "metadata": {},
   "source": [
    "<div style=\"display: flex; align-items: center; justify-content: center; flex-wrap: wrap;\">\n",
    "    <div style=\"flex: 1; max-width: 400px; display: flex; justify-content: center;\">\n",
    "        <img src=\"https://i.ibb.co/JBPWVYR/Logo-Nova-IMS-Black.png\" style=\"max-width: 50%; height: auto; margin-top: 50px; margin-bottom: 50px;margin-left: 3rem;\">\n",
    "    </div>\n",
    "    <div style=\"flex: 2; text-align: center; margin-top: 20px;\">\n",
    "        <div style=\"font-size: 28px; font-weight: bold; line-height: 1.2;\">\n",
    "            <span style=\"color: #08306B;\">ML Project |</span> <span style=\"color: #08529C;\">To Grant or Not to Grant</span>\n",
    "        </div>\n",
    "        <div style=\"font-size: 17px; font-weight: bold; margin-top: 10px;\">\n",
    "            Fall Semester | 2024 - 2025\n",
    "        </div>\n",
    "        <div style=\"font-size: 17px; font-weight: bold;\">\n",
    "            Master in Data Science and Advanced Analytics\n",
    "        </div>\n",
    "        <div style=\"margin-top: 20px;\">\n",
    "            <div>André Silvestre, 20240502</div>\n",
    "            <div>João Henriques, 20240499</div>\n",
    "            <div>Simone Genovese, 20241459</div>\n",
    "            <div>Steven Carlson, 20240554</div>\n",
    "            <div>Vinícius Pinto, 20211682</div>\n",
    "            <div>Zofia Wojcik, 20240654</div>\n",
    "        </div>\n",
    "        <div style=\"margin-top: 20px; font-weight: bold;\">\n",
    "            TBL Group 33\n",
    "        </div>\n",
    "    </div>\n",
    "</div>"
   ]
  },
  {
   "cell_type": "markdown",
   "id": "df6859083154b24",
   "metadata": {},
   "source": [
    "## 📚 Libraries Import\n"
   ]
  },
  {
   "cell_type": "code",
   "execution_count": 55,
   "id": "347aab6ecd96c517",
   "metadata": {
    "ExecuteTime": {
     "end_time": "2024-10-19T22:07:33.760323Z",
     "start_time": "2024-10-19T22:07:33.651477Z"
    },
    "deletable": true,
    "editable": true,
    "frozen": false
   },
   "outputs": [],
   "source": [
    "# For data\n",
    "import pandas as pd\n",
    "import numpy as np\n",
    "import os\n",
    "\n",
    "# For plotting\n",
    "import matplotlib.pyplot as plt\n",
    "import seaborn as sns\n",
    "import matplotlib.ticker as mtick\n",
    "import matplotlib.lines as mlines\n",
    "import missingno as msno\n",
    "\n",
    "# For data preprocessing\n",
    "from sklearn.model_selection import train_test_split\n",
    "from sklearn.impute import KNNImputer\n",
    "from sklearn.preprocessing import LabelEncoder, OneHotEncoder\n",
    "from sklearn import model_selection, preprocessing, feature_selection, ensemble, linear_model, metrics, decomposition\n",
    "\n",
    "# Set the style of the visualization\n",
    "pd.set_option('display.max_columns', None) # display all columns\n",
    "\n",
    "# Disable FutureWarnings\n",
    "import warnings\n",
    "warnings.simplefilter(action='ignore', category=FutureWarning)\n",
    "\n",
    "# for better resolution plots\n",
    "%config InlineBackend.figure_format = 'retina' # optionally, you can change 'svg' to 'retina'\n",
    "\n",
    "# Setting seaborn style\n",
    "sns.set_theme(style=\"white\")"
   ]
  },
  {
   "cell_type": "markdown",
   "id": "568291f09e689c54",
   "metadata": {},
   "source": [
    "## 🧮 Import Databases"
   ]
  },
  {
   "cell_type": "code",
   "execution_count": 56,
   "id": "315fdb11e7314c4d",
   "metadata": {
    "ExecuteTime": {
     "end_time": "2024-10-19T22:02:49.187393Z",
     "start_time": "2024-10-19T22:02:48.107308Z"
    },
    "deletable": true,
    "editable": true,
    "frozen": false
   },
   "outputs": [],
   "source": [
    "# Importing the dataset\n",
    "train_data = pd.read_parquet('data/1stNotebook/train_data_cleaned.parquet')\n",
    "test_data = pd.read_parquet('data/1stNotebook/test_data_cleaned.parquet')"
   ]
  },
  {
   "cell_type": "code",
   "execution_count": 57,
   "id": "2f2303470f5985fe",
   "metadata": {
    "ExecuteTime": {
     "end_time": "2024-10-19T22:02:49.251013Z",
     "start_time": "2024-10-19T22:02:49.212545Z"
    }
   },
   "outputs": [
    {
     "data": {
      "text/html": [
       "<div>\n",
       "<style scoped>\n",
       "    .dataframe tbody tr th:only-of-type {\n",
       "        vertical-align: middle;\n",
       "    }\n",
       "\n",
       "    .dataframe tbody tr th {\n",
       "        vertical-align: top;\n",
       "    }\n",
       "\n",
       "    .dataframe thead th {\n",
       "        text-align: right;\n",
       "    }\n",
       "</style>\n",
       "<table border=\"1\" class=\"dataframe\">\n",
       "  <thead>\n",
       "    <tr style=\"text-align: right;\">\n",
       "      <th></th>\n",
       "      <th>Accident Date</th>\n",
       "      <th>Age at Injury</th>\n",
       "      <th>Alternative Dispute Resolution</th>\n",
       "      <th>Assembly Date</th>\n",
       "      <th>Attorney/Representative</th>\n",
       "      <th>Average Weekly Wage</th>\n",
       "      <th>Birth Year</th>\n",
       "      <th>C-2 Date</th>\n",
       "      <th>C-3 Date</th>\n",
       "      <th>Carrier Name</th>\n",
       "      <th>Carrier Type</th>\n",
       "      <th>County of Injury</th>\n",
       "      <th>COVID-19 Indicator</th>\n",
       "      <th>District Name</th>\n",
       "      <th>First Hearing Date</th>\n",
       "      <th>Gender</th>\n",
       "      <th>IME-4 Count</th>\n",
       "      <th>Industry Code</th>\n",
       "      <th>Industry Code Description</th>\n",
       "      <th>Medical Fee Region</th>\n",
       "      <th>WCIO Cause of Injury Code</th>\n",
       "      <th>WCIO Cause of Injury Description</th>\n",
       "      <th>WCIO Nature of Injury Code</th>\n",
       "      <th>WCIO Nature of Injury Description</th>\n",
       "      <th>WCIO Part Of Body Code</th>\n",
       "      <th>WCIO Part Of Body Description</th>\n",
       "      <th>Zip Code</th>\n",
       "      <th>Number of Dependents</th>\n",
       "      <th>C-3 Date Binary</th>\n",
       "      <th>First Hearing Date Binary</th>\n",
       "      <th>Birth Year Clean</th>\n",
       "      <th>Age at Injury Clean</th>\n",
       "      <th>Weekly Wage Reported</th>\n",
       "      <th>IME-4 Reported</th>\n",
       "      <th>Carrier Type Bucket</th>\n",
       "      <th>WCIO Cause of Injury Bucket</th>\n",
       "      <th>WCIO Nature of Injury Bucket</th>\n",
       "      <th>WCIO Part of Body Bucket</th>\n",
       "      <th>Accident Date Year</th>\n",
       "      <th>Accident Date Month</th>\n",
       "      <th>Accident Date Day</th>\n",
       "      <th>Accident Date Weekday</th>\n",
       "      <th>Assembly Date Year</th>\n",
       "      <th>Assembly Date Month</th>\n",
       "      <th>Assembly Date Day</th>\n",
       "      <th>Assembly Date Weekday</th>\n",
       "      <th>C-2 Date Year</th>\n",
       "      <th>C-2 Date Month</th>\n",
       "      <th>C-2 Date Day</th>\n",
       "      <th>C-2 Date Weekday</th>\n",
       "      <th>C-3 Date Year</th>\n",
       "      <th>C-3 Date Month</th>\n",
       "      <th>C-3 Date Day</th>\n",
       "      <th>C-3 Date Weekday</th>\n",
       "      <th>First Hearing Date Year</th>\n",
       "      <th>First Hearing Date Month</th>\n",
       "      <th>First Hearing Date Day</th>\n",
       "      <th>First Hearing Date Weekday</th>\n",
       "      <th>Claim Injury Type</th>\n",
       "    </tr>\n",
       "  </thead>\n",
       "  <tbody>\n",
       "    <tr>\n",
       "      <th>0</th>\n",
       "      <td>2019-12-30</td>\n",
       "      <td>31</td>\n",
       "      <td>N</td>\n",
       "      <td>2020-01-01</td>\n",
       "      <td>N</td>\n",
       "      <td>0.00</td>\n",
       "      <td>1988.0</td>\n",
       "      <td>2019-12-31</td>\n",
       "      <td>NaT</td>\n",
       "      <td>NEW HAMPSHIRE INSURANCE CO</td>\n",
       "      <td>1A. PRIVATE</td>\n",
       "      <td>ST. LAWRENCE</td>\n",
       "      <td>N</td>\n",
       "      <td>SYRACUSE</td>\n",
       "      <td>NaT</td>\n",
       "      <td>M</td>\n",
       "      <td>NaN</td>\n",
       "      <td>44.0</td>\n",
       "      <td>RETAIL TRADE</td>\n",
       "      <td>I</td>\n",
       "      <td>27</td>\n",
       "      <td>FROM LIQUID OR GREASE SPILLS</td>\n",
       "      <td>10</td>\n",
       "      <td>CONTUSION</td>\n",
       "      <td>62</td>\n",
       "      <td>BUTTOCKS</td>\n",
       "      <td>13662</td>\n",
       "      <td>1</td>\n",
       "      <td>1</td>\n",
       "      <td>1</td>\n",
       "      <td>1988.0</td>\n",
       "      <td>31.0</td>\n",
       "      <td>0</td>\n",
       "      <td>0</td>\n",
       "      <td>1A. PRIVATE</td>\n",
       "      <td>4 - Fall</td>\n",
       "      <td>1 - Specific</td>\n",
       "      <td>IV - Trunk</td>\n",
       "      <td>2019.0</td>\n",
       "      <td>12.0</td>\n",
       "      <td>30.0</td>\n",
       "      <td>0.0</td>\n",
       "      <td>2020</td>\n",
       "      <td>1</td>\n",
       "      <td>1</td>\n",
       "      <td>2</td>\n",
       "      <td>2019.0</td>\n",
       "      <td>12.0</td>\n",
       "      <td>31.0</td>\n",
       "      <td>1.0</td>\n",
       "      <td>NaN</td>\n",
       "      <td>NaN</td>\n",
       "      <td>NaN</td>\n",
       "      <td>NaN</td>\n",
       "      <td>NaN</td>\n",
       "      <td>NaN</td>\n",
       "      <td>NaN</td>\n",
       "      <td>NaN</td>\n",
       "      <td>2. NON-COMP</td>\n",
       "    </tr>\n",
       "    <tr>\n",
       "      <th>1</th>\n",
       "      <td>2019-08-30</td>\n",
       "      <td>46</td>\n",
       "      <td>N</td>\n",
       "      <td>2020-01-01</td>\n",
       "      <td>Y</td>\n",
       "      <td>1745.93</td>\n",
       "      <td>1973.0</td>\n",
       "      <td>2020-01-01</td>\n",
       "      <td>2020-01-14</td>\n",
       "      <td>ZURICH AMERICAN INSURANCE CO</td>\n",
       "      <td>1A. PRIVATE</td>\n",
       "      <td>WYOMING</td>\n",
       "      <td>N</td>\n",
       "      <td>ROCHESTER</td>\n",
       "      <td>2020-02-21</td>\n",
       "      <td>F</td>\n",
       "      <td>4.0</td>\n",
       "      <td>23.0</td>\n",
       "      <td>CONSTRUCTION</td>\n",
       "      <td>I</td>\n",
       "      <td>97</td>\n",
       "      <td>REPETITIVE MOTION</td>\n",
       "      <td>49</td>\n",
       "      <td>SPRAIN OR TEAR</td>\n",
       "      <td>38</td>\n",
       "      <td>SHOULDER(S)</td>\n",
       "      <td>14569</td>\n",
       "      <td>4</td>\n",
       "      <td>0</td>\n",
       "      <td>0</td>\n",
       "      <td>1973.0</td>\n",
       "      <td>46.0</td>\n",
       "      <td>1</td>\n",
       "      <td>1</td>\n",
       "      <td>1A. PRIVATE</td>\n",
       "      <td>6 - Strain_data</td>\n",
       "      <td>1 - Specific</td>\n",
       "      <td>III - Upper Extremities</td>\n",
       "      <td>2019.0</td>\n",
       "      <td>8.0</td>\n",
       "      <td>30.0</td>\n",
       "      <td>4.0</td>\n",
       "      <td>2020</td>\n",
       "      <td>1</td>\n",
       "      <td>1</td>\n",
       "      <td>2</td>\n",
       "      <td>2020.0</td>\n",
       "      <td>1.0</td>\n",
       "      <td>1.0</td>\n",
       "      <td>2.0</td>\n",
       "      <td>2020.0</td>\n",
       "      <td>1.0</td>\n",
       "      <td>14.0</td>\n",
       "      <td>1.0</td>\n",
       "      <td>2020.0</td>\n",
       "      <td>2.0</td>\n",
       "      <td>21.0</td>\n",
       "      <td>4.0</td>\n",
       "      <td>4. TEMPORARY</td>\n",
       "    </tr>\n",
       "  </tbody>\n",
       "</table>\n",
       "</div>"
      ],
      "text/plain": [
       "  Accident Date  Age at Injury Alternative Dispute Resolution Assembly Date  \\\n",
       "0    2019-12-30             31                              N    2020-01-01   \n",
       "1    2019-08-30             46                              N    2020-01-01   \n",
       "\n",
       "  Attorney/Representative  Average Weekly Wage  Birth Year   C-2 Date  \\\n",
       "0                       N                 0.00      1988.0 2019-12-31   \n",
       "1                       Y              1745.93      1973.0 2020-01-01   \n",
       "\n",
       "    C-3 Date                  Carrier Name Carrier Type County of Injury  \\\n",
       "0        NaT    NEW HAMPSHIRE INSURANCE CO  1A. PRIVATE     ST. LAWRENCE   \n",
       "1 2020-01-14  ZURICH AMERICAN INSURANCE CO  1A. PRIVATE          WYOMING   \n",
       "\n",
       "  COVID-19 Indicator District Name First Hearing Date Gender  IME-4 Count  \\\n",
       "0                  N      SYRACUSE                NaT      M          NaN   \n",
       "1                  N     ROCHESTER         2020-02-21      F          4.0   \n",
       "\n",
       "   Industry Code Industry Code Description Medical Fee Region  \\\n",
       "0           44.0              RETAIL TRADE                  I   \n",
       "1           23.0              CONSTRUCTION                  I   \n",
       "\n",
       "   WCIO Cause of Injury Code WCIO Cause of Injury Description  \\\n",
       "0                         27     FROM LIQUID OR GREASE SPILLS   \n",
       "1                         97                REPETITIVE MOTION   \n",
       "\n",
       "   WCIO Nature of Injury Code WCIO Nature of Injury Description  \\\n",
       "0                          10                         CONTUSION   \n",
       "1                          49                    SPRAIN OR TEAR   \n",
       "\n",
       "   WCIO Part Of Body Code WCIO Part Of Body Description Zip Code  \\\n",
       "0                      62                      BUTTOCKS    13662   \n",
       "1                      38                   SHOULDER(S)    14569   \n",
       "\n",
       "   Number of Dependents  C-3 Date Binary  First Hearing Date Binary  \\\n",
       "0                     1                1                          1   \n",
       "1                     4                0                          0   \n",
       "\n",
       "   Birth Year Clean  Age at Injury Clean  Weekly Wage Reported  \\\n",
       "0            1988.0                 31.0                     0   \n",
       "1            1973.0                 46.0                     1   \n",
       "\n",
       "   IME-4 Reported Carrier Type Bucket WCIO Cause of Injury Bucket  \\\n",
       "0               0         1A. PRIVATE                    4 - Fall   \n",
       "1               1         1A. PRIVATE             6 - Strain_data   \n",
       "\n",
       "  WCIO Nature of Injury Bucket WCIO Part of Body Bucket  Accident Date Year  \\\n",
       "0                 1 - Specific               IV - Trunk              2019.0   \n",
       "1                 1 - Specific  III - Upper Extremities              2019.0   \n",
       "\n",
       "   Accident Date Month  Accident Date Day  Accident Date Weekday  \\\n",
       "0                 12.0               30.0                    0.0   \n",
       "1                  8.0               30.0                    4.0   \n",
       "\n",
       "   Assembly Date Year  Assembly Date Month  Assembly Date Day  \\\n",
       "0                2020                    1                  1   \n",
       "1                2020                    1                  1   \n",
       "\n",
       "   Assembly Date Weekday  C-2 Date Year  C-2 Date Month  C-2 Date Day  \\\n",
       "0                      2         2019.0            12.0          31.0   \n",
       "1                      2         2020.0             1.0           1.0   \n",
       "\n",
       "   C-2 Date Weekday  C-3 Date Year  C-3 Date Month  C-3 Date Day  \\\n",
       "0               1.0            NaN             NaN           NaN   \n",
       "1               2.0         2020.0             1.0          14.0   \n",
       "\n",
       "   C-3 Date Weekday  First Hearing Date Year  First Hearing Date Month  \\\n",
       "0               NaN                      NaN                       NaN   \n",
       "1               1.0                   2020.0                       2.0   \n",
       "\n",
       "   First Hearing Date Day  First Hearing Date Weekday Claim Injury Type  \n",
       "0                     NaN                         NaN       2. NON-COMP  \n",
       "1                    21.0                         4.0      4. TEMPORARY  "
      ]
     },
     "execution_count": 57,
     "metadata": {},
     "output_type": "execute_result"
    }
   ],
   "source": [
    "# Display the first 2 rows of each dataset\n",
    "train_data.head(2) "
   ]
  },
  {
   "cell_type": "code",
   "execution_count": 58,
   "id": "af1aebdc5596482",
   "metadata": {
    "ExecuteTime": {
     "end_time": "2024-10-19T22:02:49.430437Z",
     "start_time": "2024-10-19T22:02:49.404518Z"
    }
   },
   "outputs": [
    {
     "data": {
      "text/html": [
       "<div>\n",
       "<style scoped>\n",
       "    .dataframe tbody tr th:only-of-type {\n",
       "        vertical-align: middle;\n",
       "    }\n",
       "\n",
       "    .dataframe tbody tr th {\n",
       "        vertical-align: top;\n",
       "    }\n",
       "\n",
       "    .dataframe thead th {\n",
       "        text-align: right;\n",
       "    }\n",
       "</style>\n",
       "<table border=\"1\" class=\"dataframe\">\n",
       "  <thead>\n",
       "    <tr style=\"text-align: right;\">\n",
       "      <th></th>\n",
       "      <th>Accident Date</th>\n",
       "      <th>Age at Injury</th>\n",
       "      <th>Alternative Dispute Resolution</th>\n",
       "      <th>Assembly Date</th>\n",
       "      <th>Attorney/Representative</th>\n",
       "      <th>Average Weekly Wage</th>\n",
       "      <th>Birth Year</th>\n",
       "      <th>C-2 Date</th>\n",
       "      <th>C-3 Date</th>\n",
       "      <th>Carrier Name</th>\n",
       "      <th>Carrier Type</th>\n",
       "      <th>County of Injury</th>\n",
       "      <th>COVID-19 Indicator</th>\n",
       "      <th>District Name</th>\n",
       "      <th>First Hearing Date</th>\n",
       "      <th>Gender</th>\n",
       "      <th>IME-4 Count</th>\n",
       "      <th>Industry Code</th>\n",
       "      <th>Industry Code Description</th>\n",
       "      <th>Medical Fee Region</th>\n",
       "      <th>WCIO Cause of Injury Code</th>\n",
       "      <th>WCIO Cause of Injury Description</th>\n",
       "      <th>WCIO Nature of Injury Code</th>\n",
       "      <th>WCIO Nature of Injury Description</th>\n",
       "      <th>WCIO Part Of Body Code</th>\n",
       "      <th>WCIO Part Of Body Description</th>\n",
       "      <th>Zip Code</th>\n",
       "      <th>Number of Dependents</th>\n",
       "      <th>C-3 Date Binary</th>\n",
       "      <th>First Hearing Date Binary</th>\n",
       "      <th>Birth Year Clean</th>\n",
       "      <th>Age at Injury Clean</th>\n",
       "      <th>Weekly Wage Reported</th>\n",
       "      <th>IME-4 Reported</th>\n",
       "      <th>Carrier Type Bucket</th>\n",
       "      <th>WCIO Cause of Injury Bucket</th>\n",
       "      <th>WCIO Nature of Injury Bucket</th>\n",
       "      <th>WCIO Part of Body Bucket</th>\n",
       "      <th>Accident Date Year</th>\n",
       "      <th>Accident Date Month</th>\n",
       "      <th>Accident Date Day</th>\n",
       "      <th>Accident Date Weekday</th>\n",
       "      <th>Assembly Date Year</th>\n",
       "      <th>Assembly Date Month</th>\n",
       "      <th>Assembly Date Day</th>\n",
       "      <th>Assembly Date Weekday</th>\n",
       "      <th>C-2 Date Year</th>\n",
       "      <th>C-2 Date Month</th>\n",
       "      <th>C-2 Date Day</th>\n",
       "      <th>C-2 Date Weekday</th>\n",
       "      <th>C-3 Date Year</th>\n",
       "      <th>C-3 Date Month</th>\n",
       "      <th>C-3 Date Day</th>\n",
       "      <th>C-3 Date Weekday</th>\n",
       "      <th>First Hearing Date Year</th>\n",
       "      <th>First Hearing Date Month</th>\n",
       "      <th>First Hearing Date Day</th>\n",
       "      <th>First Hearing Date Weekday</th>\n",
       "    </tr>\n",
       "  </thead>\n",
       "  <tbody>\n",
       "    <tr>\n",
       "      <th>0</th>\n",
       "      <td>2022-12-24</td>\n",
       "      <td>19</td>\n",
       "      <td>N</td>\n",
       "      <td>2023-01-02</td>\n",
       "      <td>N</td>\n",
       "      <td>NaN</td>\n",
       "      <td>2003.0</td>\n",
       "      <td>2023-01-02</td>\n",
       "      <td>NaT</td>\n",
       "      <td>INDEMNITY INSURANCE CO OF</td>\n",
       "      <td>1A. PRIVATE</td>\n",
       "      <td>BRONX</td>\n",
       "      <td>N</td>\n",
       "      <td>NYC</td>\n",
       "      <td>NaT</td>\n",
       "      <td>M</td>\n",
       "      <td>NaN</td>\n",
       "      <td>48.0</td>\n",
       "      <td>TRANSPORTATION AND WAREHOUSING</td>\n",
       "      <td>IV</td>\n",
       "      <td>31</td>\n",
       "      <td>FALL, SLIP OR TRIP, NOC</td>\n",
       "      <td>10</td>\n",
       "      <td>CONTUSION</td>\n",
       "      <td>54</td>\n",
       "      <td>LOWER LEG</td>\n",
       "      <td>10466</td>\n",
       "      <td>1</td>\n",
       "      <td>1</td>\n",
       "      <td>1</td>\n",
       "      <td>2003.0</td>\n",
       "      <td>19.0</td>\n",
       "      <td>0</td>\n",
       "      <td>0</td>\n",
       "      <td>1A. PRIVATE</td>\n",
       "      <td>4 - Fall</td>\n",
       "      <td>1 - Specific</td>\n",
       "      <td>V - Lower Extremities</td>\n",
       "      <td>2022.0</td>\n",
       "      <td>12.0</td>\n",
       "      <td>24.0</td>\n",
       "      <td>5.0</td>\n",
       "      <td>2023</td>\n",
       "      <td>1</td>\n",
       "      <td>2</td>\n",
       "      <td>0</td>\n",
       "      <td>2023.0</td>\n",
       "      <td>1.0</td>\n",
       "      <td>2.0</td>\n",
       "      <td>0.0</td>\n",
       "      <td>NaN</td>\n",
       "      <td>NaN</td>\n",
       "      <td>NaN</td>\n",
       "      <td>NaN</td>\n",
       "      <td>NaN</td>\n",
       "      <td>NaN</td>\n",
       "      <td>NaN</td>\n",
       "      <td>NaN</td>\n",
       "    </tr>\n",
       "    <tr>\n",
       "      <th>1</th>\n",
       "      <td>2022-11-20</td>\n",
       "      <td>19</td>\n",
       "      <td>N</td>\n",
       "      <td>2023-01-02</td>\n",
       "      <td>N</td>\n",
       "      <td>NaN</td>\n",
       "      <td>2003.0</td>\n",
       "      <td>2023-01-02</td>\n",
       "      <td>NaT</td>\n",
       "      <td>A I U INSURANCE COMPANY</td>\n",
       "      <td>1A. PRIVATE</td>\n",
       "      <td>QUEENS</td>\n",
       "      <td>N</td>\n",
       "      <td>NYC</td>\n",
       "      <td>NaT</td>\n",
       "      <td>F</td>\n",
       "      <td>NaN</td>\n",
       "      <td>45.0</td>\n",
       "      <td>RETAIL TRADE</td>\n",
       "      <td>IV</td>\n",
       "      <td>75</td>\n",
       "      <td>FALLING OR FLYING OBJECT</td>\n",
       "      <td>10</td>\n",
       "      <td>CONTUSION</td>\n",
       "      <td>10</td>\n",
       "      <td>MULTIPLE HEAD INJURY</td>\n",
       "      <td>11691</td>\n",
       "      <td>1</td>\n",
       "      <td>1</td>\n",
       "      <td>1</td>\n",
       "      <td>2003.0</td>\n",
       "      <td>19.0</td>\n",
       "      <td>0</td>\n",
       "      <td>0</td>\n",
       "      <td>1A. PRIVATE</td>\n",
       "      <td>8 - Struck</td>\n",
       "      <td>1 - Specific</td>\n",
       "      <td>I - Head</td>\n",
       "      <td>2022.0</td>\n",
       "      <td>11.0</td>\n",
       "      <td>20.0</td>\n",
       "      <td>6.0</td>\n",
       "      <td>2023</td>\n",
       "      <td>1</td>\n",
       "      <td>2</td>\n",
       "      <td>0</td>\n",
       "      <td>2023.0</td>\n",
       "      <td>1.0</td>\n",
       "      <td>2.0</td>\n",
       "      <td>0.0</td>\n",
       "      <td>NaN</td>\n",
       "      <td>NaN</td>\n",
       "      <td>NaN</td>\n",
       "      <td>NaN</td>\n",
       "      <td>NaN</td>\n",
       "      <td>NaN</td>\n",
       "      <td>NaN</td>\n",
       "      <td>NaN</td>\n",
       "    </tr>\n",
       "  </tbody>\n",
       "</table>\n",
       "</div>"
      ],
      "text/plain": [
       "  Accident Date  Age at Injury Alternative Dispute Resolution Assembly Date  \\\n",
       "0    2022-12-24             19                              N    2023-01-02   \n",
       "1    2022-11-20             19                              N    2023-01-02   \n",
       "\n",
       "  Attorney/Representative  Average Weekly Wage  Birth Year   C-2 Date  \\\n",
       "0                       N                  NaN      2003.0 2023-01-02   \n",
       "1                       N                  NaN      2003.0 2023-01-02   \n",
       "\n",
       "  C-3 Date               Carrier Name Carrier Type County of Injury  \\\n",
       "0      NaT  INDEMNITY INSURANCE CO OF  1A. PRIVATE            BRONX   \n",
       "1      NaT    A I U INSURANCE COMPANY  1A. PRIVATE           QUEENS   \n",
       "\n",
       "  COVID-19 Indicator District Name First Hearing Date Gender  IME-4 Count  \\\n",
       "0                  N           NYC                NaT      M          NaN   \n",
       "1                  N           NYC                NaT      F          NaN   \n",
       "\n",
       "   Industry Code       Industry Code Description Medical Fee Region  \\\n",
       "0           48.0  TRANSPORTATION AND WAREHOUSING                 IV   \n",
       "1           45.0                    RETAIL TRADE                 IV   \n",
       "\n",
       "   WCIO Cause of Injury Code WCIO Cause of Injury Description  \\\n",
       "0                         31          FALL, SLIP OR TRIP, NOC   \n",
       "1                         75         FALLING OR FLYING OBJECT   \n",
       "\n",
       "   WCIO Nature of Injury Code WCIO Nature of Injury Description  \\\n",
       "0                          10                         CONTUSION   \n",
       "1                          10                         CONTUSION   \n",
       "\n",
       "   WCIO Part Of Body Code WCIO Part Of Body Description Zip Code  \\\n",
       "0                      54                     LOWER LEG    10466   \n",
       "1                      10          MULTIPLE HEAD INJURY    11691   \n",
       "\n",
       "   Number of Dependents  C-3 Date Binary  First Hearing Date Binary  \\\n",
       "0                     1                1                          1   \n",
       "1                     1                1                          1   \n",
       "\n",
       "   Birth Year Clean  Age at Injury Clean  Weekly Wage Reported  \\\n",
       "0            2003.0                 19.0                     0   \n",
       "1            2003.0                 19.0                     0   \n",
       "\n",
       "   IME-4 Reported Carrier Type Bucket WCIO Cause of Injury Bucket  \\\n",
       "0               0         1A. PRIVATE                    4 - Fall   \n",
       "1               0         1A. PRIVATE                  8 - Struck   \n",
       "\n",
       "  WCIO Nature of Injury Bucket WCIO Part of Body Bucket  Accident Date Year  \\\n",
       "0                 1 - Specific    V - Lower Extremities              2022.0   \n",
       "1                 1 - Specific                 I - Head              2022.0   \n",
       "\n",
       "   Accident Date Month  Accident Date Day  Accident Date Weekday  \\\n",
       "0                 12.0               24.0                    5.0   \n",
       "1                 11.0               20.0                    6.0   \n",
       "\n",
       "   Assembly Date Year  Assembly Date Month  Assembly Date Day  \\\n",
       "0                2023                    1                  2   \n",
       "1                2023                    1                  2   \n",
       "\n",
       "   Assembly Date Weekday  C-2 Date Year  C-2 Date Month  C-2 Date Day  \\\n",
       "0                      0         2023.0             1.0           2.0   \n",
       "1                      0         2023.0             1.0           2.0   \n",
       "\n",
       "   C-2 Date Weekday  C-3 Date Year  C-3 Date Month  C-3 Date Day  \\\n",
       "0               0.0            NaN             NaN           NaN   \n",
       "1               0.0            NaN             NaN           NaN   \n",
       "\n",
       "   C-3 Date Weekday  First Hearing Date Year  First Hearing Date Month  \\\n",
       "0               NaN                      NaN                       NaN   \n",
       "1               NaN                      NaN                       NaN   \n",
       "\n",
       "   First Hearing Date Day  First Hearing Date Weekday  \n",
       "0                     NaN                         NaN  \n",
       "1                     NaN                         NaN  "
      ]
     },
     "execution_count": 58,
     "metadata": {},
     "output_type": "execute_result"
    }
   ],
   "source": [
    "test_data.head(2)"
   ]
  },
  {
   "cell_type": "markdown",
   "id": "88745c759264780e",
   "metadata": {},
   "source": [
    "# <a class='anchor' id='2'></a>\n",
    "<br>\n",
    "<style>\n",
    "@import url('https://fonts.cdnfonts.com/css/avenir-next-lt-pro?styles=29974');\n",
    "</style>\n",
    "\n",
    "<div style=\"background: linear-gradient(to right,#08529C, #08306B); \n",
    "            padding: 10px; color: white; border-radius: 300px; text-align: center;\">\n",
    "    <center><h1 style=\"margin-left: 140px;margin-top: 10px; margin-bottom: 4px; color: white;\n",
    "                       font-size: 32px; font-family: 'Avenir Next LT Pro', sans-serif;\">\n",
    "        <b>2 | Data Preparation</b></h1></center>\n",
    "</div>\n",
    "\n",
    "<br><br>"
   ]
  },
  {
   "cell_type": "markdown",
   "id": "7ebee34b62a4f182",
   "metadata": {},
   "source": [
    "### **🛠️ Drop Columns Unnecessary for the Model**"
   ]
  },
  {
   "cell_type": "code",
   "execution_count": 59,
   "id": "f743f34b",
   "metadata": {},
   "outputs": [
    {
     "name": "stdout",
     "output_type": "stream",
     "text": [
      "<class 'pandas.core.frame.DataFrame'>\n",
      "RangeIndex: 574026 entries, 0 to 574025\n",
      "Data columns (total 59 columns):\n",
      " #   Column                             Non-Null Count   Dtype         \n",
      "---  ------                             --------------   -----         \n",
      " 0   Accident Date                      570337 non-null  datetime64[ns]\n",
      " 1   Accident Date Day                  570337 non-null  float64       \n",
      " 2   Accident Date Month                570337 non-null  float64       \n",
      " 3   Accident Date Weekday              570337 non-null  float64       \n",
      " 4   Accident Date Year                 570337 non-null  float64       \n",
      " 5   Age at Injury                      574026 non-null  int64         \n",
      " 6   Age at Injury Clean                571840 non-null  float64       \n",
      " 7   Alternative Dispute Resolution     574026 non-null  object        \n",
      " 8   Assembly Date                      574026 non-null  datetime64[ns]\n",
      " 9   Assembly Date Day                  574026 non-null  int32         \n",
      " 10  Assembly Date Month                574026 non-null  int32         \n",
      " 11  Assembly Date Weekday              574026 non-null  int32         \n",
      " 12  Assembly Date Year                 574026 non-null  int32         \n",
      " 13  Attorney/Representative            574026 non-null  object        \n",
      " 14  Average Weekly Wage                545375 non-null  float64       \n",
      " 15  Birth Year                         544948 non-null  float64       \n",
      " 16  Birth Year Clean                   543022 non-null  float64       \n",
      " 17  C-2 Date                           559466 non-null  datetime64[ns]\n",
      " 18  C-2 Date Day                       559466 non-null  float64       \n",
      " 19  C-2 Date Month                     559466 non-null  float64       \n",
      " 20  C-2 Date Weekday                   559466 non-null  float64       \n",
      " 21  C-2 Date Year                      559466 non-null  float64       \n",
      " 22  C-3 Date                           187245 non-null  datetime64[ns]\n",
      " 23  C-3 Date Binary                    574026 non-null  int32         \n",
      " 24  C-3 Date Day                       187245 non-null  float64       \n",
      " 25  C-3 Date Month                     187245 non-null  float64       \n",
      " 26  C-3 Date Weekday                   187245 non-null  float64       \n",
      " 27  C-3 Date Year                      187245 non-null  float64       \n",
      " 28  COVID-19 Indicator                 574026 non-null  object        \n",
      " 29  Carrier Name                       574026 non-null  object        \n",
      " 30  Carrier Type                       574026 non-null  object        \n",
      " 31  Carrier Type Bucket                574026 non-null  object        \n",
      " 32  Claim Injury Type                  574026 non-null  object        \n",
      " 33  County of Injury                   574026 non-null  object        \n",
      " 34  District Name                      574026 non-null  object        \n",
      " 35  First Hearing Date                 150798 non-null  datetime64[ns]\n",
      " 36  First Hearing Date Binary          574026 non-null  int32         \n",
      " 37  First Hearing Date Day             150798 non-null  float64       \n",
      " 38  First Hearing Date Month           150798 non-null  float64       \n",
      " 39  First Hearing Date Weekday         150798 non-null  float64       \n",
      " 40  First Hearing Date Year            150798 non-null  float64       \n",
      " 41  Gender                             574026 non-null  object        \n",
      " 42  IME-4 Count                        132803 non-null  float64       \n",
      " 43  IME-4 Reported                     574026 non-null  int64         \n",
      " 44  Industry Code                      564068 non-null  float64       \n",
      " 45  Industry Code Description          564068 non-null  object        \n",
      " 46  Medical Fee Region                 574026 non-null  object        \n",
      " 47  Number of Dependents               574026 non-null  int64         \n",
      " 48  WCIO Cause of Injury Bucket        574026 non-null  object        \n",
      " 49  WCIO Cause of Injury Code          574026 non-null  int64         \n",
      " 50  WCIO Cause of Injury Description   574026 non-null  object        \n",
      " 51  WCIO Nature of Injury Bucket       574026 non-null  object        \n",
      " 52  WCIO Nature of Injury Code         574026 non-null  int64         \n",
      " 53  WCIO Nature of Injury Description  574026 non-null  object        \n",
      " 54  WCIO Part Of Body Code             574026 non-null  int64         \n",
      " 55  WCIO Part Of Body Description      574026 non-null  object        \n",
      " 56  WCIO Part of Body Bucket           574026 non-null  object        \n",
      " 57  Weekly Wage Reported               574026 non-null  int64         \n",
      " 58  Zip Code                           574026 non-null  object        \n",
      "dtypes: datetime64[ns](5), float64(22), int32(6), int64(7), object(19)\n",
      "memory usage: 245.3+ MB\n"
     ]
    }
   ],
   "source": [
    "train_data[train_data.columns.sort_values()].info()"
   ]
  },
  {
   "cell_type": "code",
   "execution_count": 64,
   "id": "29684cbab218d806",
   "metadata": {
    "ExecuteTime": {
     "end_time": "2024-10-19T22:02:50.529326Z",
     "start_time": "2024-10-19T22:02:50.360200Z"
    },
    "deletable": true,
    "editable": true,
    "frozen": false
   },
   "outputs": [],
   "source": [
    "# Drop the Dates columns\n",
    "date_columns = ['Accident Date', 'Assembly Date', 'C-2 Date', 'C-3 Date', 'First Hearing Date'] # Because we have all extracted columns from it\n",
    "\n",
    "# Drop the columns based on Correlation Analysis [1st Notebook]\n",
    "columns_to_drop = ['Age at Injury',    # Because we have Age at Injury Cleaned\n",
    "                   'Birth Year',       # Because we have Age at Injury Cleaned [It's redundant]\n",
    "                   'Birth Year Clean', # Because we have Age at Injury Cleaned [It's redundant]\n",
    "                   'Average Weekly Wage', # Because we create a new column from it ['Weekly Wage Reported']\n",
    "                   'Carrier Name',     # Because we don't know how to treat text for now\n",
    "                   'Carrier Type',     # Because we create a new column from it ['Carrier Type Bucket']\n",
    "                   'IME-4 Count',      # Because we create a new column from it ['IME-4 Reported']\n",
    "                   'Industry Code Description',  # Because we have 'Industry Code'\n",
    "                   'Zip Code',          # Because we have 'Medical Fee Region' [It's redundant]\n",
    "                   'WCIO Cause of Injury Description',  # Because we have 'WCIO Cause of Injury Bucket'\n",
    "                   'WCIO Cause of Injury Code',         # Because we have 'WCIO Cause of Injury Bucket'\n",
    "                   'WCIO Part Of Body Description',     # Because we have 'WCIO Part of Body Bucket'\n",
    "                   'WCIO Part Of Body Code',            # Because we have 'WCIO Part of Body Bucket'\n",
    "                   'WCIO Nature of Injury Description', # Because we have 'WCIO Nature of Injury Bucket'\n",
    "                   'WCIO Nature of Injury Code',        # Because we have 'WCIO Nature of Injury Bucket'\n",
    "\n",
    "                   # Dates columns that we don't need\n",
    "                   'C-3 Date Year', 'C-3 Date Month', 'C-3 Date Day', 'C-3 Date Weekday',\n",
    "                   'First Hearing Date Year', 'First Hearing Date Month', 'First Hearing Date Day', 'First Hearing Date Weekday'\n",
    "]\n",
    "\n",
    "train_data = train_data.drop(columns = date_columns + columns_to_drop)\n",
    "test_data = test_data.drop(columns = date_columns + columns_to_drop)"
   ]
  },
  {
   "cell_type": "code",
   "execution_count": 65,
   "id": "c8c93f4a24b512da",
   "metadata": {
    "ExecuteTime": {
     "end_time": "2024-10-19T22:02:51.326671Z",
     "start_time": "2024-10-19T22:02:50.807617Z"
    },
    "deletable": true,
    "editable": true,
    "frozen": false
   },
   "outputs": [
    {
     "data": {
      "text/plain": [
       "Index([], dtype='object')"
      ]
     },
     "execution_count": 65,
     "metadata": {},
     "output_type": "execute_result"
    }
   ],
   "source": [
    "# Show the columns of the training set (train_data) that have missing values and are 'object' type\n",
    "train_data.select_dtypes(include = 'object').columns[train_data.select_dtypes(include = 'object').isnull().any()]"
   ]
  },
  {
   "cell_type": "markdown",
   "id": "cb01c546",
   "metadata": {},
   "source": [
    "> Since our approach to the **`NA's`** of categorical variables is to replace them with a new category, it is confirmed that no variable currently has **`NA's`**."
   ]
  },
  {
   "cell_type": "code",
   "execution_count": 67,
   "id": "e3c510098466c749",
   "metadata": {
    "ExecuteTime": {
     "end_time": "2024-10-19T22:02:52.330329Z",
     "start_time": "2024-10-19T22:02:52.277332Z"
    }
   },
   "outputs": [
    {
     "data": {
      "text/plain": [
       "Index(['Alternative Dispute Resolution', 'Attorney/Representative',\n",
       "       'County of Injury', 'COVID-19 Indicator', 'District Name', 'Gender',\n",
       "       'Medical Fee Region', 'Carrier Type Bucket',\n",
       "       'WCIO Cause of Injury Bucket', 'WCIO Nature of Injury Bucket',\n",
       "       'WCIO Part of Body Bucket', 'Claim Injury Type'],\n",
       "      dtype='object')"
      ]
     },
     "execution_count": 67,
     "metadata": {},
     "output_type": "execute_result"
    }
   ],
   "source": [
    "# Show the columns of the training set 'object' type\n",
    "train_data.select_dtypes(include = 'object').columns"
   ]
  },
  {
   "cell_type": "markdown",
   "id": "1e55d565",
   "metadata": {},
   "source": [
    "> For **`object`** type variables, we will use some **Enconding** techniques to transform them into **numerical** variables, since the model does not accept **`object`** type variables."
   ]
  },
  {
   "cell_type": "markdown",
   "id": "20daf57f13274aa",
   "metadata": {},
   "source": [
    "---"
   ]
  },
  {
   "cell_type": "markdown",
   "id": "b71790756d7cf2c",
   "metadata": {},
   "source": [
    "### ⚖️ **Training/Validation Division**\n",
    "\n",
    "> Before starting the feature engineering process that will be carried out in the next steps, we will divide the training data into training and validation sets. This will allow us to evaluate the performance of the models we will develop."
   ]
  },
  {
   "cell_type": "code",
   "execution_count": 68,
   "id": "cf6ff2b5d693ca05",
   "metadata": {
    "ExecuteTime": {
     "end_time": "2024-10-19T22:40:21.850731Z",
     "start_time": "2024-10-19T22:40:20.876257Z"
    },
    "deletable": true,
    "editable": true,
    "frozen": false
   },
   "outputs": [],
   "source": [
    "# Splitting the data into training and validation sets\n",
    "X = train_data.drop(columns = ['Claim Injury Type'])\n",
    "y = train_data['Claim Injury Type']\n",
    "X_train, X_val, y_train, y_val = train_test_split(X,y,                 # X and y\n",
    "                                                  test_size = 0.25,    # 75% train, 25% validation\n",
    "                                                  random_state = 2024, # Seed\n",
    "                                                  stratify = y,        # Keep the same proportion of target classes (because of imbalance)\n",
    "                                                  shuffle = True)      # Shuffle the data"
   ]
  },
  {
   "cell_type": "code",
   "execution_count": 69,
   "id": "73c750ca0d197293",
   "metadata": {
    "ExecuteTime": {
     "end_time": "2024-10-19T22:40:23.189229Z",
     "start_time": "2024-10-19T22:40:23.180787Z"
    }
   },
   "outputs": [
    {
     "data": {
      "text/plain": [
       "((430519, 30), (143507, 30))"
      ]
     },
     "execution_count": 69,
     "metadata": {},
     "output_type": "execute_result"
    }
   ],
   "source": [
    "# Check the shape of the training and validation sets\n",
    "X_train.shape, X_val.shape"
   ]
  },
  {
   "cell_type": "code",
   "execution_count": 70,
   "id": "2e3f3ccc8fdd6c97",
   "metadata": {
    "ExecuteTime": {
     "end_time": "2024-10-19T22:40:23.754874Z",
     "start_time": "2024-10-19T22:40:23.751508Z"
    }
   },
   "outputs": [
    {
     "data": {
      "text/plain": [
       "set()"
      ]
     },
     "execution_count": 70,
     "metadata": {},
     "output_type": "execute_result"
    }
   ],
   "source": [
    "# Check the columns of the training set (X_train) that are not in the validation set (X_val)\n",
    "set(X_train.columns) - set(X_val.columns) # Perfect!"
   ]
  },
  {
   "cell_type": "code",
   "execution_count": 71,
   "id": "3db0378677b0628",
   "metadata": {
    "ExecuteTime": {
     "end_time": "2024-10-19T22:40:24.420589Z",
     "start_time": "2024-10-19T22:40:24.247744Z"
    }
   },
   "outputs": [
    {
     "name": "stdout",
     "output_type": "stream",
     "text": [
      "<class 'pandas.core.frame.DataFrame'>\n",
      "Index: 430519 entries, 522354 to 179683\n",
      "Data columns (total 30 columns):\n",
      " #   Column                          Non-Null Count   Dtype  \n",
      "---  ------                          --------------   -----  \n",
      " 0   Alternative Dispute Resolution  430519 non-null  object \n",
      " 1   Attorney/Representative         430519 non-null  object \n",
      " 2   County of Injury                430519 non-null  object \n",
      " 3   COVID-19 Indicator              430519 non-null  object \n",
      " 4   District Name                   430519 non-null  object \n",
      " 5   Gender                          430519 non-null  object \n",
      " 6   Industry Code                   423065 non-null  float64\n",
      " 7   Medical Fee Region              430519 non-null  object \n",
      " 8   Number of Dependents            430519 non-null  int64  \n",
      " 9   C-3 Date Binary                 430519 non-null  int32  \n",
      " 10  First Hearing Date Binary       430519 non-null  int32  \n",
      " 11  Age at Injury Clean             428886 non-null  float64\n",
      " 12  Weekly Wage Reported            430519 non-null  int64  \n",
      " 13  IME-4 Reported                  430519 non-null  int64  \n",
      " 14  Carrier Type Bucket             430519 non-null  object \n",
      " 15  WCIO Cause of Injury Bucket     430519 non-null  object \n",
      " 16  WCIO Nature of Injury Bucket    430519 non-null  object \n",
      " 17  WCIO Part of Body Bucket        430519 non-null  object \n",
      " 18  Accident Date Year              427807 non-null  float64\n",
      " 19  Accident Date Month             427807 non-null  float64\n",
      " 20  Accident Date Day               427807 non-null  float64\n",
      " 21  Accident Date Weekday           427807 non-null  float64\n",
      " 22  Assembly Date Year              430519 non-null  int32  \n",
      " 23  Assembly Date Month             430519 non-null  int32  \n",
      " 24  Assembly Date Day               430519 non-null  int32  \n",
      " 25  Assembly Date Weekday           430519 non-null  int32  \n",
      " 26  C-2 Date Year                   419616 non-null  float64\n",
      " 27  C-2 Date Month                  419616 non-null  float64\n",
      " 28  C-2 Date Day                    419616 non-null  float64\n",
      " 29  C-2 Date Weekday                419616 non-null  float64\n",
      "dtypes: float64(10), int32(6), int64(3), object(11)\n",
      "memory usage: 92.0+ MB\n"
     ]
    }
   ],
   "source": [
    "# Check the information of the training set\n",
    "X_train.info()"
   ]
  },
  {
   "cell_type": "code",
   "execution_count": 72,
   "id": "7278e1d9a9915246",
   "metadata": {
    "ExecuteTime": {
     "end_time": "2024-10-19T22:40:24.872864Z",
     "start_time": "2024-10-19T22:40:24.773309Z"
    },
    "deletable": true,
    "editable": true,
    "frozen": false
   },
   "outputs": [
    {
     "data": {
      "text/plain": [
       "Index(['Industry Code', 'Age at Injury Clean', 'Accident Date Year',\n",
       "       'Accident Date Month', 'Accident Date Day', 'Accident Date Weekday',\n",
       "       'C-2 Date Year', 'C-2 Date Month', 'C-2 Date Day', 'C-2 Date Weekday'],\n",
       "      dtype='object')"
      ]
     },
     "execution_count": 72,
     "metadata": {},
     "output_type": "execute_result"
    }
   ],
   "source": [
    "# Show the columns of the training set (X_train) that have missing values\n",
    "X_train.columns[X_train.isnull().any()]"
   ]
  },
  {
   "cell_type": "markdown",
   "id": "ed34d0a1",
   "metadata": {},
   "source": [
    "> Since we have missing values in the dataset, we will need to use some technique to fill in on next steps."
   ]
  },
  {
   "cell_type": "markdown",
   "id": "c140824eeaf145d6",
   "metadata": {},
   "source": [
    "---"
   ]
  },
  {
   "cell_type": "markdown",
   "id": "ef5b76cd360cdbdd",
   "metadata": {},
   "source": [
    "### <a class='anchor' id='DP_FeatureEng'></a> 🛠️ **Feature Engineering**"
   ]
  },
  {
   "cell_type": "markdown",
   "id": "a7f14a60fb129b11",
   "metadata": {},
   "source": [
    "##### **Most Used Feature Engineering Techniques**\n",
    "\n",
    "+ **Binning / Bucketizing** ✅    \n",
    "  - Grouping of values into \"bins\" or \"buckets\"\n",
    "  \n",
    "<br>\n",
    "\n",
    "1. **Splitting the Data** ✅\n",
    "    - Training Data\n",
    "    - Validation Data\n",
    "\n",
    "2. **Handling Missing Values**\n",
    "    - Drop Missing Values\n",
    "    - Impute Missing Values (e.g., using some statistical measure, KNN, etc.)\n",
    "\n",
    "3. **Encoding**\n",
    "    - Label Encoding using Scikit-learn\n",
    "    - One-Hot Encoding using Scikit-learn\n",
    "\n",
    "4. **Multicollinearity**\n",
    "    - Variance Inflation Factor (VIF)\n",
    "  \n",
    "5. **Normalize / Standardize** <sup>*</sup> [We will do it on the next notebook] - [3. Modeling&Evaluation]('./3_Modeling&Evaluation_MLProject_Group33.ipynb')\n",
    "    - Normalize and Standardize using Scikit-learn\n",
    "\n",
    "<br>\n",
    "\n",
    "<sup><b>*</b></sup>\n",
    "**Note:** We will **Normalize / Standardize** the data in the next notebook, since that will create more datasets to work with. It is better to do it after the **Feature Engineering** process.\n",
    "\n"
   ]
  },
  {
   "cell_type": "markdown",
   "id": "ec9770787d833d52",
   "metadata": {},
   "source": [
    "---"
   ]
  },
  {
   "cell_type": "markdown",
   "id": "59a308e2b11ec43a",
   "metadata": {},
   "source": [
    "#### **2 | Handling Missing Values**"
   ]
  },
  {
   "cell_type": "code",
   "execution_count": null,
   "id": "85104b215ed0a41",
   "metadata": {
    "ExecuteTime": {
     "end_time": "2024-10-19T22:45:08.145616Z",
     "start_time": "2024-10-19T22:45:07.923347Z"
    }
   },
   "outputs": [],
   "source": [
    "print(X_train.isnull().mean()[X_train.isnull().mean() > 0]*100)"
   ]
  },
  {
   "cell_type": "code",
   "execution_count": 85,
   "id": "1418c959070c89af",
   "metadata": {
    "ExecuteTime": {
     "end_time": "2024-10-19T22:45:08.672059Z",
     "start_time": "2024-10-19T22:45:08.546879Z"
    }
   },
   "outputs": [
    {
     "data": {
      "text/plain": [
       "Index(['Industry Code', 'Age at Injury Clean', 'Accident Date Year',\n",
       "       'Accident Date Month', 'Accident Date Day', 'Accident Date Weekday',\n",
       "       'C-2 Date Year', 'C-2 Date Month', 'C-2 Date Day', 'C-2 Date Weekday'],\n",
       "      dtype='object')"
      ]
     },
     "execution_count": 85,
     "metadata": {},
     "output_type": "execute_result"
    }
   ],
   "source": [
    "# Check the columns of the training set (X_train) that have missing values\n",
    "X_train.columns[X_train.isnull().sum()>0]"
   ]
  },
  {
   "cell_type": "markdown",
   "id": "369244e1",
   "metadata": {},
   "source": [
    "> Since **`Industry Code`** are categorical variables, we will replace the **`NA's`** with a new category **`0` $\\rightarrow$ Unknown**.\n",
    "> "
   ]
  },
  {
   "cell_type": "code",
   "execution_count": 90,
   "id": "6fc384be",
   "metadata": {},
   "outputs": [
    {
     "data": {
      "text/plain": [
       "Index(['Age at Injury Clean', 'Accident Date Year', 'Accident Date Month',\n",
       "       'Accident Date Day', 'Accident Date Weekday', 'C-2 Date Year',\n",
       "       'C-2 Date Month', 'C-2 Date Day', 'C-2 Date Weekday'],\n",
       "      dtype='object')"
      ]
     },
     "execution_count": 90,
     "metadata": {},
     "output_type": "execute_result"
    }
   ],
   "source": [
    "# Fill the missing values of 'Industry Code' with '0'\n",
    "X_train['Industry Code'] = X_train['Industry Code'].fillna(0)\n",
    "X_val['Industry Code'] = X_val['Industry Code'].fillna(0)\n",
    "test_data['Industry Code'] = test_data['Industry Code'].fillna(0)\n",
    "\n",
    "# Check the columns of the training set (X_train) that have missing values\n",
    "X_train.columns[X_train.isnull().sum()>0]"
   ]
  },
  {
   "cell_type": "markdown",
   "id": "089f50fb",
   "metadata": {},
   "source": [
    "---"
   ]
  },
  {
   "cell_type": "code",
   "execution_count": 91,
   "id": "2db4a59e0f91051e",
   "metadata": {
    "ExecuteTime": {
     "end_time": "2024-10-19T22:45:09.452797Z",
     "start_time": "2024-10-19T22:45:09.209756Z"
    }
   },
   "outputs": [],
   "source": [
    "######################### First Approach: Filling with Central Tendency Measures #########################\n",
    "# # Impute missing values of Dates columns with the 'mean' strategy [Because they don't have outliers]\n",
    "# for col in ['Accident Date Year', 'Accident Date Month', 'Accident Date Day', 'Accident Date Weekday',\n",
    "#             'Assembly Date Year', 'Assembly Date Month', 'Assembly Date Day', 'Assembly Date Weekday',\n",
    "#             'C-2 Date Year', 'C-2 Date Month', 'C-2 Date Day', 'C-2 Date Weekday',\n",
    "    \n",
    "#             ###################### TEMPORARY ######################\n",
    "#             'Average Weekly Wage', 'Birth Year', 'Industry Code',\n",
    "#             'WCIO Cause of Injury Code', 'WCIO Nature of Injury Code',\n",
    "#             'WCIO Part Of Body Code', 'Birth Year Clean', 'Age at Injury Clean'\n",
    "#             ]:\n",
    "    \n",
    "#     # Mean value for each column in the training, validation and test data\n",
    "#     mean_value_X_train = X_train[col].mean()\n",
    "#     mean_value_X_val = X_val[col].mean()\n",
    "#     mean_value_test_data = test_data[col].mean()\n",
    "    \n",
    "#     # Fill missing values\n",
    "#     X_train[col].fillna(mean_value_X_train, inplace = True)\n",
    "#     X_val[col].fillna(mean_value_X_val, inplace = True)\n",
    "#     test_data[col].fillna(mean_value_test_data, inplace = True)\n",
    "\n",
    "##############################################################################################################"
   ]
  },
  {
   "cell_type": "markdown",
   "id": "cff71fffec3176dc",
   "metadata": {},
   "source": [
    "##### **KNN Imputer <sup>[[1]](https://scikit-learn.org/stable/modules/generated/sklearn.impute.KNNImputer.html)</sup>**"
   ]
  },
  {
   "cell_type": "code",
   "execution_count": null,
   "id": "177feb9afba9f66a",
   "metadata": {
    "ExecuteTime": {
     "end_time": "2024-10-19T22:45:13.081548Z",
     "start_time": "2024-10-19T22:45:12.692424Z"
    },
    "deletable": true,
    "editable": true,
    "frozen": false
   },
   "outputs": [],
   "source": [
    "# Fill the rest of columns with missing values with the KNNImputer\n",
    "\n",
    "# Copy the data\n",
    "df_knn_imputed = X_train.copy(deep=True)                             # deep=True to avoid the SettingWithCopyWarning\n",
    "df_knn_imputed_n = df_knn_imputed.select_dtypes(include=\"number\")    # Select numerical columns\n",
    "\n",
    "# Init the transformer\n",
    "knn_imp = KNNImputer()                                               # k=5 is the default \n",
    "\n",
    "# Fit/transform\n",
    "df_knn_imputed_n.loc[:, :] = knn_imp.fit_transform(df_knn_imputed_n)\n",
    "\n",
    "# Check the columns of the training set (X_train) that have missing values\n",
    "df_knn_imputed_n.columns[X_train.isnull().sum()>0]"
   ]
  },
  {
   "cell_type": "code",
   "execution_count": 25,
   "id": "6efc7f26d22a86ad",
   "metadata": {
    "ExecuteTime": {
     "end_time": "2024-10-19T22:45:13.983836Z",
     "start_time": "2024-10-19T22:45:13.602056Z"
    },
    "deletable": true,
    "editable": true,
    "frozen": false
   },
   "outputs": [],
   "source": [
    "# Now do the same for the validation and test data\n",
    "X_val_knn_imputed = X_val.copy(deep=True)\n",
    "X_val_knn_imputed_n = X_val_knn_imputed.select_dtypes(include=\"number\")\n",
    "X_val_knn_imputed_n.loc[:, :] = knn_imp.transform(X_val_knn_imputed_n)\n",
    "\n",
    "test_data_knn_imputed = test_data.copy(deep=True)\n",
    "test_data_knn_imputed_n = test_data_knn_imputed.select_dtypes(include=\"number\")\n",
    "test_data_knn_imputed_n.loc[:, :] = knn_imp.transform(test_data_knn_imputed_n)"
   ]
  },
  {
   "cell_type": "markdown",
   "id": "5a902a154450ec22",
   "metadata": {},
   "source": [
    "---"
   ]
  },
  {
   "attachments": {
    "7b786988-9fc6-45e0-8b99-454eaf7af8dd.png": {
     "image/png": "[encoded data removed]"
    }
   },
   "cell_type": "markdown",
   "id": "542c0294",
   "metadata": {},
   "source": [
    "#### **3 | Encoding**\n",
    "\n",
    "- Feature encoding is a process used to transform categorical data into numerical values that can be understood by ML algorithms. \n",
    "- There are several types of encoding, including label encoding and one-hot encoding.\n",
    "\n",
    "<br><br>\n",
    "\n",
    "<div style=\"max-width:750px; display: block; margin: 0 auto;\">\n",
    "\n",
    "![\"Encoding.png\"](attachment:7b786988-9fc6-45e0-8b99-454eaf7af8dd.png)\n",
    "    \n",
    "</div>\n",
    "\n",
    "\n",
    "---\n",
    "\n",
    "##### **Label Encoding**\n",
    "\n",
    "- **Label encoding** involves assigning a numeric value to each categorical value. \n",
    "- Can be effective if exists an inherent order to the categorical values, which can be encoded as numeric values from $1$ to $k$. \n",
    "- This way of encoding can cause problems for some algorithms because the assigned integers do not necessarily reflect any inherent order or relationship between the categories. \n",
    "- Alternatively, you can use **One-hot encoding** to transform categorical values into numerical values.\n",
    "\n",
    "<br>\n",
    "\n",
    "##### **One-Hot Encoding**\n",
    "\n",
    "- In **One-hot encoding**, the column of categorical values is split into several new columns, one for each unique categorical value.\n",
    "- Alternatively, you can use **One-hot encoding** to transform categorical values into numerical values. \n",
    "- In **one-hot encoding**, we represent a categorical variable as a group of binary variables, where each binary variable represents one category. \n",
    "- The binary variable indicates whether the category is present in an observation ($1$) or not ($0$). \n",
    "- A categorical variable with $n$ unique categories can be encoded in $(n-1)$ binary variables.\n",
    "- This results in a *sparse matrix*, where most of the values are $0$.\n",
    "- The disadvantage of one-hot encoding is that it can significantly increase the size of the dataset, which can be a problem if the column you want to encode contains hundreds or thousands of unique categorical values.\n",
    "- I.e., the problem with one-hot encoding is that it can lead to large and sparse datasets with high dimensionality."
   ]
  },
  {
   "cell_type": "code",
   "execution_count": 73,
   "id": "e00c5a0f8c96b3ca",
   "metadata": {
    "ExecuteTime": {
     "end_time": "2024-10-19T22:44:24.931124Z",
     "start_time": "2024-10-19T22:44:24.880621Z"
    }
   },
   "outputs": [
    {
     "data": {
      "text/html": [
       "<div>\n",
       "<style scoped>\n",
       "    .dataframe tbody tr th:only-of-type {\n",
       "        vertical-align: middle;\n",
       "    }\n",
       "\n",
       "    .dataframe tbody tr th {\n",
       "        vertical-align: top;\n",
       "    }\n",
       "\n",
       "    .dataframe thead th {\n",
       "        text-align: right;\n",
       "    }\n",
       "</style>\n",
       "<table border=\"1\" class=\"dataframe\">\n",
       "  <thead>\n",
       "    <tr style=\"text-align: right;\">\n",
       "      <th></th>\n",
       "      <th>Original</th>\n",
       "      <th>Encoded</th>\n",
       "    </tr>\n",
       "  </thead>\n",
       "  <tbody>\n",
       "    <tr>\n",
       "      <th>522354</th>\n",
       "      <td>2. NON-COMP</td>\n",
       "      <td>2</td>\n",
       "    </tr>\n",
       "    <tr>\n",
       "      <th>106294</th>\n",
       "      <td>4. TEMPORARY</td>\n",
       "      <td>4</td>\n",
       "    </tr>\n",
       "    <tr>\n",
       "      <th>239178</th>\n",
       "      <td>2. NON-COMP</td>\n",
       "      <td>2</td>\n",
       "    </tr>\n",
       "    <tr>\n",
       "      <th>276985</th>\n",
       "      <td>4. TEMPORARY</td>\n",
       "      <td>4</td>\n",
       "    </tr>\n",
       "    <tr>\n",
       "      <th>548104</th>\n",
       "      <td>2. NON-COMP</td>\n",
       "      <td>2</td>\n",
       "    </tr>\n",
       "    <tr>\n",
       "      <th>...</th>\n",
       "      <td>...</td>\n",
       "      <td>...</td>\n",
       "    </tr>\n",
       "    <tr>\n",
       "      <th>163734</th>\n",
       "      <td>2. NON-COMP</td>\n",
       "      <td>2</td>\n",
       "    </tr>\n",
       "    <tr>\n",
       "      <th>447809</th>\n",
       "      <td>4. TEMPORARY</td>\n",
       "      <td>4</td>\n",
       "    </tr>\n",
       "    <tr>\n",
       "      <th>197034</th>\n",
       "      <td>4. TEMPORARY</td>\n",
       "      <td>4</td>\n",
       "    </tr>\n",
       "    <tr>\n",
       "      <th>261663</th>\n",
       "      <td>3. MED ONLY</td>\n",
       "      <td>3</td>\n",
       "    </tr>\n",
       "    <tr>\n",
       "      <th>179683</th>\n",
       "      <td>2. NON-COMP</td>\n",
       "      <td>2</td>\n",
       "    </tr>\n",
       "  </tbody>\n",
       "</table>\n",
       "<p>430519 rows × 2 columns</p>\n",
       "</div>"
      ],
      "text/plain": [
       "            Original  Encoded\n",
       "522354   2. NON-COMP        2\n",
       "106294  4. TEMPORARY        4\n",
       "239178   2. NON-COMP        2\n",
       "276985  4. TEMPORARY        4\n",
       "548104   2. NON-COMP        2\n",
       "...              ...      ...\n",
       "163734   2. NON-COMP        2\n",
       "447809  4. TEMPORARY        4\n",
       "197034  4. TEMPORARY        4\n",
       "261663   3. MED ONLY        3\n",
       "179683   2. NON-COMP        2\n",
       "\n",
       "[430519 rows x 2 columns]"
      ]
     },
     "execution_count": 73,
     "metadata": {},
     "output_type": "execute_result"
    }
   ],
   "source": [
    "# Mapping the target variable 'Claim Injury Type' to numerical values\n",
    "claim_injury_type_dict = {\"1. CANCELLED\": 1, \"2. NON-COMP\": 2, \"3. MED ONLY\": 3, \"4. TEMPORARY\": 4, \n",
    "                          \"5. PPD SCH LOSS\": 5, \"6. PPD NSL\": 6, \"7. PTD\": 7, \"8. DEATH\": 8}\n",
    "\n",
    "# Encode the target variable\n",
    "y_train_encoded = y_train.map(claim_injury_type_dict)\n",
    "y_val_encoded = y_val.map(claim_injury_type_dict)\n",
    "\n",
    "# Check the first 5 values of the encoded target variable [Compare with the original target variable]\n",
    "pd.DataFrame({'Original': y_train, 'Encoded': y_train_encoded})"
   ]
  },
  {
   "cell_type": "code",
   "execution_count": 74,
   "id": "d9676cca50a0122e",
   "metadata": {
    "ExecuteTime": {
     "end_time": "2024-10-19T22:44:49.206698Z",
     "start_time": "2024-10-19T22:44:49.200979Z"
    }
   },
   "outputs": [],
   "source": [
    "# Replace the target variable 'Claim Injury Type' with the encoded values, after confirming the correctness of the encoding\n",
    "y_train = y_train_encoded\n",
    "y_val = y_val_encoded"
   ]
  },
  {
   "cell_type": "markdown",
   "id": "8d616991",
   "metadata": {},
   "source": [
    "<div class=\"alert alert-block alert-info\" style=\"font-size: 50px;\">\n",
    "\n",
    "> CONFIRMAR O QUE ESTÁ NO NOTEBOOK DA AULA\n",
    "\n",
    "</div>"
   ]
  },
  {
   "cell_type": "code",
   "execution_count": 81,
   "id": "83c4ceebe9f25d61",
   "metadata": {
    "ExecuteTime": {
     "end_time": "2024-10-19T22:45:04.860439Z",
     "start_time": "2024-10-19T22:45:03.811683Z"
    }
   },
   "outputs": [],
   "source": [
    "################### First Approach: Label Encoding ###################\n",
    "# Label Encoding\n",
    "\n",
    "# Create a new dataframe to store the encoded columns\n",
    "X_train_encoded = X_train.copy()\n",
    "X_val_encoded = X_val.copy()\n",
    "test_data_encoded = test_data.copy()\n",
    "\n",
    "# Initialize the LabelEncoder\n",
    "label_encoder = LabelEncoder()\n",
    "\n",
    "# Fit and transform the training data [All categorical columns will be transformed into numerical values]\n",
    "for col in X_train.select_dtypes(include = 'object').columns:\n",
    "    \n",
    "    # Fit and transform the training data and save it in the same dataframe with '_encoded' suffix\n",
    "    X_train[col] = label_encoder.fit_transform(X_train[col])\n",
    "    \n",
    "    # Transform the validation data -> I just 'transform' it because the label_encoder is already fitted on the training data\n",
    "    X_val[col] = label_encoder.transform(X_val[col])\n",
    "    \n",
    "    # Transform the test data\n",
    "    test_data[col] = label_encoder.transform(test_data[col])\n",
    "\n",
    "######################################################################"
   ]
  },
  {
   "cell_type": "code",
   "execution_count": 82,
   "id": "284b9bc8d5fc3b0b",
   "metadata": {
    "ExecuteTime": {
     "end_time": "2024-10-19T22:45:05.420375Z",
     "start_time": "2024-10-19T22:45:05.404578Z"
    }
   },
   "outputs": [
    {
     "data": {
      "text/html": [
       "<div>\n",
       "<style scoped>\n",
       "    .dataframe tbody tr th:only-of-type {\n",
       "        vertical-align: middle;\n",
       "    }\n",
       "\n",
       "    .dataframe tbody tr th {\n",
       "        vertical-align: top;\n",
       "    }\n",
       "\n",
       "    .dataframe thead th {\n",
       "        text-align: right;\n",
       "    }\n",
       "</style>\n",
       "<table border=\"1\" class=\"dataframe\">\n",
       "  <thead>\n",
       "    <tr style=\"text-align: right;\">\n",
       "      <th></th>\n",
       "      <th>Alternative Dispute Resolution</th>\n",
       "      <th>Attorney/Representative</th>\n",
       "      <th>County of Injury</th>\n",
       "      <th>COVID-19 Indicator</th>\n",
       "      <th>District Name</th>\n",
       "      <th>Gender</th>\n",
       "      <th>Industry Code</th>\n",
       "      <th>Medical Fee Region</th>\n",
       "      <th>Number of Dependents</th>\n",
       "      <th>C-3 Date Binary</th>\n",
       "      <th>First Hearing Date Binary</th>\n",
       "      <th>Age at Injury Clean</th>\n",
       "      <th>Weekly Wage Reported</th>\n",
       "      <th>IME-4 Reported</th>\n",
       "      <th>Carrier Type Bucket</th>\n",
       "      <th>WCIO Cause of Injury Bucket</th>\n",
       "      <th>WCIO Nature of Injury Bucket</th>\n",
       "      <th>WCIO Part of Body Bucket</th>\n",
       "      <th>Accident Date Year</th>\n",
       "      <th>Accident Date Month</th>\n",
       "      <th>Accident Date Day</th>\n",
       "      <th>Accident Date Weekday</th>\n",
       "      <th>Assembly Date Year</th>\n",
       "      <th>Assembly Date Month</th>\n",
       "      <th>Assembly Date Day</th>\n",
       "      <th>Assembly Date Weekday</th>\n",
       "      <th>C-2 Date Year</th>\n",
       "      <th>C-2 Date Month</th>\n",
       "      <th>C-2 Date Day</th>\n",
       "      <th>C-2 Date Weekday</th>\n",
       "      <th>Alternative Dispute Resolution_encoded</th>\n",
       "      <th>Attorney/Representative_encoded</th>\n",
       "      <th>County of Injury_encoded</th>\n",
       "      <th>COVID-19 Indicator_encoded</th>\n",
       "      <th>District Name_encoded</th>\n",
       "      <th>Gender_encoded</th>\n",
       "      <th>Medical Fee Region_encoded</th>\n",
       "      <th>Carrier Type Bucket_encoded</th>\n",
       "      <th>WCIO Cause of Injury Bucket_encoded</th>\n",
       "      <th>WCIO Nature of Injury Bucket_encoded</th>\n",
       "      <th>WCIO Part of Body Bucket_encoded</th>\n",
       "    </tr>\n",
       "  </thead>\n",
       "  <tbody>\n",
       "    <tr>\n",
       "      <th>522354</th>\n",
       "      <td>0</td>\n",
       "      <td>0</td>\n",
       "      <td>6</td>\n",
       "      <td>0</td>\n",
       "      <td>2</td>\n",
       "      <td>0</td>\n",
       "      <td>56.0</td>\n",
       "      <td>0</td>\n",
       "      <td>6</td>\n",
       "      <td>1</td>\n",
       "      <td>1</td>\n",
       "      <td>47.0</td>\n",
       "      <td>0</td>\n",
       "      <td>0</td>\n",
       "      <td>1</td>\n",
       "      <td>5</td>\n",
       "      <td>1</td>\n",
       "      <td>5</td>\n",
       "      <td>2022.0</td>\n",
       "      <td>9.0</td>\n",
       "      <td>22.0</td>\n",
       "      <td>3.0</td>\n",
       "      <td>2022</td>\n",
       "      <td>9</td>\n",
       "      <td>27</td>\n",
       "      <td>1</td>\n",
       "      <td>2022.0</td>\n",
       "      <td>9.0</td>\n",
       "      <td>27.0</td>\n",
       "      <td>1.0</td>\n",
       "      <td>0</td>\n",
       "      <td>0</td>\n",
       "      <td>6</td>\n",
       "      <td>0</td>\n",
       "      <td>2</td>\n",
       "      <td>0</td>\n",
       "      <td>0</td>\n",
       "      <td>1</td>\n",
       "      <td>5</td>\n",
       "      <td>1</td>\n",
       "      <td>5</td>\n",
       "    </tr>\n",
       "    <tr>\n",
       "      <th>106294</th>\n",
       "      <td>0</td>\n",
       "      <td>1</td>\n",
       "      <td>23</td>\n",
       "      <td>0</td>\n",
       "      <td>4</td>\n",
       "      <td>0</td>\n",
       "      <td>62.0</td>\n",
       "      <td>3</td>\n",
       "      <td>3</td>\n",
       "      <td>0</td>\n",
       "      <td>0</td>\n",
       "      <td>52.0</td>\n",
       "      <td>1</td>\n",
       "      <td>1</td>\n",
       "      <td>1</td>\n",
       "      <td>9</td>\n",
       "      <td>1</td>\n",
       "      <td>2</td>\n",
       "      <td>2020.0</td>\n",
       "      <td>8.0</td>\n",
       "      <td>5.0</td>\n",
       "      <td>2.0</td>\n",
       "      <td>2020</td>\n",
       "      <td>8</td>\n",
       "      <td>13</td>\n",
       "      <td>3</td>\n",
       "      <td>2020.0</td>\n",
       "      <td>8.0</td>\n",
       "      <td>17.0</td>\n",
       "      <td>0.0</td>\n",
       "      <td>0</td>\n",
       "      <td>1</td>\n",
       "      <td>23</td>\n",
       "      <td>0</td>\n",
       "      <td>4</td>\n",
       "      <td>0</td>\n",
       "      <td>3</td>\n",
       "      <td>1</td>\n",
       "      <td>9</td>\n",
       "      <td>1</td>\n",
       "      <td>2</td>\n",
       "    </tr>\n",
       "  </tbody>\n",
       "</table>\n",
       "</div>"
      ],
      "text/plain": [
       "        Alternative Dispute Resolution  Attorney/Representative  \\\n",
       "522354                               0                        0   \n",
       "106294                               0                        1   \n",
       "\n",
       "        County of Injury  COVID-19 Indicator  District Name  Gender  \\\n",
       "522354                 6                   0              2       0   \n",
       "106294                23                   0              4       0   \n",
       "\n",
       "        Industry Code  Medical Fee Region  Number of Dependents  \\\n",
       "522354           56.0                   0                     6   \n",
       "106294           62.0                   3                     3   \n",
       "\n",
       "        C-3 Date Binary  First Hearing Date Binary  Age at Injury Clean  \\\n",
       "522354                1                          1                 47.0   \n",
       "106294                0                          0                 52.0   \n",
       "\n",
       "        Weekly Wage Reported  IME-4 Reported  Carrier Type Bucket  \\\n",
       "522354                     0               0                    1   \n",
       "106294                     1               1                    1   \n",
       "\n",
       "        WCIO Cause of Injury Bucket  WCIO Nature of Injury Bucket  \\\n",
       "522354                            5                             1   \n",
       "106294                            9                             1   \n",
       "\n",
       "        WCIO Part of Body Bucket  Accident Date Year  Accident Date Month  \\\n",
       "522354                         5              2022.0                  9.0   \n",
       "106294                         2              2020.0                  8.0   \n",
       "\n",
       "        Accident Date Day  Accident Date Weekday  Assembly Date Year  \\\n",
       "522354               22.0                    3.0                2022   \n",
       "106294                5.0                    2.0                2020   \n",
       "\n",
       "        Assembly Date Month  Assembly Date Day  Assembly Date Weekday  \\\n",
       "522354                    9                 27                      1   \n",
       "106294                    8                 13                      3   \n",
       "\n",
       "        C-2 Date Year  C-2 Date Month  C-2 Date Day  C-2 Date Weekday  \\\n",
       "522354         2022.0             9.0          27.0               1.0   \n",
       "106294         2020.0             8.0          17.0               0.0   \n",
       "\n",
       "        Alternative Dispute Resolution_encoded  \\\n",
       "522354                                       0   \n",
       "106294                                       0   \n",
       "\n",
       "        Attorney/Representative_encoded  County of Injury_encoded  \\\n",
       "522354                                0                         6   \n",
       "106294                                1                        23   \n",
       "\n",
       "        COVID-19 Indicator_encoded  District Name_encoded  Gender_encoded  \\\n",
       "522354                           0                      2               0   \n",
       "106294                           0                      4               0   \n",
       "\n",
       "        Medical Fee Region_encoded  Carrier Type Bucket_encoded  \\\n",
       "522354                           0                            1   \n",
       "106294                           3                            1   \n",
       "\n",
       "        WCIO Cause of Injury Bucket_encoded  \\\n",
       "522354                                    5   \n",
       "106294                                    9   \n",
       "\n",
       "        WCIO Nature of Injury Bucket_encoded  WCIO Part of Body Bucket_encoded  \n",
       "522354                                     1                                 5  \n",
       "106294                                     1                                 2  "
      ]
     },
     "execution_count": 82,
     "metadata": {},
     "output_type": "execute_result"
    }
   ],
   "source": [
    "# Check the label encoded columns\n",
    "X_train.head(2)"
   ]
  },
  {
   "cell_type": "code",
   "execution_count": 79,
   "id": "45d3e519a16d97ed",
   "metadata": {
    "ExecuteTime": {
     "end_time": "2024-10-19T22:45:06.392463Z",
     "start_time": "2024-10-19T22:45:06.388801Z"
    }
   },
   "outputs": [],
   "source": [
    "################### Second Approach: One-Hot Encoding ###################\n",
    "# One-Hot Encoding\n",
    "\n",
    "# Create a new dataframe for the One-Hot Encoding\n",
    "X_train_ohe = X_train.copy()\n",
    "X_val_ohe = X_val.copy()\n",
    "test_data_ohe = test_data.copy()\n",
    "\n",
    "# Initialize the OneHotEncoder\n",
    "one_hot_encoder = OneHotEncoder()\n",
    "\n",
    "# Fit and transform the training data [All categorical columns will be transformed into numerical values]\n",
    "for col in X_train.select_dtypes(include = 'object').columns:\n",
    "    \n",
    "    # ----------------------- Training Data -----------------------\n",
    "    # Fit and transform the training data\n",
    "    ohe = one_hot_encoder.fit_transform(X_train[col].values.reshape(-1,1)).toarray()\n",
    "\n",
    "    # Create a new dataframe with the encoded values\n",
    "    df_one_hot = pd.DataFrame(ohe, columns = [col + '_' + str(int(i)) for i in range(ohe.shape[1])])\n",
    "\n",
    "    # Concatenate the new dataframe with the training data\n",
    "    X_train_ohe = pd.concat([X_train_ohe, df_one_hot], axis = 1)\n",
    "\n",
    "    # Drop the original column\n",
    "    X_train_ohe = X_train_ohe.drop(columns = col)\n",
    "\n",
    "    # ----------------------- Validation Data -----------------------\n",
    "    # Transform the validation data\n",
    "    ohe = one_hot_encoder.transform(X_val[col].values.reshape(-1,1)).toarray()\n",
    "\n",
    "    # Create a new dataframe with the encoded values\n",
    "    df_one_hot = pd.DataFrame(ohe, columns = [col + '_' + str(int(i)) for i in range(ohe.shape[1])])\n",
    "\n",
    "    # Concatenate the new dataframe with the validation data\n",
    "    X_val_ohe = pd.concat([X_val_ohe, df_one_hot], axis = 1)\n",
    "\n",
    "    # Drop the original column\n",
    "    X_val_ohe = X_val_ohe.drop(columns = col)\n",
    "\n",
    "    # ----------------------- Test Data -----------------------\n",
    "    # Transform the test data\n",
    "    ohe = one_hot_encoder.transform(test_data[col].values.reshape(-1,1)).toarray()\n",
    "\n",
    "    # Create a new dataframe with the encoded values\n",
    "    df_one_hot = pd.DataFrame(ohe, columns = [col + '_' + str(int(i)) for i in range(ohe.shape[1])])\n",
    "\n",
    "    # Concatenate the new dataframe with the test data\n",
    "    test_data_ohe = pd.concat([test_data_ohe, df_one_hot], axis = 1)\n",
    "\n",
    "    # Drop the original column\n",
    "    test_data_ohe = test_data_ohe.drop(columns = col)\n",
    "    \n",
    "#########################################################################"
   ]
  },
  {
   "cell_type": "code",
   "execution_count": 83,
   "id": "80659b33",
   "metadata": {},
   "outputs": [
    {
     "data": {
      "text/html": [
       "<div>\n",
       "<style scoped>\n",
       "    .dataframe tbody tr th:only-of-type {\n",
       "        vertical-align: middle;\n",
       "    }\n",
       "\n",
       "    .dataframe tbody tr th {\n",
       "        vertical-align: top;\n",
       "    }\n",
       "\n",
       "    .dataframe thead th {\n",
       "        text-align: right;\n",
       "    }\n",
       "</style>\n",
       "<table border=\"1\" class=\"dataframe\">\n",
       "  <thead>\n",
       "    <tr style=\"text-align: right;\">\n",
       "      <th></th>\n",
       "      <th>Alternative Dispute Resolution</th>\n",
       "      <th>Attorney/Representative</th>\n",
       "      <th>County of Injury</th>\n",
       "      <th>COVID-19 Indicator</th>\n",
       "      <th>District Name</th>\n",
       "      <th>Gender</th>\n",
       "      <th>Industry Code</th>\n",
       "      <th>Medical Fee Region</th>\n",
       "      <th>Number of Dependents</th>\n",
       "      <th>C-3 Date Binary</th>\n",
       "      <th>First Hearing Date Binary</th>\n",
       "      <th>Age at Injury Clean</th>\n",
       "      <th>Weekly Wage Reported</th>\n",
       "      <th>IME-4 Reported</th>\n",
       "      <th>Carrier Type Bucket</th>\n",
       "      <th>WCIO Cause of Injury Bucket</th>\n",
       "      <th>WCIO Nature of Injury Bucket</th>\n",
       "      <th>WCIO Part of Body Bucket</th>\n",
       "      <th>Accident Date Year</th>\n",
       "      <th>Accident Date Month</th>\n",
       "      <th>Accident Date Day</th>\n",
       "      <th>Accident Date Weekday</th>\n",
       "      <th>Assembly Date Year</th>\n",
       "      <th>Assembly Date Month</th>\n",
       "      <th>Assembly Date Day</th>\n",
       "      <th>Assembly Date Weekday</th>\n",
       "      <th>C-2 Date Year</th>\n",
       "      <th>C-2 Date Month</th>\n",
       "      <th>C-2 Date Day</th>\n",
       "      <th>C-2 Date Weekday</th>\n",
       "      <th>Alternative Dispute Resolution_encoded</th>\n",
       "      <th>Attorney/Representative_encoded</th>\n",
       "      <th>County of Injury_encoded</th>\n",
       "      <th>COVID-19 Indicator_encoded</th>\n",
       "      <th>District Name_encoded</th>\n",
       "      <th>Gender_encoded</th>\n",
       "      <th>Medical Fee Region_encoded</th>\n",
       "      <th>Carrier Type Bucket_encoded</th>\n",
       "      <th>WCIO Cause of Injury Bucket_encoded</th>\n",
       "      <th>WCIO Nature of Injury Bucket_encoded</th>\n",
       "      <th>WCIO Part of Body Bucket_encoded</th>\n",
       "    </tr>\n",
       "  </thead>\n",
       "  <tbody>\n",
       "    <tr>\n",
       "      <th>522354</th>\n",
       "      <td>0</td>\n",
       "      <td>0</td>\n",
       "      <td>6</td>\n",
       "      <td>0</td>\n",
       "      <td>2</td>\n",
       "      <td>0</td>\n",
       "      <td>56.0</td>\n",
       "      <td>0</td>\n",
       "      <td>6</td>\n",
       "      <td>1</td>\n",
       "      <td>1</td>\n",
       "      <td>47.0</td>\n",
       "      <td>0</td>\n",
       "      <td>0</td>\n",
       "      <td>1</td>\n",
       "      <td>5</td>\n",
       "      <td>1</td>\n",
       "      <td>5</td>\n",
       "      <td>2022.0</td>\n",
       "      <td>9.0</td>\n",
       "      <td>22.0</td>\n",
       "      <td>3.0</td>\n",
       "      <td>2022</td>\n",
       "      <td>9</td>\n",
       "      <td>27</td>\n",
       "      <td>1</td>\n",
       "      <td>2022.0</td>\n",
       "      <td>9.0</td>\n",
       "      <td>27.0</td>\n",
       "      <td>1.0</td>\n",
       "      <td>0</td>\n",
       "      <td>0</td>\n",
       "      <td>6</td>\n",
       "      <td>0</td>\n",
       "      <td>2</td>\n",
       "      <td>0</td>\n",
       "      <td>0</td>\n",
       "      <td>1</td>\n",
       "      <td>5</td>\n",
       "      <td>1</td>\n",
       "      <td>5</td>\n",
       "    </tr>\n",
       "    <tr>\n",
       "      <th>106294</th>\n",
       "      <td>0</td>\n",
       "      <td>1</td>\n",
       "      <td>23</td>\n",
       "      <td>0</td>\n",
       "      <td>4</td>\n",
       "      <td>0</td>\n",
       "      <td>62.0</td>\n",
       "      <td>3</td>\n",
       "      <td>3</td>\n",
       "      <td>0</td>\n",
       "      <td>0</td>\n",
       "      <td>52.0</td>\n",
       "      <td>1</td>\n",
       "      <td>1</td>\n",
       "      <td>1</td>\n",
       "      <td>9</td>\n",
       "      <td>1</td>\n",
       "      <td>2</td>\n",
       "      <td>2020.0</td>\n",
       "      <td>8.0</td>\n",
       "      <td>5.0</td>\n",
       "      <td>2.0</td>\n",
       "      <td>2020</td>\n",
       "      <td>8</td>\n",
       "      <td>13</td>\n",
       "      <td>3</td>\n",
       "      <td>2020.0</td>\n",
       "      <td>8.0</td>\n",
       "      <td>17.0</td>\n",
       "      <td>0.0</td>\n",
       "      <td>0</td>\n",
       "      <td>1</td>\n",
       "      <td>23</td>\n",
       "      <td>0</td>\n",
       "      <td>4</td>\n",
       "      <td>0</td>\n",
       "      <td>3</td>\n",
       "      <td>1</td>\n",
       "      <td>9</td>\n",
       "      <td>1</td>\n",
       "      <td>2</td>\n",
       "    </tr>\n",
       "  </tbody>\n",
       "</table>\n",
       "</div>"
      ],
      "text/plain": [
       "        Alternative Dispute Resolution  Attorney/Representative  \\\n",
       "522354                               0                        0   \n",
       "106294                               0                        1   \n",
       "\n",
       "        County of Injury  COVID-19 Indicator  District Name  Gender  \\\n",
       "522354                 6                   0              2       0   \n",
       "106294                23                   0              4       0   \n",
       "\n",
       "        Industry Code  Medical Fee Region  Number of Dependents  \\\n",
       "522354           56.0                   0                     6   \n",
       "106294           62.0                   3                     3   \n",
       "\n",
       "        C-3 Date Binary  First Hearing Date Binary  Age at Injury Clean  \\\n",
       "522354                1                          1                 47.0   \n",
       "106294                0                          0                 52.0   \n",
       "\n",
       "        Weekly Wage Reported  IME-4 Reported  Carrier Type Bucket  \\\n",
       "522354                     0               0                    1   \n",
       "106294                     1               1                    1   \n",
       "\n",
       "        WCIO Cause of Injury Bucket  WCIO Nature of Injury Bucket  \\\n",
       "522354                            5                             1   \n",
       "106294                            9                             1   \n",
       "\n",
       "        WCIO Part of Body Bucket  Accident Date Year  Accident Date Month  \\\n",
       "522354                         5              2022.0                  9.0   \n",
       "106294                         2              2020.0                  8.0   \n",
       "\n",
       "        Accident Date Day  Accident Date Weekday  Assembly Date Year  \\\n",
       "522354               22.0                    3.0                2022   \n",
       "106294                5.0                    2.0                2020   \n",
       "\n",
       "        Assembly Date Month  Assembly Date Day  Assembly Date Weekday  \\\n",
       "522354                    9                 27                      1   \n",
       "106294                    8                 13                      3   \n",
       "\n",
       "        C-2 Date Year  C-2 Date Month  C-2 Date Day  C-2 Date Weekday  \\\n",
       "522354         2022.0             9.0          27.0               1.0   \n",
       "106294         2020.0             8.0          17.0               0.0   \n",
       "\n",
       "        Alternative Dispute Resolution_encoded  \\\n",
       "522354                                       0   \n",
       "106294                                       0   \n",
       "\n",
       "        Attorney/Representative_encoded  County of Injury_encoded  \\\n",
       "522354                                0                         6   \n",
       "106294                                1                        23   \n",
       "\n",
       "        COVID-19 Indicator_encoded  District Name_encoded  Gender_encoded  \\\n",
       "522354                           0                      2               0   \n",
       "106294                           0                      4               0   \n",
       "\n",
       "        Medical Fee Region_encoded  Carrier Type Bucket_encoded  \\\n",
       "522354                           0                            1   \n",
       "106294                           3                            1   \n",
       "\n",
       "        WCIO Cause of Injury Bucket_encoded  \\\n",
       "522354                                    5   \n",
       "106294                                    9   \n",
       "\n",
       "        WCIO Nature of Injury Bucket_encoded  WCIO Part of Body Bucket_encoded  \n",
       "522354                                     1                                 5  \n",
       "106294                                     1                                 2  "
      ]
     },
     "execution_count": 83,
     "metadata": {},
     "output_type": "execute_result"
    }
   ],
   "source": [
    "# Check the One-Hot encoded columns\n",
    "X_train_ohe.head(2)"
   ]
  },
  {
   "cell_type": "markdown",
   "id": "45566fe73b7e3880",
   "metadata": {},
   "source": [
    "---"
   ]
  },
  {
   "cell_type": "markdown",
   "id": "3870e09705aececb",
   "metadata": {},
   "source": [
    "#### **4 | Multicollinearity**"
   ]
  },
  {
   "cell_type": "code",
   "execution_count": null,
   "id": "c1dc7c2799907144",
   "metadata": {
    "ExecuteTime": {
     "end_time": "2024-10-19T22:45:44.175762Z",
     "start_time": "2024-10-19T22:45:20.224746Z"
    }
   },
   "outputs": [],
   "source": [
    "### use VIF to analise multicollinearity\n",
    "from statsmodels.stats.outliers_influence import variance_inflation_factor\n",
    "\n",
    "# Compute the vif for all given features\n",
    "def compute_vif(df, considered_features='all'):\n",
    "    \"\"\"\n",
    "    :param df: DataFrame containing the features to compute VIF for.\n",
    "    :param considered_features: List of features to consider for VIF calculation. If 'all', all features in the DataFrame will be considered.\n",
    "    \n",
    "    :return: DataFrame containing VIF values for the considered features.\n",
    "    \"\"\"\n",
    "    # If no features are given, consider all features\n",
    "    if considered_features == 'all':\n",
    "        considered_features = df.columns\n",
    "    \n",
    "    # Create a new dataframe with the considered features\n",
    "    X = df[considered_features]\n",
    "    \n",
    "    # Ensure all features are numeric\n",
    "    for column in X.columns:\n",
    "        X[column] = pd.to_numeric(X[column], errors='coerce')\n",
    "    \n",
    "    # The calculation of variance inflation requires a constant\n",
    "    X['intercept'] = 1\n",
    "    \n",
    "    # Create dataframe to store vif values\n",
    "    vif = pd.DataFrame()\n",
    "    vif[\"Variable\"] = X.columns\n",
    "    vif[\"VIF\"] = [variance_inflation_factor(X.values, i) for i in range(len(X.columns))]\n",
    "    \n",
    "    vif = vif[vif['Variable']!='intercept']\n",
    "    return vif\n",
    "\n",
    "# Features to consider removing (VIF >5)\n",
    "compute_vif(X_train).sort_values('VIF', ascending=False)"
   ]
  },
  {
   "cell_type": "markdown",
   "id": "d67696b6afd030df",
   "metadata": {},
   "source": [
    "---"
   ]
  },
  {
   "cell_type": "markdown",
   "id": "c1f552383b177cc7",
   "metadata": {},
   "source": [
    "## **🎚️ Feature Selection** "
   ]
  },
  {
   "cell_type": "markdown",
   "id": "1d4fd63ca5f2ebce",
   "metadata": {},
   "source": [
    "### **Filter Methods**\n",
    "\n",
    "- Correlation coefficient\n",
    "- Chi-Square Test\n",
    "- Information Gain"
   ]
  },
  {
   "cell_type": "code",
   "execution_count": null,
   "id": "9368a5e19ea5f832",
   "metadata": {
    "ExecuteTime": {
     "end_time": "2024-10-19T21:27:28.915755Z",
     "start_time": "2024-10-19T21:27:28.912729Z"
    }
   },
   "outputs": [],
   "source": []
  },
  {
   "cell_type": "code",
   "execution_count": null,
   "id": "a7c5ab7ace4ebd96",
   "metadata": {
    "ExecuteTime": {
     "end_time": "2024-10-19T21:27:30.232048Z",
     "start_time": "2024-10-19T21:27:30.229025Z"
    }
   },
   "outputs": [],
   "source": []
  },
  {
   "cell_type": "markdown",
   "id": "8d738bd3a457a15b",
   "metadata": {},
   "source": [
    "### **Wrapper Methods**\n",
    "\n",
    "- Recursive Feature Elimination (RFE)"
   ]
  },
  {
   "cell_type": "code",
   "execution_count": null,
   "id": "a26c0cea0fd6ee5e",
   "metadata": {
    "ExecuteTime": {
     "end_time": "2024-10-19T21:27:49.978813Z",
     "start_time": "2024-10-19T21:27:49.975365Z"
    }
   },
   "outputs": [],
   "source": []
  },
  {
   "cell_type": "code",
   "execution_count": null,
   "id": "540fe64ce8e69ab6",
   "metadata": {
    "ExecuteTime": {
     "end_time": "2024-10-19T21:27:50.168302Z",
     "start_time": "2024-10-19T21:27:50.164958Z"
    }
   },
   "outputs": [],
   "source": []
  },
  {
   "cell_type": "markdown",
   "id": "91d945e8aad30479",
   "metadata": {},
   "source": [
    "### **Embedded Methods**\n",
    "\n",
    "- Lasso Regression\n",
    "- Ridge Regression"
   ]
  },
  {
   "cell_type": "code",
   "execution_count": 141,
   "id": "792987347f987c6d",
   "metadata": {
    "ExecuteTime": {
     "end_time": "2024-10-19T22:52:21.436924Z",
     "start_time": "2024-10-19T22:52:20.457545Z"
    }
   },
   "outputs": [
    {
     "data": {
      "image/png": "[encoded data removed]",
      "text/plain": [
       "<Figure size 600x800 with 1 Axes>"
      ]
     },
     "metadata": {
      "image/png": {
       "height": 684,
       "width": 791
      }
     },
     "output_type": "display_data"
    }
   ],
   "source": [
    "#### advanced feature selection\n",
    "## 1. using Linear Regression - compare simple linear regressions and compare p-value (Anova)\n",
    "## 2. using Ridge Regularization\n",
    "\n",
    "# Split data\n",
    "X = X_train.select_dtypes(include=[\"number\"]).values\n",
    "y = y_train.values\n",
    "\n",
    "# Feature names\n",
    "feature_names = X_train.select_dtypes(include=[\"number\"]).columns\n",
    "\n",
    "## p-value\n",
    "selector = feature_selection.SelectKBest(score_func=feature_selection.f_regression, k=10).fit(X,y)\n",
    "pvalue_selected_features = feature_names[selector.get_support()]\n",
    "\n",
    "## Ridge Regularization\n",
    "selector = feature_selection.SelectFromModel(estimator= linear_model.Ridge(alpha=1.0, fit_intercept=True), max_features=20).fit(X,y)\n",
    "regularization_selected_features = feature_names[selector.get_support()]\n",
    " \n",
    "## plot\n",
    "dtf_features = pd.DataFrame({\"features\":feature_names})\n",
    "dtf_features[\"p_value\"] = dtf_features[\"features\"].apply(lambda x: \"p_value\" if x in pvalue_selected_features else \"\")\n",
    "dtf_features[\"num1\"] = dtf_features[\"features\"].apply(lambda x: 1 if x in pvalue_selected_features else 0)\n",
    "dtf_features[\"regularization\"] = dtf_features[\"features\"].apply(lambda x: \"regularization\" if x in regularization_selected_features else \"\")\n",
    "dtf_features[\"num2\"] = dtf_features[\"features\"].apply(lambda x: 1 if x in regularization_selected_features else 0)\n",
    "dtf_features[\"method\"] = dtf_features[[\"p_value\",\"regularization\"]].apply(lambda x: (x[0]+\" \"+x[1]).strip(), axis=1)\n",
    "dtf_features[\"selection\"] = dtf_features[\"num1\"] + dtf_features[\"num2\"]\n",
    "dtf_features[\"method\"] = dtf_features[\"method\"].apply(lambda x: \"both\" if len(x.split()) == 2 else x)\n",
    "\n",
    "# plot\n",
    "plt.figure(figsize=(6, 8))\n",
    "sns.barplot(y=\"features\", x=\"selection\", hue=\"method\", data=dtf_features.sort_values(\"selection\", ascending=False), dodge=False,\n",
    "            palette={\"p_value\":\"red\", \"regularization\":\"blue\", \"both\":\"purple\"});\n",
    "\n",
    "## the red bars - variables selected by both methods (Anova and Ridge)\n",
    "## blue bars - feature selected only by the first methid (Anova)"
   ]
  },
  {
   "cell_type": "markdown",
   "id": "ccda17ccc5b4676c",
   "metadata": {},
   "source": [
    "---"
   ]
  },
  {
   "cell_type": "markdown",
   "id": "297a5e296a7fc010",
   "metadata": {},
   "source": [
    "# 💾 Save Data "
   ]
  },
  {
   "cell_type": "code",
   "execution_count": 144,
   "id": "c0c74e636027c585",
   "metadata": {
    "ExecuteTime": {
     "end_time": "2024-10-19T22:56:09.685041Z",
     "start_time": "2024-10-19T22:56:08.182465Z"
    }
   },
   "outputs": [],
   "source": [
    "# Save the training and validation sets\n",
    "X_train.to_parquet('data/2ndNotebook/X_train.parquet', index=False, engine='fastparquet')\n",
    "X_val.to_parquet('data/2ndNotebook/X_val.parquet', index=False, engine='fastparquet')\n",
    "y_train.to_frame().to_parquet('data/2ndNotebook/y_train.parquet', index=False, engine='fastparquet')\n",
    "y_val.to_frame().to_parquet('data/2ndNotebook/y_val.parquet', index=False, engine='fastparquet')\n",
    "\n",
    "# Save the test set\n",
    "test_data.to_parquet('data/2ndNotebook/test_data.parquet', index=False, engine='fastparquet')"
   ]
  },
  {
   "cell_type": "markdown",
   "id": "e413c8da7578443",
   "metadata": {},
   "source": [
    "---"
   ]
  },
  {
   "cell_type": "markdown",
   "id": "3cc6c7a9e951003d",
   "metadata": {},
   "source": [
    "# 🔗 Bibliography/References"
   ]
  },
  {
   "cell_type": "markdown",
   "id": "5ffd749f539c0b32",
   "metadata": {},
   "source": [
    "**[[1]](https://kaggle.com/code/willkoehrsen/introduction-to-manual-feature-engineering)** Koehrsten, Will. (2022), \"Introduction to Manual Feature Engineering.\" https://kaggle.com/code/willkoehrsen/introduction-to-manual-feature-engineering\n",
    "\n",
    "**[[2]](https://towardsdatascience.com/feature-engineering-for-machine-learning-a80d3cdfede6)** Poon, Wing. (2022), \"Feature Engineering for Machine Learning (1/3).\" Medium. https://towardsdatascience.com/feature-engineering-for-machine-learning-a80d3cdfede6\n",
    "\n",
    "**[3]** XXXXXXXXXXX\n",
    "\n",
    "**[4]** XXXXXXXXXXX"
   ]
  }
 ],
 "metadata": {
  "kernelspec": {
   "display_name": "base",
   "language": "python",
   "name": "python3"
  },
  "language_info": {
   "codemirror_mode": {
    "name": "ipython",
    "version": 3
   },
   "file_extension": ".py",
   "mimetype": "text/x-python",
   "name": "python",
   "nbconvert_exporter": "python",
   "pygments_lexer": "ipython3",
   "version": "3.12.4"
  }
 },
 "nbformat": 4,
 "nbformat_minor": 5
}
