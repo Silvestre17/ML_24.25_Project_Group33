{
 "cells": [
  {
   "cell_type": "markdown",
   "id": "7aab2fd3-b496-4991-a74d-c2798df58f38",
   "metadata": {},
   "source": [
    "#### `Average Weekly Wage`"
   ]
  },
  {
   "cell_type": "markdown",
   "id": "214129d6-1938-41af-ac1e-4411a9a912c4",
   "metadata": {},
   "source": [
    "- We decided to drop `Average_Weekly_Wage` due to hight % of NaN values and 0s\n",
    "- Instead, we will create a binary variable `Weekly_Wage_Reported`\n",
    "- `Weekly_Wage_Reported` will take on 1 if `Average_Weekly_Wage` > 0, 0 otherwise"
   ]
  },
  {
   "cell_type": "code",
   "execution_count": null,
   "id": "0fee4cd5-f5ff-4d8b-88fc-d34f80d37b61",
   "metadata": {},
   "outputs": [],
   "source": [
    "# Create a binary variable `Weekly Wage Reported`\n",
    "train_data['Weekly Wage Reported'] = train_data['Average Weekly Wage'].apply(lambda x: 1 if x > 0 else 0)\n",
    "test_data['Weekly Wage Reported'] = test_data['Average Weekly Wage'].apply(lambda x: 1 if x > 0 else 0)"
   ]
  },
  {
   "cell_type": "code",
   "execution_count": null,
   "id": "e49baf98-90b4-42f5-b69d-997bf53c4b07",
   "metadata": {},
   "outputs": [],
   "source": [
    "# Check if it worked\n",
    "train_data[['Average Weekly Wage', 'Weekly Wage Reported']].head(10)"
   ]
  },
  {
   "cell_type": "code",
   "execution_count": null,
   "id": "f38c0e94-9993-488e-89d0-b6fafd022a38",
   "metadata": {},
   "outputs": [],
   "source": [
    "print(f'TEST DATA\\nNumber of cases with weekly wage reported: {train_data['Weekly Wage Reported'].sum()}\\nPercentage of cases with weekly wage reported {(train_data['Weekly Wage Reported'].sum()/len(train_data['Weekly Wage Reported'])*100).round(2)}%')"
   ]
  },
  {
   "cell_type": "code",
   "execution_count": null,
   "id": "4c9330c3-23aa-4e41-8d35-fd69f22c540d",
   "metadata": {},
   "outputs": [],
   "source": [
    "print(f'TEST DATA\\nNumber of cases with weekly wage reported: {test_data['Weekly Wage Reported'].sum()}\\nPercentage of cases with weekly wage reported {(test_data['Weekly Wage Reported'].sum()/len(test_data['Weekly Wage Reported'])*100).round(2)}%')"
   ]
  },
  {
   "cell_type": "code",
   "execution_count": null,
   "id": "207d9a6a-cb73-43d5-91ec-ec10041478c6",
   "metadata": {},
   "outputs": [],
   "source": [
    "# Drop the 'Average Weekly Wage' column\n",
    "train_data.drop('Average Weekly Wage', axis=1, inplace=True)\n",
    "test_data.drop('Average Weekly Wage', axis=1, inplace=True)"
   ]
  },
  {
   "cell_type": "markdown",
   "id": "b6f60b94-c71e-4cb2-bf72-8eab05590ff6",
   "metadata": {},
   "source": [
    "#### `IME-4 Count`"
   ]
  },
  {
   "cell_type": "markdown",
   "id": "1bccc49c-26d3-4954-aadc-ca1ea1670ec6",
   "metadata": {},
   "source": [
    "**IME-4 Count: 460668 (77.62%) NAs in Train, 352726.0 (90.91%) NAs in Test** <br>"
   ]
  },
  {
   "cell_type": "markdown",
   "id": "41eed38f-0ae6-495a-acb0-38596dc09214",
   "metadata": {},
   "source": [
    "- Great majority of `IME-4 Count` data is missing, however since minimal value for the existing data is 1, maybe the NaNs should actually be 0s?\n",
    "- We will create `IME-4 Reported`. A binary variable with value 1 if `IME-4 Count` is greater than 0, and 0 if the value is NaN (or 0)"
   ]
  },
  {
   "cell_type": "code",
   "execution_count": null,
   "id": "7576c7c4-9b32-4e3a-bb4f-61d62d13e295",
   "metadata": {},
   "outputs": [],
   "source": [
    "# Create a binary variable `Weekly_Wage_Reported`\n",
    "train_data['IME-4 Reported'] = train_data['IME-4 Count'].apply(lambda x: 1 if x > 0 else 0)\n",
    "test_data['IME-4 Reported'] = test_data['IME-4 Count'].apply(lambda x: 1 if x > 0 else 0)"
   ]
  },
  {
   "cell_type": "code",
   "execution_count": null,
   "id": "05b72b5b-db0b-4a0d-9aaf-466662141807",
   "metadata": {},
   "outputs": [],
   "source": [
    "# Check if it worked\n",
    "train_data[['IME-4 Reported', 'IME-4 Count']].head(10)"
   ]
  },
  {
   "cell_type": "code",
   "execution_count": null,
   "id": "c5b09478-2783-49d8-b508-c28d0f9826a8",
   "metadata": {},
   "outputs": [],
   "source": [
    "print(f'TRAIN DATA\\nNumber of cases with IME-4 included with their claim: {train_data['IME-4 Reported'].sum()}\\nPercentage of cases with IME-4 included with their claim {(train_data['IME-4 Reported'].sum()/len(train_data['IME-4 Reported'])*100).round(2)}%')"
   ]
  },
  {
   "cell_type": "code",
   "execution_count": null,
   "id": "878bcbee-96e7-45f4-8d03-7680675c1276",
   "metadata": {},
   "outputs": [],
   "source": [
    "print(f'TEST DATA\\nNumber of cases with IME-4 included with their claim: {test_data['IME-4 Reported'].sum()}\\nPercentage of cases with IME-4 included with their claim {(test_data['IME-4 Reported'].sum()/len(test_data['IME-4 Reported'])*100).round(2)}%')"
   ]
  },
  {
   "cell_type": "code",
   "execution_count": null,
   "id": "c7025578-2167-4247-876a-37ab28dc5597",
   "metadata": {},
   "outputs": [],
   "source": [
    "# Drop the 'IME-4 Count' column\n",
    "train_data.drop('IME-4 Count', axis=1, inplace=True)\n",
    "test_data.drop('IME-4 Count', axis=1, inplace=True)"
   ]
  }
 ],
 "metadata": {
  "kernelspec": {
   "display_name": "Python 3 (ipykernel)",
   "language": "python",
   "name": "python3"
  },
  "language_info": {
   "codemirror_mode": {
    "name": "ipython",
    "version": 3
   },
   "file_extension": ".py",
   "mimetype": "text/x-python",
   "name": "python",
   "nbconvert_exporter": "python",
   "pygments_lexer": "ipython3",
   "version": "3.12.2"
  }
 },
 "nbformat": 4,
 "nbformat_minor": 5
}
