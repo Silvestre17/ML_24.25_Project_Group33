{
 "cells": [
  {
   "cell_type": "markdown",
   "id": "1834cc3d7b582eb2",
   "metadata": {},
   "source": [
    "<div style=\"display: flex; align-items: center; justify-content: center; flex-wrap: wrap;\">\n",
    "    <div style=\"flex: 1; max-width: 400px; display: flex; justify-content: center;\">\n",
    "        <img src=\"https://i.ibb.co/JBPWVYR/Logo-Nova-IMS-Black.png\" style=\"max-width: 50%; height: auto; margin-top: 50px; margin-bottom: 50px;margin-left: 3rem;\">\n",
    "    </div>\n",
    "    <div style=\"flex: 2; text-align: center; margin-top: 20px;\">\n",
    "        <div style=\"font-size: 28px; font-weight: bold; line-height: 1.2;\">\n",
    "            <span style=\"color: #08306B;\">ML Project |</span> <span style=\"color: #08529C;\">To Grant or Not to Grant</span>\n",
    "        </div>\n",
    "        <div style=\"font-size: 17px; font-weight: bold; margin-top: 10px;\">\n",
    "            Fall Semester | 2024 - 2025\n",
    "        </div>\n",
    "        <div style=\"font-size: 17px; font-weight: bold;\">\n",
    "            Master in Data Science and Advanced Analytics\n",
    "        </div>\n",
    "        <div style=\"margin-top: 20px;\">\n",
    "            <div>André Silvestre, 20240502</div>\n",
    "            <div>João Henriques, 20240499</div>\n",
    "            <div>Simone Genovese, 20241459</div>\n",
    "            <div>Steven Carlson, 20240554</div>\n",
    "            <div>Vinícius Pinto, 20211682</div>\n",
    "            <div>Zofia Wojcik, 20240654</div>\n",
    "        </div>\n",
    "        <div style=\"margin-top: 20px; font-weight: bold;\">\n",
    "            TBL Group 33\n",
    "        </div>\n",
    "    </div>\n",
    "</div>"
   ]
  },
  {
   "cell_type": "markdown",
   "id": "6952549c",
   "metadata": {},
   "source": [
    "<div style=\"background: linear-gradient(to right,#08529C, #08529C); \n",
    "            padding: .7px; color: white; border-radius: 300px; text-align: center;\">\n",
    "</div>\n",
    "\n",
    "##### **Notebook Structure**\n",
    "\n",
    "<ol style=\"list-style-type: upper-roman;font-weight: bold;\">\n",
    "  <li><span style=\"font-weight: normal;\"><a href=\"#3\">Modeling & Evaluation</a></span></li>\n",
    "  <ol style=\"list-style-type:lower-alpha;\">\n",
    "    <li><span style=\"font-weight: normal;\"><a href=\"#definition-of-the-problem\">Definition of the Problem</a></span></li>\n",
    "  </ol>\n",
    "  <br>\n",
    "\n",
    "  <ol style=\"list-style-type:alpha;\">\n",
    "    <li><span style=\"font-weight: normal;\"><a href=\"#logistic-regression\">Logistic Regression</a></span></li>\n",
    "    <li><span style=\"font-weight: normal;\"><a href=\"#naive-bayes\">Naive Bayes</a></span></li>\n",
    "    <ol style=\"list-style-type:lower-roman;\">\n",
    "      <li><span style=\"font-weight: normal;\"><a href=\"#naive-bayes-categorical\">Naive Bayes - Categorical</a></span></li>\n",
    "      <li><span style=\"font-weight: normal;\"><a href=\"#naive-bayes-gaussian\">Naive Bayes - Gaussian</a></span></li>\n",
    "    </ol>\n",
    "    <li><span style=\"font-weight: normal;\"><a href=\"#knn\">K-Nearest Neighbors</a></span></li>\n",
    "    <ol style=\"list-style-type:lower-roman;\">\n",
    "      <li><span style=\"font-weight: normal;\"><a href=\"#knn-brute-force\">KNN - Brute Force</a></span></li>\n",
    "      <li><span style=\"font-weight: normal;\"><a href=\"#knn-kd-tree\">KNN - KD Tree</a></span></li>\n",
    "      <li><span style=\"font-weight: normal;\"><a href=\"#knn-ball-tree\">KNN - Ball Tree</a></span></li>\n",
    "      <li><span style=\"font-weight: normal;\"><a href=\"#knn-locally-weighted-learning\">KNN - Locally Weighted Learning (LWL)</a></span></li>\n",
    "    </ol>\n",
    "    <li><span style=\"font-weight: normal;\"><a href=\"#neural-network\">Neural Network</a></span></li>\n",
    "    <li><span style=\"font-weight: normal;\"><a href=\"#svm\">Support Vector Machine</a></span></li>\n",
    "    <li><span style=\"font-weight: normal;\"><a href=\"#decision-tree\">Decision Tree</a></span></li>\n",
    "    <li><span style=\"font-weight: normal;\"><a href=\"#random-forest\">Random Forest</a></span></li>\n",
    "    <li><span style=\"font-weight: normal;\"><a href=\"#gradient-boosting\">Gradient Boosting</a></span></li>\n",
    "  </ol> <br>\n",
    "  <ol style=\"list-style-type:decimal;\">\n",
    "    <li><span style=\"font-weight: normal;\"><a href=\"#3_1\">Model Selection</a></span></li>\n",
    "    <li><span style=\"font-weight: normal;\"><a href=\"#3_2\">Model Evaluation</a></span></li>\n",
    "    <li><span style=\"font-weight: normal;\"><a href=\"#3_3\">Model Optimization</a></span></li>\n",
    "  </ol>\n",
    "  <li><span style=\"font-weight: normal;\"><a href=\"#📊-feature-importance\">Feature Importance</a></span></li>\n",
    "  <li><span style=\"font-weight: normal;\"><a href=\"#🔮-test-data-prediction\">Test Data Prediction</a></span></li>\n",
    "  <li><span style=\"font-weight: normal;\"><a href=\"#📋-csv-export---submission\">CSV Export - Submission [Kaggle]</a></span></li>\n",
    "</ol>\n",
    "\n",
    "<br>\n",
    "\n",
    "<div style=\"background: linear-gradient(to right,#08529C, #08529C); \n",
    "            padding: .7px; color: white; border-radius: 300px; text-align: center;\">\n",
    "</div>"
   ]
  },
  {
   "cell_type": "markdown",
   "id": "7f603cf1cb0fd531",
   "metadata": {},
   "source": [
    "## 📚 Libraries Import\n"
   ]
  },
  {
   "cell_type": "code",
   "execution_count": null,
   "id": "b209518998b249d3",
   "metadata": {
    "ExecuteTime": {
     "end_time": "2024-10-19T23:19:43.096268Z",
     "start_time": "2024-10-19T23:19:43.088149Z"
    },
    "deletable": true,
    "editable": true,
    "frozen": false
   },
   "outputs": [],
   "source": [
    "# For data\n",
    "import pandas as pd\n",
    "import numpy as np\n",
    "import os\n",
    "\n",
    "# For plotting\n",
    "import matplotlib.pyplot as plt\n",
    "import seaborn as sns\n",
    "\n",
    "# For data preprocessing\n",
    "from sklearn.preprocessing import StandardScaler, MinMaxScaler\n",
    "\n",
    "# For modeling\n",
    "from sklearn.linear_model import LogisticRegression\n",
    "from sklearn.naive_bayes import GaussianNB, CategoricalNB\n",
    "from sklearn.neighbors import KNeighborsClassifier\n",
    "from sklearn.neural_network import MLPClassifier\n",
    "from sklearn.tree import DecisionTreeClassifier\n",
    "from sklearn.svm import SVC\n",
    "from sklearn.ensemble import RandomForestClassifier, GradientBoostingClassifier, AdaBoostClassifier, BaggingClassifier\n",
    "\n",
    "\n",
    "# For evaluation\n",
    "from collections import Counter\n",
    "from sklearn import metrics\n",
    "from sklearn.metrics import confusion_matrix, classification_report, accuracy_score, roc_auc_score, roc_curve, auc\n",
    "from sklearn.model_selection import GridSearchCV, cross_validate, StratifiedKFold, learning_curve\n",
    "\n",
    "# Disable warnings [DataConversionWarning & ConvergenceWarning]\n",
    "import warnings\n",
    "from sklearn.exceptions import DataConversionWarning, ConvergenceWarning\n",
    "\n",
    "warnings.filterwarnings(action='ignore', category=DataConversionWarning)\n",
    "warnings.filterwarnings(action='ignore', category=ConvergenceWarning)\n",
    "\n",
    "# Set the style of the visualization\n",
    "pd.set_option('display.max_columns', None) # display all columns\n",
    "\n",
    "# for better resolution plots\n",
    "%config InlineBackend.figure_format = 'retina' # optionally, you can change 'svg' to 'retina'\n",
    "\n",
    "# Setting seaborn style\n",
    "sns.set_theme(style=\"white\")"
   ]
  },
  {
   "cell_type": "code",
   "execution_count": null,
   "id": "f2b2091c",
   "metadata": {},
   "outputs": [],
   "source": [
    "# Auxiliary function to display multiple dataframes side by side\n",
    "# Source: https://python.plainenglish.io/displaying-multiple-dataframes-side-by-side-in-jupyter-lab-notebook-9a4649a4940\n",
    "from IPython.display import display_html\n",
    "from itertools import chain,cycle\n",
    "def display_side_by_side(*args, super_title, titles=cycle([''])):\n",
    "    \"\"\"\n",
    "    :param args: Variable number of DataFrame objects to be displayed side by side.\n",
    "    :param super_title: The main title to be displayed at the top of the combined view.\n",
    "    :param titles: An iterable containing titles for each DataFrame to be displayed. Defaults to an infinite cycle of empty strings.\n",
    "    \n",
    "    :return: None. The function generates and displays HTML content side by side for given DataFrames.\n",
    "    \"\"\"\n",
    "    html_str = ''\n",
    "    html_str += f'<h1 style=\"text-align: left; margin-bottom: -15px;\">{super_title}</h1><br>'\n",
    "    html_str += '<div style=\"display: flex;\">'\n",
    "    for df, title in zip(args, chain(titles, cycle(['</br>']))):\n",
    "        html_str += f'<div style=\"margin-right: 20px;\"><h3 style=\"text-align: center;color:#555555;\">{title}</h3>'\n",
    "        html_str += df.to_html().replace('table', 'table style=\"display:inline; margin-right: 20px;\"')\n",
    "        html_str += '</div>'\n",
    "    html_str += '</div>'\n",
    "    display_html(html_str, raw=True)"
   ]
  },
  {
   "cell_type": "markdown",
   "id": "4a5d91a720daf9a2",
   "metadata": {},
   "source": [
    "## 🧮 Import Databases"
   ]
  },
  {
   "cell_type": "code",
   "execution_count": null,
   "id": "8e78aa233134c06e",
   "metadata": {
    "ExecuteTime": {
     "end_time": "2024-10-19T23:16:51.914097Z",
     "start_time": "2024-10-19T23:16:51.455415Z"
    },
    "deletable": true,
    "editable": true,
    "frozen": false
   },
   "outputs": [],
   "source": [
    "# ------------------------------------------------- Importing the dataset -------------------------------------------------\n",
    "# Load the training and validation sets after feature engineering\n",
    "X_train = pd.read_parquet('data/2ndNotebook/AfterFeatureEngineering/X_train.parquet')\n",
    "X_val = pd.read_parquet('data/2ndNotebook/AfterFeatureEngineering/X_val.parquet')\n",
    "test_data = pd.read_parquet('data/2ndNotebook/AfterFeatureEngineering/test_data.parquet')\n",
    "\n",
    "# Load the target variable\n",
    "y_train = pd.read_parquet('data/2ndNotebook/AfterFeatureEngineering/y_train.parquet').squeeze()   # .squeeze() to convert to Series\n",
    "y_val = pd.read_parquet('data/2ndNotebook/AfterFeatureEngineering/y_val.parquet').squeeze()\n",
    "\n",
    "# Load the target variable encoded\n",
    "y_train_encoded = pd.read_parquet('data/2ndNotebook/AfterFeatureEngineering/y_train_encoded.parquet').squeeze()   # .squeeze() to convert to Series\n",
    "y_val_encoded = pd.read_parquet('data/2ndNotebook/AfterFeatureEngineering/y_val_encoded.parquet').squeeze()\n",
    "\n",
    "# Load the Ordinal encoded data\n",
    "X_train_ordinal_encoded = pd.read_parquet('data/2ndNotebook/AfterFeatureEngineering/X_train_ordinal_encoded.parquet')\n",
    "X_val_ordinal_encoded = pd.read_parquet('data/2ndNotebook/AfterFeatureEngineering/X_val_ordinal_encoded.parquet')\n",
    "test_data_ordinal_encoded = pd.read_parquet('data/2ndNotebook/AfterFeatureEngineering/test_data_ordinal_encoded.parquet')\n",
    "\n",
    "# Load the One-Hot encoded data\n",
    "X_train_ohe = pd.read_parquet('data/2ndNotebook/AfterFeatureEngineering/X_train_ohe.parquet')\n",
    "X_val_ohe = pd.read_parquet('data/2ndNotebook/AfterFeatureEngineering/X_val_ohe.parquet')\n",
    "test_data_ohe = pd.read_parquet('data/2ndNotebook/AfterFeatureEngineering/test_data_ohe.parquet')\n",
    "\n",
    "# Check the shape of the training, validation and test data\n",
    "\n",
    "# Check the shape of the training, validation and test data (Features\n",
    "print(X_train.shape, X_val.shape, test_data.shape)\n",
    "print(X_train_ordinal_encoded.shape, X_val_ordinal_encoded.shape, test_data_ordinal_encoded.shape)\n",
    "print(X_train_ohe.shape, X_val_ohe.shape, test_data_ohe.shape)\n",
    "\n",
    "# Check the shape of the training, validation and test data (Target)\n",
    "print('\\n',y_train.shape, y_val.shape)\n",
    "print('',y_train_encoded.shape, y_val_encoded.shape)"
   ]
  },
  {
   "cell_type": "code",
   "execution_count": null,
   "id": "bd71ca18d539bbd0",
   "metadata": {
    "ExecuteTime": {
     "end_time": "2024-10-19T23:16:51.947027Z",
     "start_time": "2024-10-19T23:16:51.931810Z"
    }
   },
   "outputs": [],
   "source": [
    "# Display the first 2 rows of each dataset\n",
    "# X_train.head(2) "
   ]
  },
  {
   "cell_type": "code",
   "execution_count": null,
   "id": "e5400421ca668a5b",
   "metadata": {
    "ExecuteTime": {
     "end_time": "2024-10-19T23:16:52.647116Z",
     "start_time": "2024-10-19T23:16:52.631573Z"
    }
   },
   "outputs": [],
   "source": [
    "# test_data.head(2)"
   ]
  },
  {
   "cell_type": "code",
   "execution_count": null,
   "id": "31d35a5f",
   "metadata": {},
   "outputs": [],
   "source": [
    "# Drop features based on Feature Selection [2nd Notebook]\n",
    "columns_to_drop = [\n",
    "    # Columns to drop based and why\n",
    "    \n",
    "\n",
    "]\n",
    "\n",
    "\n",
    "X_train = X_train.drop(columns = columns_to_drop)\n",
    "X_val = X_val.drop(columns = columns_to_drop)\n",
    "test_data = test_data.drop(columns = columns_to_drop)\n",
    "\n",
    "X_train_ordinal_encoded = X_train_ordinal_encoded.drop(columns = columns_to_drop)\n",
    "X_val_ordinal_encoded = X_val_ordinal_encoded.drop(columns = columns_to_drop)\n",
    "test_data_ordinal_encoded = test_data_ordinal_encoded.drop(columns = columns_to_drop)\n",
    "\n",
    "X_train_ohe = X_train_ohe.drop(columns = columns_to_drop)\n",
    "X_val_ohe = X_val_ohe.drop(columns = columns_to_drop)\n",
    "test_data_ohe = test_data_ohe.drop(columns = columns_to_drop)\n",
    "\n",
    "# Check the shape of the training, validation and test data\n",
    "print(X_train.shape, X_val.shape, test_data.shape)\n",
    "print(X_train_ordinal_encoded.shape, X_val_ordinal_encoded.shape, test_data_ordinal_encoded.shape)\n",
    "print(X_train_ohe.shape, X_val_ohe.shape, test_data_ohe.shape)\n",
    "\n",
    "print('\\n',y_train.shape, y_val.shape)\n",
    "print('',y_train_encoded.shape, y_val_encoded.shape)"
   ]
  },
  {
   "cell_type": "markdown",
   "id": "61f158b792ebd291",
   "metadata": {},
   "source": [
    "# <a class='anchor' id='3'></a>\n",
    "<br>\n",
    "<style>\n",
    "@import url('https://fonts.cdnfonts.com/css/avenir-next-lt-pro?styles=29974');\n",
    "</style>\n",
    "\n",
    "<div style=\"background: linear-gradient(to right,#08529C, #08306B); \n",
    "            padding: 10px; color: white; border-radius: 300px; text-align: center;\">\n",
    "    <center><h1 style=\"margin-left: 140px;margin-top: 10px; margin-bottom: 4px; color: white;\n",
    "                       font-size: 32px; font-family: 'Avenir Next LT Pro', sans-serif;\">\n",
    "        <b>3 | Modeling & Evaluation</b></h1></center>\n",
    "</div>\n",
    "\n",
    "<br><br>"
   ]
  },
  {
   "cell_type": "markdown",
   "id": "6714bd8f0747bd46",
   "metadata": {},
   "source": [
    "#### **📈📉 Data Normalization**"
   ]
  },
  {
   "cell_type": "code",
   "execution_count": null,
   "id": "09f06445",
   "metadata": {},
   "outputs": [],
   "source": [
    "# Descriptive statistics of the training data after feature engineering (Ordinal Encoded)\n",
    "X_train_ordinal_encoded.describe()"
   ]
  },
  {
   "cell_type": "code",
   "execution_count": null,
   "id": "84a2292870599c6d",
   "metadata": {
    "ExecuteTime": {
     "end_time": "2024-10-19T23:17:01.202515Z",
     "start_time": "2024-10-19T23:17:01.199653Z"
    }
   },
   "outputs": [],
   "source": [
    "# Standardize the data [For the 'KNN' and 'Logistic Regression' models, let's normalize the variables]\n",
    "X_train_standardized = StandardScaler().fit_transform(X_train_ordinal_encoded)\n",
    "X_validation_standardized = StandardScaler().fit_transform(X_val_ordinal_encoded)\n",
    "X_test_standardized = StandardScaler().fit_transform(test_data_ordinal_encoded)"
   ]
  },
  {
   "cell_type": "code",
   "execution_count": null,
   "id": "13e46b60f81b4152",
   "metadata": {
    "ExecuteTime": {
     "end_time": "2024-10-19T23:17:02.929224Z",
     "start_time": "2024-10-19T23:17:02.523447Z"
    }
   },
   "outputs": [],
   "source": [
    "# Min-Max Normalization\n",
    "X_train_norm = MinMaxScaler().fit_transform(X_train_ordinal_encoded)\n",
    "X_validation_norm = MinMaxScaler().fit_transform(X_val_ordinal_encoded)\n",
    "X_test_norm = MinMaxScaler().fit_transform(test_data_ordinal_encoded)"
   ]
  },
  {
   "cell_type": "code",
   "execution_count": null,
   "id": "8545a816",
   "metadata": {},
   "outputs": [],
   "source": [
    "# # Log Transformation\n",
    "# X_train_log = np.log1p(X_train_ordinal_encoded) ################# Put code here #############################"
   ]
  },
  {
   "cell_type": "code",
   "execution_count": null,
   "id": "da1c7807",
   "metadata": {},
   "outputs": [],
   "source": [
    "# Plot Boxplots of Original Data, Standardized Data and Normalized Data\n",
    "fig, ax = plt.subplots(3, 1, figsize=(15, 20))\n",
    "\n",
    "# Original Data\n",
    "X_train_ordinal_encoded.boxplot(ax=ax[0], color='#002147')\n",
    "ax[0].set_title('Original Data', fontsize=20, fontweight='bold')\n",
    "ax[0].set_xticks([])\n",
    "\n",
    "# Standardized Data\n",
    "pd.DataFrame(X_train_standardized, columns=X_train_ordinal_encoded.columns).boxplot(ax=ax[1], color='#135C9B')\n",
    "ax[1].set_title('Standardized Data | N(0, 1)', fontsize=20, fontweight='bold')\n",
    "ax[1].set_xticks([])\n",
    "\n",
    "# Normalized Data\n",
    "pd.DataFrame(X_train_norm, columns=X_train_ordinal_encoded.columns).boxplot(ax=ax[2], color='#4292C6')\n",
    "ax[2].set_title('Normalized Data | [0,1]', fontsize=20, fontweight='bold')\n",
    "ax[2].tick_params(axis='x', rotation=90)                          # Rotate x-axis labels\n",
    "\n",
    "#################################################################################################################################################\n",
    "\n",
    "# Adjust the space between subplots\n",
    "plt.subplots_adjust(hspace=.2)\n",
    "\n",
    "# Display the plot\n",
    "sns.despine(top=True, right=True)\n",
    "plt.show()"
   ]
  },
  {
   "cell_type": "markdown",
   "id": "067ddabe",
   "metadata": {},
   "source": [
    "---"
   ]
  },
  {
   "cell_type": "markdown",
   "id": "26312ae5b0368022",
   "metadata": {},
   "source": [
    "# **💡 Modeling**"
   ]
  },
  {
   "cell_type": "markdown",
   "id": "2a184937",
   "metadata": {},
   "source": [
    "### **Definition of the Problem**\n",
    "\n",
    "> The problem consists of predict the WCB’s final decision on what type of injury (Claim Injury Type) should be granted. <br>\n",
    "> Since the target variable is **category** and **multiclass**, we will use **Classification Models** to solve this problem."
   ]
  },
  {
   "cell_type": "code",
   "execution_count": null,
   "id": "62931543e5893c7e",
   "metadata": {
    "ExecuteTime": {
     "end_time": "2024-10-19T23:39:02.675792Z",
     "start_time": "2024-10-19T23:39:02.667470Z"
    }
   },
   "outputs": [],
   "source": [
    "# Function that will print the results of the classification report and the confusion matrix for both datasets (train and validation)\n",
    "# Additionally, it will save results in a dictionary to compare the results of different models\n",
    "\n",
    "models_results_train = {}\n",
    "models_results_val = {}\n",
    "\n",
    "def classification_metrics(model_name, cv_results,\n",
    "                           y_train, pred_train, pred_train_proba, \n",
    "                           y_val, pred_val, pred_val_proba, classification_report=True):\n",
    "    \n",
    "    # Display model name\n",
    "    display_html(f'<h1 style=\"text-align: left; margin-bottom: -15px;\">{model_name}</h1><br>', raw=True)\n",
    "\n",
    "    # Display the results of the cross-validation (KFold) - If classification_report=True\n",
    "    if classification_report:\n",
    "        # ------------------------------------- Classification Report  -------------------------------------\n",
    "        print('___________________________________________________________________________________________________________')\n",
    "        print('                                                     TRAIN                                                 ')\n",
    "        print('-----------------------------------------------------------------------------------------------------------')\n",
    "        print(classification_report(y_train, pred_train, target_names=[str(i) for i in np.unique(y_train)], zero_division=1))  \n",
    "        # zero_division=1 to avoid warnings -> y_true contains labels that are not present in your predictions (y_pred)\n",
    "        print('\\nAUROC:', round(roc_auc_score(y_train, pred_train_proba, multi_class='ovr'), 2)) # 'ovr' for multiclass\n",
    "\n",
    "        print('___________________________________________________________________________________________________________')\n",
    "        print('                                                VALIDATION                                                 ')\n",
    "        print('-----------------------------------------------------------------------------------------------------------')\n",
    "        print(classification_report(y_val, pred_val, target_names=[str(i) for i in np.unique(y_val)], zero_division=1))\n",
    "        print('\\nAUROC:', round(roc_auc_score(y_val, pred_val_proba, multi_class='ovr'), 2))  # 'ovr' for multiclass\n",
    "    \n",
    "    # ----------------------------------- Confusion Matrix for Train and Validation side by side -----------------------------------\n",
    "\n",
    "    # Confusion Matrix for Train and Validation side by side\n",
    "    fig, ax = plt.subplots(1,2, figsize=(8,4))\n",
    "    sns.heatmap(confusion_matrix(y_train, pred_train, labels=np.unique(y_val)),\n",
    "                annot=True, annot_kws={\"size\": 7}, \n",
    "                fmt='d', cmap='Blues', cbar=False, \n",
    "                xticklabels=np.unique(y_val), yticklabels=np.unique(y_val), ax=ax[0])\n",
    "    ax[0].set_title('Confusion Matrix [Train]\\n', fontsize=12, fontweight='bold')\n",
    "    ax[0].set_xlabel('\\nPredicted', fontsize=8, fontweight='bold')\n",
    "    ax[0].set_yticklabels(labels=np.unique(y_val), rotation=0)\n",
    "    ax[0].set_ylabel('True\\n', fontsize=8, fontweight='bold')\n",
    "    \n",
    "    sns.heatmap(confusion_matrix(y_val, pred_val, labels=np.unique(y_val)),\n",
    "                annot=True, annot_kws={\"size\": 7},\n",
    "                fmt='d', cmap='Blues', cbar=False, \n",
    "                xticklabels=np.unique(y_val), yticklabels=np.unique(y_val),ax=ax[1])\n",
    "    ax[1].set_title('Confusion Matrix [Validation]\\n', fontsize=12, fontweight='bold')\n",
    "    ax[1].set_xlabel('\\nPredicted', fontsize=8, fontweight='bold')\n",
    "    ax[1].set_yticklabels(labels=np.unique(y_val), rotation=0)\n",
    "    ax[1].set_ylabel('True\\n', fontsize=8, fontweight='bold')\n",
    "    \n",
    "    plt.tight_layout()\n",
    "    plt.show()\n",
    "\n",
    "    # ----------------------------------- Save the results in a dictionary -----------------------------------\n",
    "    # List of All Metrics for Classification Problems - Accuracy, Precision, Recall, F1 Score Macro (Kaggle Bechmark), ROC-AUC\n",
    "    models_results_train[model_name] = {\n",
    "        'Time of Execution (KFold)': str(cv_results['fit_time'].sum().round(2)) + ' +/-' + str(round(np.std(np.array(cv_results['fit_time'])), 2)),\n",
    "        'Accuracy': round(accuracy_score(y_train, pred_train), 2),\n",
    "        'Precision': round(metrics.precision_score(y_train, pred_train, average='macro', zero_division=np.nan), 2),\n",
    "        'Recall': round(metrics.recall_score(y_train, pred_train, average='macro'), 2),\n",
    "        'F1 Score': round(metrics.f1_score(y_train, pred_train, average='macro'), 2),\n",
    "        'AUROC': round(roc_auc_score(y_train, pred_train_proba, multi_class='ovr'), 2)\n",
    "    }\n",
    "\n",
    "    models_results_val[model_name] = {\n",
    "        'Accuracy': round(accuracy_score(y_val, pred_val), 2),\n",
    "        'Precision': round(metrics.precision_score(y_val, pred_val, average='macro', zero_division=np.nan), 2),\n",
    "        'Recall': round(metrics.recall_score(y_val, pred_val, average='macro'), 2),\n",
    "        'F1 Score': round(metrics.f1_score(y_val, pred_val, average='macro'), 2),\n",
    "        'AUROC': round(roc_auc_score(y_val, pred_val_proba, multi_class='ovr'), 2)\n",
    "    }"
   ]
  },
  {
   "cell_type": "markdown",
   "id": "5750e0c9099e4cb",
   "metadata": {},
   "source": [
    "---"
   ]
  },
  {
   "cell_type": "markdown",
   "id": "e911fc9f991fab36",
   "metadata": {},
   "source": [
    "### **Logistic Regression [<sup>[1]</sup>](https://scikit-learn.org/1.5/modules/generated/sklearn.linear_model.LogisticRegression.html)** <a class='anchor' id='logistic-regression'></a>"
   ]
  },
  {
   "cell_type": "code",
   "execution_count": null,
   "id": "7c98810ca06c5c9f",
   "metadata": {
    "ExecuteTime": {
     "end_time": "2024-10-19T23:52:36.279430Z",
     "start_time": "2024-10-19T23:51:29.642034Z"
    }
   },
   "outputs": [],
   "source": [
    "# ------------------------------------------------- Logistic Regression -------------------------------------------------\n",
    "# ################################ Ordinal Encoding (with and without Standardization)\n",
    "# ============ Without Normalization\n",
    "lr_ord = LogisticRegression()\n",
    "lr_cv_ord = cross_validate(lr_ord,X_train_ordinal_encoded,y_train,cv=5)\n",
    "\n",
    "# Train the model\n",
    "lr_ord.fit(X_train_norm, y_train)\n",
    "\n",
    "# Predictions\n",
    "lr_ord_pred_train = lr_ord.predict(X_train_norm)\n",
    "lr_ord_pred_train_proba = lr_ord.predict_proba(X_train_norm)\n",
    "\n",
    "lr_ord_pred_val = lr_ord.predict(X_val_ordinal_encoded)\n",
    "lr_ord_pred_val_proba = lr_ord.predict_proba(X_val_ordinal_encoded)\n",
    "\n",
    "# ============ With Normalization\n",
    "lr_ord_norm = LogisticRegression()\n",
    "lr_cv_ord_norm = cross_validate(lr_ord_norm,X_train_norm,y_train,cv=5)\n",
    "\n",
    "# Train the model\n",
    "lr_ord_norm.fit(X_train_norm, y_train)\n",
    "\n",
    "# Predictions\n",
    "lr_ord_norm_pred_train = lr_ord_norm.predict(X_train_norm)\n",
    "lr_ord_norm_pred_train_proba = lr_ord_norm.predict_proba(X_train_norm)\n",
    "\n",
    "lr_ord_norm_pred_val = lr_ord_norm.predict(X_val_ordinal_encoded)\n",
    "lr_ord_norm_pred_val_proba = lr_ord_norm.predict_proba(X_val_ordinal_encoded)\n",
    "\n",
    "# ################################ One-Hot Encoding\n",
    "lr_ohe = LogisticRegression()\n",
    "lr_cv_ohe = cross_validate(lr_ohe,X_train_ohe,y_train,cv=5)\n",
    "\n",
    "# Train the model\n",
    "lr_ohe.fit(X_train_ohe, y_train)\n",
    "\n",
    "# Predictions\n",
    "lr_ohe_pred_train = lr_ohe.predict(X_train_ohe)\n",
    "lr_ohe_pred_train_proba = lr_ohe.predict_proba(X_train_ohe)\n",
    "\n",
    "lr_ohe_pred_val = lr_ohe.predict(X_val_ohe)\n",
    "lr_ohe_pred_val_proba = lr_ohe.predict_proba(X_val_ohe)\n",
    "\n",
    "## Time of Execution Logistic Regression = 3m 51.3s"
   ]
  },
  {
   "cell_type": "code",
   "execution_count": null,
   "id": "fdc077bdc8c39898",
   "metadata": {
    "ExecuteTime": {
     "end_time": "2024-10-19T23:33:07.347613Z",
     "start_time": "2024-10-19T23:33:05.281897Z"
    }
   },
   "outputs": [],
   "source": [
    "# Classification Metrics & Confusion Matrix\n",
    "classification_metrics('Logistic Regression | Ordinal Encoding (W/o Normalization)', lr_cv_ord,\n",
    "                       y_train, lr_ord_pred_train, lr_ord_pred_train_proba, \n",
    "                       y_val, lr_ord_pred_val, lr_ord_pred_val_proba, classification_report=False)\n",
    "\n",
    "classification_metrics('Logistic Regression | Ordinal Encoding (With Normalization)', lr_cv_ord_norm,\n",
    "                        y_train, lr_ord_norm_pred_train, lr_ord_norm_pred_train_proba, \n",
    "                        y_val, lr_ord_norm_pred_val, lr_ord_norm_pred_val_proba, classification_report=False)\n",
    "\n",
    "classification_metrics('Logistic Regression | One-Hot Encoding', lr_cv_ohe,\n",
    "                        y_train, lr_ohe_pred_train, lr_ohe_pred_train_proba, \n",
    "                        y_val, lr_ohe_pred_val, lr_ohe_pred_val_proba, classification_report=False)\n",
    "\n",
    "##############################################################################################################################################"
   ]
  },
  {
   "cell_type": "code",
   "execution_count": null,
   "id": "aeaf3830",
   "metadata": {},
   "outputs": [],
   "source": [
    "# Dataframe with the results of the models\n",
    "df_results_train = pd.DataFrame(models_results_train).T\n",
    "df_results_val = pd.DataFrame(models_results_val).T\n",
    "\n",
    "# Display the results\n",
    "display_side_by_side(df_results_train, df_results_val, \n",
    "                     titles=['Training Set', 'Validation Set'],\n",
    "                     super_title='Results of the Logistic Regression Model')"
   ]
  },
  {
   "cell_type": "markdown",
   "id": "d9e5d6f6",
   "metadata": {},
   "source": [
    "---"
   ]
  },
  {
   "cell_type": "markdown",
   "id": "767babb4472cb7e4",
   "metadata": {},
   "source": [
    "### **Naive Bayes [<sup>[2]</sup>](https://scikit-learn.org/1.5/modules/generated/sklearn.naive_bayes.GaussianNB.html)** <a class='anchor' id='naive-bayes'></a>"
   ]
  },
  {
   "cell_type": "markdown",
   "id": "e9cc56f5",
   "metadata": {},
   "source": [
    "#### **Naive Bayes - Categorical** <sup>[**[2.1]**](https://scikit-learn.org/1.5/modules/generated/sklearn.naive_bayes.CategoricalNB.html)</sup> <a class='anchor' id='naive-bayes-categorical'></a>"
   ]
  },
  {
   "cell_type": "code",
   "execution_count": null,
   "id": "c84de8d6",
   "metadata": {},
   "outputs": [],
   "source": [
    "# ------------------------------------------------- Naïve Bayes [CategoricalNB] -------------------------------------------------\n",
    "# ################################ Ordinal Encoding (with and without Standardization)\n",
    "# ============ Without Normalization"
   ]
  },
  {
   "cell_type": "markdown",
   "id": "f5bf95f1",
   "metadata": {},
   "source": [
    "#### **Naive Bayes - Gaussian** <sup>[**[2.2]**](https://scikit-learn.org/1.5/modules/generated/sklearn.naive_bayes.GaussianNB.html)</sup> <a class='anchor' id='naive-bayes-gaussian'></a>"
   ]
  },
  {
   "cell_type": "code",
   "execution_count": null,
   "id": "f937a6b7381a379",
   "metadata": {
    "ExecuteTime": {
     "end_time": "2024-10-19T23:41:28.661361Z",
     "start_time": "2024-10-19T23:41:23.317699Z"
    }
   },
   "outputs": [],
   "source": [
    "# ------------------------------------------------- Naïve Bayes [GaussianNB] -------------------------------------------------\n",
    "# ################################ Ordinal Encoding (with and without Standardization)\n",
    "# ============ Without Normalization\n",
    "nb_ord = GaussianNB()\n",
    "nb_cv_ord = cross_validate(nb_ord,X_train_ordinal_encoded,y_train,cv=5)\n",
    "\n",
    "# Train the model\n",
    "nb_ord.fit(X_train_ordinal_encoded, y_train)\n",
    "\n",
    "# Predictions\n",
    "nb_ord_pred_train = nb_ord.predict(X_train_ordinal_encoded)\n",
    "nb_ord_pred_train_proba = nb_ord.predict_proba(X_train_ordinal_encoded)\n",
    "\n",
    "nb_ord_pred_val = nb_ord.predict(X_val_ordinal_encoded)\n",
    "nb_ord_pred_val_proba = nb_ord.predict_proba(X_val_ordinal_encoded)\n",
    "\n",
    "# ============ With Normalization\n",
    "nb_ord_norm = GaussianNB()\n",
    "nb_cv_ord_norm = cross_validate(nb_ord_norm,X_train_norm,y_train,cv=5)\n",
    "\n",
    "# Train the model\n",
    "nb_ord_norm.fit(X_train_norm, y_train)\n",
    "\n",
    "# Predictions\n",
    "nb_ord_norm_pred_train = nb_ord_norm.predict(X_train_norm)\n",
    "nb_ord_norm_pred_train_proba = nb_ord_norm.predict_proba(X_train_norm)\n",
    "\n",
    "nb_ord_norm_pred_val = nb_ord_norm.predict(X_val_ordinal_encoded)\n",
    "nb_ord_norm_pred_val_proba = nb_ord_norm.predict_proba(X_val_ordinal_encoded)\n",
    "\n",
    "# ################################ One-Hot Encoding\n",
    "nb_ohe = GaussianNB()\n",
    "cv_ohe = cross_validate(nb_ohe,X_train_ohe,y_train,cv=5)\n",
    "\n",
    "# Train the model\n",
    "nb_ohe.fit(X_train_ohe, y_train)\n",
    "\n",
    "# Predictions\n",
    "nb_ohe_pred_train = nb_ohe.predict(X_train_ohe)\n",
    "nb_ohe_pred_train_proba = nb_ohe.predict_proba(X_train_ohe)\n",
    "\n",
    "nb_ohe_pred_val = nb_ohe.predict(X_val_ohe)\n",
    "nb_ohe_pred_val_proba = nb_ohe.predict_proba(X_val_ohe)\n",
    "\n",
    "## Time of Execution Naïve Bayes = 26.7 s"
   ]
  },
  {
   "cell_type": "code",
   "execution_count": null,
   "id": "4e1e4886c3866948",
   "metadata": {
    "ExecuteTime": {
     "end_time": "2024-10-19T23:41:30.907980Z",
     "start_time": "2024-10-19T23:41:28.669880Z"
    }
   },
   "outputs": [],
   "source": [
    "# Classification Metrics & Confusion Matrix\n",
    "classification_metrics('Naïve Bayes | Ordinal Encoding (W/o Normalization)', nb_cv_ord,\n",
    "                       y_train, nb_ord_pred_train, nb_ord_pred_train_proba, \n",
    "                       y_val, nb_ord_pred_val, nb_ord_pred_val_proba, classification_report=False)\n",
    "\n",
    "classification_metrics('Naïve Bayes | Ordinal Encoding (With Normalization)', nb_cv_ord_norm,\n",
    "                        y_train, nb_ord_norm_pred_train, nb_ord_norm_pred_train_proba, \n",
    "                        y_val, nb_ord_norm_pred_val, nb_ord_norm_pred_val_proba, classification_report=False)\n",
    "\n",
    "classification_metrics('Naïve Bayes | One-Hot Encoding', cv_ohe,\n",
    "                        y_train, nb_ohe_pred_train, nb_ohe_pred_train_proba, \n",
    "                        y_val, nb_ohe_pred_val, nb_ohe_pred_val_proba, classification_report=False)"
   ]
  },
  {
   "cell_type": "code",
   "execution_count": null,
   "id": "46414fe4",
   "metadata": {},
   "outputs": [],
   "source": [
    "# Dataframe with the results of the models\n",
    "df_results_train = pd.DataFrame(models_results_train).T\n",
    "df_results_val = pd.DataFrame(models_results_val).T\n",
    "\n",
    "# Display the results\n",
    "display_side_by_side(df_results_train[3:], df_results_val[3:], \n",
    "                     titles=['Training Set', 'Validation Set'],\n",
    "                     super_title='Results of the Naïve Bayes Model')"
   ]
  },
  {
   "cell_type": "markdown",
   "id": "d1668825",
   "metadata": {},
   "source": [
    "---"
   ]
  },
  {
   "cell_type": "markdown",
   "id": "983890a7217565d3",
   "metadata": {},
   "source": [
    "### **K-Nearest Neighbors (KNN) [<sup>[3]</sup>](https://scikit-learn.org/1.5/modules/generated/sklearn.neighbors.KNeighborsClassifier.html)** <a class='anchor' id='knn'></a>\n",
    "\n",
    "#### **KNN - Brute Force** <a class='anchor' id='knn-brute-force'></a>"
   ]
  },
  {
   "cell_type": "code",
   "execution_count": null,
   "id": "8ef6e0e1dff3ef20",
   "metadata": {
    "ExecuteTime": {
     "end_time": "2024-10-19T23:51:29.596468Z",
     "start_time": "2024-10-19T23:42:22.572686Z"
    }
   },
   "outputs": [],
   "source": [
    "# ------------------------------------------------- K-Nearest Neighbors [Brute Force Algorithm] -------------------------------------------------\n",
    "# ################################ Ordinal Encoding (with and without Standardization)\n",
    "# ============ Without Normalization\n",
    "knn_ord = KNeighborsClassifier(algorithm='brute')\n",
    "knn_cv_ord = cross_validate(knn_ord,X_train_ordinal_encoded,y_train,cv=5)\n",
    "\n",
    "# Train the model\n",
    "knn_ord.fit(X_train_ordinal_encoded, y_train)\n",
    "\n",
    "# Predictions\n",
    "knn_ord_pred_train = knn_ord.predict(X_train_ordinal_encoded)\n",
    "knn_ord_pred_train_proba = knn_ord.predict_proba(X_train_ordinal_encoded)\n",
    "\n",
    "knn_ord_pred_val = knn_ord.predict(X_val_ordinal_encoded)\n",
    "knn_ord_pred_val_proba = knn_ord.predict_proba(X_val_ordinal_encoded)\n",
    "\n",
    "# ============ With Normalization\n",
    "knn_ord_norm = KNeighborsClassifier(algorithm='brute')\n",
    "knn_cv_ord_norm = cross_validate(knn_ord_norm,X_train_norm,y_train,cv=5)\n",
    "\n",
    "# Train the model\n",
    "knn_ord_norm.fit(X_train_norm, y_train)\n",
    "\n",
    "# Predictions\n",
    "knn_ord_norm_pred_train = knn_ord_norm.predict(X_train_norm)\n",
    "knn_ord_norm_pred_train_proba = knn_ord_norm.predict_proba(X_train_norm)\n",
    "\n",
    "knn_ord_norm_pred_val = knn_ord_norm.predict(X_val_ordinal_encoded)\n",
    "knn_ord_norm_pred_val_proba = knn_ord_norm.predict_proba(X_val_ordinal_encoded)\n",
    "\n",
    "# ################################ One-Hot Encoding\n",
    "knn_ohe = KNeighborsClassifier(algorithm='brute')\n",
    "cv_ohe = cross_validate(knn_ohe,X_train_ohe,y_train,cv=5)\n",
    "\n",
    "# Train the model\n",
    "knn_ohe.fit(X_train_ohe, y_train)\n",
    "\n",
    "# Predictions\n",
    "knn_ohe_pred_train = knn_ohe.predict(X_train_ohe)\n",
    "knn_ohe_pred_train_proba = knn_ohe.predict_proba(X_train_ohe)\n",
    "\n",
    "knn_ohe_pred_val = knn_ohe.predict(X_val_ohe)\n",
    "knn_ohe_pred_val_proba = knn_ohe.predict_proba(X_val_ohe)\n",
    "\n",
    "## Time of Execution KNN (Brute Force Algorithm) = 32m 15.5s"
   ]
  },
  {
   "cell_type": "markdown",
   "id": "2512c58d",
   "metadata": {},
   "source": [
    "#### **KNN - KD Tree** <a class='anchor' id='knn-kd-tree'></a>"
   ]
  },
  {
   "cell_type": "code",
   "execution_count": null,
   "id": "53c0ae2c",
   "metadata": {},
   "outputs": [],
   "source": [
    "# ------------------------------------------------- K-Nearest Neighbors [KD Tree Algorithm] -------------------------------------------------\n",
    "# ################################ Ordinal Encoding (with and without Standardization)\n",
    "# ============ Without Normalization\n",
    "knn_kd_ord = KNeighborsClassifier(algorithm='kd_tree')\n",
    "knn_cv_kd_ord = cross_validate(knn_kd_ord, X_train_ordinal_encoded, y_train, cv=5)\n",
    "\n",
    "# Train the model\n",
    "knn_kd_ord.fit(X_train_ordinal_encoded, y_train)\n",
    "\n",
    "# Predictions\n",
    "knn_kd_ord_pred_train = knn_kd_ord.predict(X_train_ordinal_encoded)\n",
    "knn_kd_ord_pred_train_proba = knn_kd_ord.predict_proba(X_train_ordinal_encoded)\n",
    "\n",
    "knn_kd_ord_pred_val = knn_kd_ord.predict(X_val_ordinal_encoded)\n",
    "knn_kd_ord_pred_val_proba = knn_kd_ord.predict_proba(X_val_ordinal_encoded)\n",
    "\n",
    "# ============ With Normalization\n",
    "knn_kd_ord_norm = KNeighborsClassifier(algorithm='kd_tree')\n",
    "knn_cv_kd_ord_norm = cross_validate(knn_kd_ord_norm, X_train_norm, y_train, cv=5)\n",
    "\n",
    "# Train the model\n",
    "knn_kd_ord_norm.fit(X_train_norm, y_train)\n",
    "\n",
    "# Predictions\n",
    "knn_kd_ord_norm_pred_train = knn_kd_ord_norm.predict(X_train_norm)\n",
    "knn_kd_ord_norm_pred_train_proba = knn_kd_ord_norm.predict_proba(X_train_norm)\n",
    "\n",
    "knn_kd_ord_norm_pred_val = knn_kd_ord_norm.predict(X_val_ordinal_encoded)\n",
    "knn_kd_ord_norm_pred_val_proba = knn_kd_ord_norm.predict_proba(X_val_ordinal_encoded)\n",
    "\n",
    "# ################################ One-Hot Encoding\n",
    "knn_kd_ohe = KNeighborsClassifier(algorithm='kd_tree')\n",
    "knn_cv_kd_ohe = cross_validate(knn_kd_ohe, X_train_ohe, y_train, cv=5)\n",
    "\n",
    "# Train the model\n",
    "knn_kd_ohe.fit(X_train_ohe, y_train)\n",
    "\n",
    "# Predictions\n",
    "knn_kd_ohe_pred_train = knn_kd_ohe.predict(X_train_ohe)\n",
    "knn_kd_ohe_pred_train_proba = knn_kd_ohe.predict_proba(X_train_ohe)\n",
    "\n",
    "knn_kd_ohe_pred_val = knn_kd_ohe.predict(X_val_ohe)\n",
    "knn_kd_ohe_pred_val_proba = knn_kd_ohe.predict_proba(X_val_ohe)\n",
    "\n",
    "## Time of Execution KNN (KD Tree Algorithm) = Xh Xm Xs"
   ]
  },
  {
   "cell_type": "markdown",
   "id": "b41c614c",
   "metadata": {},
   "source": [
    "#### **KNN - KD Tree** <a class='anchor' id='knn-kd-tree'></a>"
   ]
  },
  {
   "cell_type": "code",
   "execution_count": null,
   "id": "9c8ec532",
   "metadata": {},
   "outputs": [],
   "source": [
    "\n",
    "# ------------------------------------------------- K-Nearest Neighbors [Ball Tree Algorithm] -------------------------------------------------\n",
    "# ################################ Ordinal Encoding (with and without Standardization)\n",
    "# ============ Without Normalization\n",
    "knn_ball_ord = KNeighborsClassifier(algorithm='ball_tree')\n",
    "knn_cv_ball_ord = cross_validate(knn_ball_ord, X_train_ordinal_encoded, y_train, cv=5)\n",
    "\n",
    "# Train the model\n",
    "knn_ball_ord.fit(X_train_ordinal_encoded, y_train)\n",
    "\n",
    "# Predictions\n",
    "knn_ball_ord_pred_train = knn_ball_ord.predict(X_train_ordinal_encoded)\n",
    "knn_ball_ord_pred_train_proba = knn_ball_ord.predict_proba(X_train_ordinal_encoded)\n",
    "\n",
    "knn_ball_ord_pred_val = knn_ball_ord.predict(X_val_ordinal_encoded)\n",
    "knn_ball_ord_pred_val_proba = knn_ball_ord.predict_proba(X_val_ordinal_encoded)\n",
    "\n",
    "# ============ With Normalization\n",
    "knn_ball_ord_norm = KNeighborsClassifier(algorithm='ball_tree')\n",
    "knn_cv_ball_ord_norm = cross_validate(knn_ball_ord_norm, X_train_norm, y_train, cv=5)\n",
    "\n",
    "# Train the model\n",
    "knn_ball_ord_norm.fit(X_train_norm, y_train)\n",
    "\n",
    "# Predictions\n",
    "knn_ball_ord_norm_pred_train = knn_ball_ord_norm.predict(X_train_norm)\n",
    "knn_ball_ord_norm_pred_train_proba = knn_ball_ord_norm.predict_proba(X_train_norm)\n",
    "\n",
    "knn_ball_ord_norm_pred_val = knn_ball_ord_norm.predict(X_val_ordinal_encoded)\n",
    "knn_ball_ord_norm_pred_val_proba = knn_ball_ord_norm.predict_proba(X_val_ordinal_encoded)\n",
    "\n",
    "# ################################ One-Hot Encoding\n",
    "knn_ball_ohe = KNeighborsClassifier(algorithm='ball_tree')\n",
    "knn_cv_ball_ohe = cross_validate(knn_ball_ohe, X_train_ohe, y_train, cv=5)\n",
    "\n",
    "# Train the model\n",
    "knn_ball_ohe.fit(X_train_ohe, y_train)\n",
    "\n",
    "# Predictions\n",
    "knn_ball_ohe_pred_train = knn_ball_ohe.predict(X_train_ohe)\n",
    "knn_ball_ohe_pred_train_proba = knn_ball_ohe.predict_proba(X_train_ohe)\n",
    "\n",
    "knn_ball_ohe_pred_val = knn_ball_ohe.predict(X_val_ohe)\n",
    "knn_ball_ohe_pred_val_proba = knn_ball_ohe.predict_proba(X_val_ohe)\n",
    "\n",
    "## Time of Execution KNN (Ball Tree Algorithm) = Xh Xm Xs"
   ]
  },
  {
   "cell_type": "markdown",
   "id": "fc2e1db0",
   "metadata": {},
   "source": [
    "#### **KNN - Locally Weighted Learning (LWL)** <a class='anchor' id='knn-locally-weighted-learning'></a>"
   ]
  },
  {
   "cell_type": "code",
   "execution_count": null,
   "id": "7702968a5e1eaa35",
   "metadata": {
    "ExecuteTime": {
     "end_time": "2024-10-19T23:52:38.194923Z",
     "start_time": "2024-10-19T23:52:36.373116Z"
    }
   },
   "outputs": [],
   "source": [
    "# Classification Metrics & Confusion Matrix\n",
    "classification_metrics('K-Nearest Neighbors | Ordinal Encoding (Brute Force)', knn_cv_ord,\n",
    "                       y_train, knn_ord_pred_train, knn_ord_pred_train_proba, \n",
    "                       y_val, knn_ord_pred_val, knn_ord_pred_val_proba, classification_report=False)\n",
    "\n",
    "classification_metrics('K-Nearest Neighbors | Ordinal Encoding (KD Tree)', knn_cv_kd_ord,\n",
    "                        y_train, knn_kd_ord_pred_train, knn_kd_ord_pred_train_proba, \n",
    "                        y_val, knn_kd_ord_pred_val, knn_kd_ord_pred_val_proba, classification_report=False)\n",
    "\n",
    "classification_metrics('K-Nearest Neighbors | Ordinal Encoding (Ball Tree)', knn_cv_ball_ord,\n",
    "                        y_train, knn_ball_ord_pred_train, knn_ball_ord_pred_train_proba, \n",
    "                        y_val, knn_ball_ord_pred_val, knn_ball_ord_pred_val_proba, classification_report=False)\n",
    "\n",
    "classification_metrics('K-Nearest Neighbors | Ordinal Encoding (Brute Force) [With Normalization]', knn_cv_ord_norm,\n",
    "                        y_train, knn_ord_norm_pred_train, knn_ord_norm_pred_train_proba, \n",
    "                        y_val, knn_ord_norm_pred_val, knn_ord_norm_pred_val_proba, classification_report=False)\n",
    "\n",
    "classification_metrics('K-Nearest Neighbors | Ordinal Encoding (KD Tree) [With Normalization]', knn_cv_kd_ord_norm,\n",
    "                        y_train, knn_kd_ord_norm_pred_train, knn_kd_ord_norm_pred_train_proba, \n",
    "                        y_val, knn_kd_ord_norm_pred_val, knn_kd_ord_norm_pred_val_proba, classification_report=False)\n",
    "\n",
    "classification_metrics('K-Nearest Neighbors | Ordinal Encoding (Ball Tree) [With Normalization]', knn_cv_ball_ord_norm,\n",
    "                        y_train, knn_ball_ord_norm_pred_train, knn_ball_ord_norm_pred_train_proba, \n",
    "                        y_val, knn_ball_ord_norm_pred_val, knn_ball_ord_norm_pred_val_proba, classification_report=False)\n",
    "\n",
    "classification_metrics('K-Nearest Neighbors | One-Hot Encoding (Brute Force)', cv_ohe,\n",
    "                        y_train, knn_ohe_pred_train, knn_ohe_pred_train_proba, \n",
    "                        y_val, knn_ohe_pred_val, knn_ohe_pred_val_proba, classification_report=False)\n",
    "\n",
    "classification_metrics('K-Nearest Neighbors | One-Hot Encoding (KD Tree)', knn_cv_kd_ohe,\n",
    "                        y_train, knn_kd_ohe_pred_train, knn_kd_ohe_pred_train_proba, \n",
    "                        y_val, knn_kd_ohe_pred_val, knn_kd_ohe_pred_val_proba, classification_report=False)\n",
    "\n",
    "classification_metrics('K-Nearest Neighbors | One-Hot Encoding (Ball Tree)', knn_cv_ball_ohe,\n",
    "                        y_train, knn_ball_ohe_pred_train, knn_ball_ohe_pred_train_proba, \n",
    "                        y_val, knn_ball_ohe_pred_val, knn_ball_ohe_pred_val_proba, classification_report=False)"
   ]
  },
  {
   "cell_type": "code",
   "execution_count": null,
   "id": "ba2e3e9624bcc4a4",
   "metadata": {},
   "outputs": [],
   "source": [
    "# Dataframe with the results of the models\n",
    "df_results_train = pd.DataFrame(models_results_train).T\n",
    "df_results_val = pd.DataFrame(models_results_val).T\n",
    "\n",
    "# Display the results\n",
    "display_side_by_side(df_results_train[6:], df_results_val[6:], \n",
    "                     titles=['Training Set', 'Validation Set'],\n",
    "                     super_title='Results of the K-Nearest Neighbors Model')"
   ]
  },
  {
   "cell_type": "markdown",
   "id": "7fb0d60d",
   "metadata": {},
   "source": [
    "---"
   ]
  },
  {
   "cell_type": "markdown",
   "id": "8e37ddd5",
   "metadata": {},
   "source": [
    "### **Neural Network [<sup>[4]</sup>](https://scikit-learn.org/1.5/modules/generated/sklearn.neural_network.MLPClassifier.html)** <a class='anchor' id='neural-network'></a>"
   ]
  },
  {
   "cell_type": "code",
   "execution_count": null,
   "id": "f0ea1003",
   "metadata": {},
   "outputs": [],
   "source": [
    "# ------------------------------------------------- Neural Network -------------------------------------------------\n",
    "# ################################ Ordinal Encoding (with and without Standardization)\n",
    "# ============ Without Normalization\n",
    "nn_ord = MLPClassifier(max_iter=300, verbose=True, random_state=2024)\n",
    "nn_cv_ord = cross_validate(nn_ord, X_train_ordinal_encoded, y_train, cv=5)\n",
    "\n",
    "# Train the model\n",
    "nn_ord.fit(X_train_ordinal_encoded, y_train)\n",
    "\n",
    "# Predictions\n",
    "nn_ord_pred_train = nn_ord.predict(X_train_ordinal_encoded)\n",
    "nn_ord_pred_train_proba = nn_ord.predict_proba(X_train_ordinal_encoded)\n",
    "\n",
    "nn_ord_pred_val = nn_ord.predict(X_val_ordinal_encoded)\n",
    "nn_ord_pred_val_proba = nn_ord.predict_proba(X_val_ordinal_encoded)\n",
    "\n",
    "# ============ With Normalization\n",
    "nn_ord_norm = MLPClassifier(max_iter=300, verbose=True, random_state=2024)\n",
    "nn_cv_ord_norm = cross_validate(nn_ord_norm, X_train_norm, y_train, cv=5)\n",
    "\n",
    "# Train the model\n",
    "nn_ord_norm.fit(X_train_norm, y_train)\n",
    "\n",
    "# Predictions\n",
    "nn_ord_norm_pred_train = nn_ord_norm.predict(X_train_norm)\n",
    "nn_ord_norm_pred_train_proba = nn_ord_norm.predict_proba(X_train_norm)\n",
    "\n",
    "nn_ord_norm_pred_val = nn_ord_norm.predict(X_validation_norm)\n",
    "nn_ord_norm_pred_val_proba = nn_ord_norm.predict_proba(X_validation_norm)\n",
    "\n",
    "# ################################ One-Hot Encoding\n",
    "nn_ohe = MLPClassifier(max_iter=300, verbose=True, random_state=2024)\n",
    "nn_cv_ohe = cross_validate(nn_ohe, X_train_ohe, y_train, cv=5)\n",
    "\n",
    "# Train the model\n",
    "nn_ohe.fit(X_train_ohe, y_train)\n",
    "\n",
    "# Predictions\n",
    "nn_ohe_pred_train = nn_ohe.predict(X_train_ohe)\n",
    "nn_ohe_pred_train_proba = nn_ohe.predict_proba(X_train_ohe)\n",
    "\n",
    "nn_ohe_pred_val = nn_ohe.predict(X_val_ohe)\n",
    "nn_ohe_pred_val_proba = nn_ohe.predict_proba(X_val_ohe)\n",
    "\n",
    "## Time of Execution Neural Network = 57m 22.7s"
   ]
  },
  {
   "cell_type": "code",
   "execution_count": null,
   "id": "f7eeb4c3",
   "metadata": {},
   "outputs": [],
   "source": [
    "# Classification Metrics & Confusion Matrix\n",
    "classification_metrics('Neural Network | Ordinal Encoding (W/o Normalization)', nn_cv_ord,\n",
    "                       y_train, nn_ord_pred_train, nn_ord_pred_train_proba, \n",
    "                       y_val, nn_ord_pred_val, nn_ord_pred_val_proba, classification_report=False)\n",
    "\n",
    "classification_metrics('Neural Network | Ordinal Encoding (With Normalization)', nn_cv_ord_norm,\n",
    "                        y_train, nn_ord_norm_pred_train, nn_ord_norm_pred_train_proba, \n",
    "                        y_val, nn_ord_norm_pred_val, nn_ord_norm_pred_val_proba, classification_report=False)\n",
    "\n",
    "classification_metrics('Neural Network | One-Hot Encoding', nn_cv_ohe,\n",
    "                        y_train, nn_ohe_pred_train, nn_ohe_pred_train_proba, \n",
    "                        y_val, nn_ohe_pred_val, nn_ohe_pred_val_proba, classification_report=False)"
   ]
  },
  {
   "cell_type": "code",
   "execution_count": null,
   "id": "f44746fd",
   "metadata": {},
   "outputs": [],
   "source": [
    "# Dataframe with the results of the models\n",
    "df_results_train = pd.DataFrame(models_results_train).T\n",
    "df_results_val = pd.DataFrame(models_results_val).T\n",
    "\n",
    "# Display the results\n",
    "display_side_by_side(df_results_train, df_results_val, \n",
    "                     titles=['Training Set', 'Validation Set'],\n",
    "                     super_title='Results of the Neural Network Model')"
   ]
  },
  {
   "cell_type": "markdown",
   "id": "7b7461714e3b1b15",
   "metadata": {
    "ExecuteTime": {
     "end_time": "2024-10-13T20:24:04.987262Z",
     "start_time": "2024-10-13T20:24:04.984885Z"
    }
   },
   "source": [
    "---"
   ]
  },
  {
   "cell_type": "markdown",
   "id": "f6f6bbd860a401e3",
   "metadata": {},
   "source": [
    "### **Decision Tree[<sup>[5]</sup>](https://scikit-learn.org/1.5/modules/generated/sklearn.tree.DecisionTreeClassifier.html)** <a class='anchor' id='decision-tree'></a>"
   ]
  },
  {
   "cell_type": "code",
   "execution_count": null,
   "id": "21c8490e",
   "metadata": {},
   "outputs": [],
   "source": [
    "# ------------------------------------------------- Decision Tree -------------------------------------------------\n",
    "# ################################ Ordinal Encoding (with and without Standardization)\n",
    "# ============ Without Normalization\n",
    "dt_ord = DecisionTreeClassifier()\n",
    "dt_cv_ord = cross_validate(dt_ord, X_train_ordinal_encoded, y_train, cv=5)\n",
    "\n",
    "# Train the model\n",
    "dt_ord.fit(X_train_ordinal_encoded, y_train)\n",
    "\n",
    "# Predictions\n",
    "dt_ord_pred_train = dt_ord.predict(X_train_ordinal_encoded)\n",
    "dt_ord_pred_train_proba = dt_ord.predict_proba(X_train_ordinal_encoded)\n",
    "\n",
    "dt_ord_pred_val = dt_ord.predict(X_val_ordinal_encoded)\n",
    "dt_ord_pred_val_proba = dt_ord.predict_proba(X_val_ordinal_encoded)\n",
    "\n",
    "# ============ With Normalization\n",
    "dt_ord_norm = DecisionTreeClassifier()\n",
    "dt_cv_ord_norm = cross_validate(dt_ord_norm, X_train_norm, y_train, cv=5)\n",
    "\n",
    "# Train the model\n",
    "dt_ord_norm.fit(X_train_norm, y_train)\n",
    "\n",
    "# Predictions\n",
    "dt_ord_norm_pred_train = dt_ord_norm.predict(X_train_norm)\n",
    "dt_ord_norm_pred_train_proba = dt_ord_norm.predict_proba(X_train_norm)\n",
    "\n",
    "dt_ord_norm_pred_val = dt_ord_norm.predict(X_val_ordinal_encoded)\n",
    "dt_ord_norm_pred_val_proba = dt_ord_norm.predict_proba(X_val_ordinal_encoded)\n",
    "\n",
    "# ################################ One-Hot Encoding\n",
    "dt_ohe = DecisionTreeClassifier()\n",
    "dt_cv_ohe = cross_validate(dt_ohe, X_train_ohe, y_train, cv=5)\n",
    "\n",
    "# Train the model\n",
    "dt_ohe.fit(X_train_ohe, y_train)\n",
    "\n",
    "# Predictions\n",
    "dt_ohe_pred_train = dt_ohe.predict(X_train_ohe)\n",
    "dt_ohe_pred_train_proba = dt_ohe.predict_proba(X_train_ohe)\n",
    "\n",
    "dt_ohe_pred_val = dt_ohe.predict(X_val_ohe)\n",
    "dt_ohe_pred_val_proba = dt_ohe.predict_proba(X_val_ohe)"
   ]
  },
  {
   "cell_type": "code",
   "execution_count": null,
   "id": "f68df9e6a9280561",
   "metadata": {
    "ExecuteTime": {
     "end_time": "2024-10-13T20:24:09.802688Z",
     "start_time": "2024-10-13T20:24:09.800186Z"
    }
   },
   "outputs": [],
   "source": [
    "# Classification Metrics & Confusion Matrix\n",
    "classification_metrics('Decision Tree | Ordinal Encoding (W/o Normalization)', dt_cv_ord,\n",
    "                       y_train, dt_ord_pred_train, dt_ord_pred_train_proba, \n",
    "                       y_val, dt_ord_pred_val, dt_ord_pred_val_proba, classification_report=False)\n",
    "\n",
    "classification_metrics('Decision Tree | Ordinal Encoding (With Normalization)', dt_cv_ord_norm,\n",
    "                        y_train, dt_ord_norm_pred_train, dt_ord_norm_pred_train_proba, \n",
    "                        y_val, dt_ord_norm_pred_val, dt_ord_norm_pred_val_proba, classification_report=False)\n",
    "\n",
    "classification_metrics('Decision Tree | One-Hot Encoding', dt_cv_ohe,\n",
    "                        y_train, dt_ohe_pred_train, dt_ohe_pred_train_proba, \n",
    "                        y_val, dt_ohe_pred_val, dt_ohe_pred_val_proba, classification_report=False)"
   ]
  },
  {
   "cell_type": "code",
   "execution_count": null,
   "id": "def9514c31415a30",
   "metadata": {
    "ExecuteTime": {
     "end_time": "2024-10-13T20:24:10.168500Z",
     "start_time": "2024-10-13T20:24:10.165850Z"
    }
   },
   "outputs": [],
   "source": [
    "# Dataframe with the results of the models\n",
    "df_results_train = pd.DataFrame(models_results_train).T\n",
    "df_results_val = pd.DataFrame(models_results_val).T\n",
    "\n",
    "# Display the results\n",
    "display_side_by_side(df_results_train[12:], df_results_val[12:], \n",
    "                     titles=['Training Set', 'Validation Set'],\n",
    "                     super_title='Results of the Decision Tree Model')"
   ]
  },
  {
   "cell_type": "markdown",
   "id": "116e5938",
   "metadata": {},
   "source": [
    "---"
   ]
  },
  {
   "cell_type": "markdown",
   "id": "2f2c9cc20b4cf6da",
   "metadata": {},
   "source": [
    "### **Random Forest[<sup>[6]</sup>](https://scikit-learn.org/1.5/modules/generated/sklearn.ensemble.RandomForestClassifier.html)** <a class='anchor' id='random-forest'></a>"
   ]
  },
  {
   "cell_type": "code",
   "execution_count": null,
   "id": "16f2a9f29c8939f2",
   "metadata": {
    "ExecuteTime": {
     "end_time": "2024-10-13T20:24:14.306942Z",
     "start_time": "2024-10-13T20:24:14.304549Z"
    }
   },
   "outputs": [],
   "source": [
    "# ------------------------------------------------- Random Forest -------------------------------------------------\n",
    "# ################################ Ordinal Encoding (with and without Standardization)\n",
    "# ============ Without Normalization\n",
    "rf_ord = RandomForestClassifier()\n",
    "rf_cv_ord = cross_validate(rf_ord, X_train_ordinal_encoded, y_train, cv=5)\n",
    "\n",
    "# Train the model\n",
    "rf_ord.fit(X_train_ordinal_encoded, y_train)\n",
    "\n",
    "# Predictions\n",
    "rf_ord_pred_train = rf_ord.predict(X_train_ordinal_encoded)\n",
    "rf_ord_pred_train_proba = rf_ord.predict_proba(X_train_ordinal_encoded)\n",
    "\n",
    "rf_ord_pred_val = rf_ord.predict(X_val_ordinal_encoded)\n",
    "rf_ord_pred_val_proba = rf_ord.predict_proba(X_val_ordinal_encoded)\n",
    "\n",
    "# ============ With Normalization\n",
    "rf_ord_norm = RandomForestClassifier()\n",
    "rf_cv_ord_norm = cross_validate(rf_ord_norm, X_train_norm, y_train, cv=5)\n",
    "\n",
    "# Train the model\n",
    "rf_ord_norm.fit(X_train_norm, y_train)\n",
    "\n",
    "# Predictions\n",
    "rf_ord_norm_pred_train = rf_ord_norm.predict(X_train_norm)\n",
    "rf_ord_norm_pred_train_proba = rf_ord_norm.predict_proba(X_train_norm)\n",
    "\n",
    "rf_ord_norm_pred_val = rf_ord_norm.predict(X_val_ordinal_encoded)\n",
    "rf_ord_norm_pred_val_proba = rf_ord_norm.predict_proba(X_val_ordinal_encoded)\n",
    "\n",
    "# ################################ One-Hot Encoding\n",
    "rf_ohe = RandomForestClassifier()\n",
    "rf_cv_ohe = cross_validate(rf_ohe, X_train_ohe, y_train, cv=5)\n",
    "\n",
    "# Train the model\n",
    "rf_ohe.fit(X_train_ohe, y_train)\n",
    "\n",
    "# Predictions\n",
    "rf_ohe_pred_train = rf_ohe.predict(X_train_ohe)\n",
    "rf_ohe_pred_train_proba = rf_ohe.predict_proba(X_train_ohe)\n",
    "\n",
    "rf_ohe_pred_val = rf_ohe.predict(X_val_ohe)\n",
    "rf_ohe_pred_val_proba = rf_ohe.predict_proba(X_val_ohe)"
   ]
  },
  {
   "cell_type": "code",
   "execution_count": null,
   "id": "53eba8e08891e5d",
   "metadata": {
    "ExecuteTime": {
     "end_time": "2024-10-13T20:24:14.796692Z",
     "start_time": "2024-10-13T20:24:14.793818Z"
    }
   },
   "outputs": [],
   "source": [
    "# Classification Metrics & Confusion Matrix\n",
    "classification_metrics('Random Forest | Ordinal Encoding (W/o Normalization)', rf_cv_ord,\n",
    "                       y_train, rf_ord_pred_train, rf_ord_pred_train_proba, \n",
    "                       y_val, rf_ord_pred_val, rf_ord_pred_val_proba, classification_report=False)\n",
    "\n",
    "classification_metrics('Random Forest | Ordinal Encoding (With Normalization)', rf_cv_ord_norm,\n",
    "                        y_train, rf_ord_norm_pred_train, rf_ord_norm_pred_train_proba, \n",
    "                        y_val, rf_ord_norm_pred_val, rf_ord_norm_pred_val_proba, classification_report=False)\n",
    "\n",
    "classification_metrics('Random Forest | One-Hot Encoding', rf_cv_ohe,\n",
    "                        y_train, rf_ohe_pred_train, rf_ohe_pred_train_proba, \n",
    "                        y_val, rf_ohe_pred_val, rf_ohe_pred_val_proba, classification_report=False)"
   ]
  },
  {
   "cell_type": "code",
   "execution_count": null,
   "id": "10de87ca",
   "metadata": {},
   "outputs": [],
   "source": [
    "# Dataframe with the results of the models\n",
    "df_results_train = pd.DataFrame(models_results_train).T\n",
    "df_results_val = pd.DataFrame(models_results_val).T\n",
    "\n",
    "# Display the results\n",
    "display_side_by_side(df_results_train[15:], df_results_val[15:], \n",
    "                     titles=['Training Set', 'Validation Set'],\n",
    "                     super_title='Results of the Random Forest Model')"
   ]
  },
  {
   "cell_type": "markdown",
   "id": "e6633ce1",
   "metadata": {},
   "source": [
    "---"
   ]
  },
  {
   "cell_type": "markdown",
   "id": "e88e9b0127415789",
   "metadata": {},
   "source": [
    "### **Support Vector Machine (SVM)[<sup>[7]</sup>](https://scikit-learn.org/1.5/modules/generated/sklearn.svm.SVC.html)** <a class='anchor' id='svm'></a>"
   ]
  },
  {
   "cell_type": "code",
   "execution_count": null,
   "id": "cb264af66e6750dc",
   "metadata": {
    "ExecuteTime": {
     "end_time": "2024-10-13T20:21:36.768955Z",
     "start_time": "2024-10-13T20:21:36.766350Z"
    }
   },
   "outputs": [],
   "source": [
    "# ------------------------------------------------- Support Vector Machine (SVM) -------------------------------------------------\n",
    "# ################################ Ordinal Encoding (with and without Standardization)\n",
    "# ============ Without Normalization\n",
    "svm_ord = SVC(probability=True)\n",
    "svm_cv_ord = cross_validate(svm_ord, X_train_ordinal_encoded, y_train, cv=5)\n",
    "\n",
    "# Train the model\n",
    "svm_ord.fit(X_train_ordinal_encoded, y_train)\n",
    "\n",
    "# Predictions\n",
    "svm_ord_pred_train = svm_ord.predict(X_train_ordinal_encoded)\n",
    "svm_ord_pred_train_proba = svm_ord.predict_proba(X_train_ordinal_encoded)\n",
    "\n",
    "svm_ord_pred_val = svm_ord.predict(X_val_ordinal_encoded)\n",
    "svm_ord_pred_val_proba = svm_ord.predict_proba(X_val_ordinal_encoded)\n",
    "\n",
    "# ============ With Normalization\n",
    "svm_ord_norm = SVC(probability=True)\n",
    "svm_cv_ord_norm = cross_validate(svm_ord_norm, X_train_norm, y_train, cv=5)\n",
    "\n",
    "# Train the model\n",
    "svm_ord_norm.fit(X_train_norm, y_train)\n",
    "\n",
    "# Predictions\n",
    "svm_ord_norm_pred_train = svm_ord_norm.predict(X_train_norm)\n",
    "svm_ord_norm_pred_train_proba = svm_ord_norm.predict_proba(X_train_norm)\n",
    "\n",
    "svm_ord_norm_pred_val = svm_ord_norm.predict(X_validation_norm)\n",
    "svm_ord_norm_pred_val_proba = svm_ord_norm.predict_proba(X_validation_norm)\n",
    "\n",
    "# ################################ One-Hot Encoding\n",
    "svm_ohe = SVC(probability=True)\n",
    "svm_cv_ohe = cross_validate(svm_ohe, X_train_ohe, y_train, cv=5)\n",
    "\n",
    "# Train the model\n",
    "svm_ohe.fit(X_train_ohe, y_train)\n",
    "\n",
    "# Predictions\n",
    "svm_ohe_pred_train = svm_ohe.predict(X_train_ohe)\n",
    "svm_ohe_pred_train_proba = svm_ohe.predict_proba(X_train_ohe)\n",
    "\n",
    "svm_ohe_pred_val = svm_ohe.predict(X_val_ohe)\n",
    "svm_ohe_pred_val_proba = svm_ohe.predict_proba(X_val_ohe)"
   ]
  },
  {
   "cell_type": "code",
   "execution_count": null,
   "id": "631d557b76579a61",
   "metadata": {},
   "outputs": [],
   "source": [
    "# Classification Metrics & Confusion Matrix\n",
    "classification_metrics('SVM | Ordinal Encoding (W/o Normalization)', svm_cv_ord,\n",
    "                       y_train, svm_ord_pred_train, svm_ord_pred_train_proba, \n",
    "                       y_val, svm_ord_pred_val, svm_ord_pred_val_proba, classification_report=False)\n",
    "\n",
    "classification_metrics('SVM | Ordinal Encoding (With Normalization)', svm_cv_ord_norm,\n",
    "                        y_train, svm_ord_norm_pred_train, svm_ord_norm_pred_train_proba, \n",
    "                        y_val, svm_ord_norm_pred_val, svm_ord_norm_pred_val_proba, classification_report=False)\n",
    "\n",
    "classification_metrics('SVM | One-Hot Encoding', svm_cv_ohe,\n",
    "                        y_train, svm_ohe_pred_train, svm_ohe_pred_train_proba, \n",
    "                        y_val, svm_ohe_pred_val, svm_ohe_pred_val_proba, classification_report=False)"
   ]
  },
  {
   "cell_type": "code",
   "execution_count": null,
   "id": "75c95982",
   "metadata": {},
   "outputs": [],
   "source": [
    "# Dataframe with the results of the models\n",
    "df_results_train = pd.DataFrame(models_results_train).T\n",
    "df_results_val = pd.DataFrame(models_results_val).T\n",
    "\n",
    "# Display the results\n",
    "display_side_by_side(df_results_train[18:], df_results_val[18:], \n",
    "                     titles=['Training Set', 'Validation Set'],\n",
    "                     super_title='Results of the Support Vector Machine Model')"
   ]
  },
  {
   "cell_type": "markdown",
   "id": "89cc7292",
   "metadata": {},
   "source": [
    "---"
   ]
  },
  {
   "cell_type": "markdown",
   "id": "de31aca10ac6f1cc",
   "metadata": {},
   "source": [
    "### **Gradient Boosting[<sup>[8]</sup>](https://scikit-learn.org/1.5/modules/generated/sklearn.ensemble.GradientBoostingClassifier.html)** <a class='anchor' id='gradient-boosting'></a>"
   ]
  },
  {
   "cell_type": "code",
   "execution_count": null,
   "id": "76a6c62e32c67cb4",
   "metadata": {
    "ExecuteTime": {
     "end_time": "2024-10-13T20:27:45.776437Z",
     "start_time": "2024-10-13T20:27:45.773686Z"
    }
   },
   "outputs": [],
   "source": [
    "# ------------------------------------------------- Gradient Boosting -------------------------------------------------\n",
    "# ################################ Ordinal Encoding (with and without Standardization)\n",
    "# ============ Without Normalization\n",
    "gb_ord = GradientBoostingClassifier()\n",
    "gb_cv_ord = cross_validate(gb_ord, X_train_ordinal_encoded, y_train, cv=5)\n",
    "\n",
    "# Train the model\n",
    "gb_ord.fit(X_train_ordinal_encoded, y_train)\n",
    "\n",
    "# Predictions\n",
    "gb_ord_pred_train = gb_ord.predict(X_train_ordinal_encoded)\n",
    "gb_ord_pred_train_proba = gb_ord.predict_proba(X_train_ordinal_encoded)\n",
    "\n",
    "gb_ord_pred_val = gb_ord.predict(X_val_ordinal_encoded)\n",
    "gb_ord_pred_val_proba = gb_ord.predict_proba(X_val_ordinal_encoded)\n",
    "\n",
    "# ============ With Normalization\n",
    "gb_ord_norm = GradientBoostingClassifier()\n",
    "gb_cv_ord_norm = cross_validate(gb_ord_norm, X_train_norm, y_train, cv=5)\n",
    "\n",
    "# Train the model\n",
    "gb_ord_norm.fit(X_train_norm, y_train)\n",
    "\n",
    "# Predictions\n",
    "gb_ord_norm_pred_train = gb_ord_norm.predict(X_train_norm)\n",
    "gb_ord_norm_pred_train_proba = gb_ord_norm.predict_proba(X_train_norm)\n",
    "\n",
    "gb_ord_norm_pred_val = gb_ord_norm.predict(X_validation_norm)\n",
    "gb_ord_norm_pred_val_proba = gb_ord_norm.predict_proba(X_validation_norm)\n",
    "\n",
    "# ################################ One-Hot Encoding\n",
    "gb_ohe = GradientBoostingClassifier()\n",
    "gb_cv_ohe = cross_validate(gb_ohe, X_train_ohe, y_train, cv=5)\n",
    "\n",
    "# Train the model\n",
    "gb_ohe.fit(X_train_ohe, y_train)\n",
    "\n",
    "# Predictions\n",
    "gb_ohe_pred_train = gb_ohe.predict(X_train_ohe)\n",
    "gb_ohe_pred_train_proba = gb_ohe.predict_proba(X_train_ohe)\n",
    "\n",
    "gb_ohe_pred_val = gb_ohe.predict(X_val_ohe)\n",
    "gb_ohe_pred_val_proba = gb_ohe.predict_proba(X_val_ohe)"
   ]
  },
  {
   "cell_type": "code",
   "execution_count": null,
   "id": "6b9ad19fb6c275d7",
   "metadata": {
    "ExecuteTime": {
     "end_time": "2024-10-13T20:27:46.464282Z",
     "start_time": "2024-10-13T20:27:46.461555Z"
    }
   },
   "outputs": [],
   "source": [
    "# Classification Metrics & Confusion Matrix\n",
    "classification_metrics('Gradient Boosting | Ordinal Encoding (W/o Normalization)', gb_cv_ord,\n",
    "                       y_train, gb_ord_pred_train, gb_ord_pred_train_proba, \n",
    "                       y_val, gb_ord_pred_val, gb_ord_pred_val_proba, classification_report=False)\n",
    "\n",
    "classification_metrics('Gradient Boosting | Ordinal Encoding (With Normalization)', gb_cv_ord_norm,\n",
    "                        y_train, gb_ord_norm_pred_train, gb_ord_norm_pred_train_proba, \n",
    "                        y_val, gb_ord_norm_pred_val, gb_ord_norm_pred_val_proba, classification_report=False)\n",
    "\n",
    "classification_metrics('Gradient Boosting | One-Hot Encoding', gb_cv_ohe,\n",
    "                        y_train, gb_ohe_pred_train, gb_ohe_pred_train_proba, \n",
    "                        y_val, gb_ohe_pred_val, gb_ohe_pred_val_proba, classification_report=False)"
   ]
  },
  {
   "cell_type": "code",
   "execution_count": null,
   "id": "dbb4ef0a",
   "metadata": {},
   "outputs": [],
   "source": [
    "# Dataframe with the results of the models\n",
    "df_results_train = pd.DataFrame(models_results_train).T\n",
    "df_results_val = pd.DataFrame(models_results_val).T\n",
    "\n",
    "# Display the results\n",
    "display_side_by_side(df_results_train[21:], df_results_val[21:], \n",
    "                     titles=['Training Set', 'Validation Set'],\n",
    "                     super_title='Results of the Gradient Boosting Model')"
   ]
  },
  {
   "cell_type": "markdown",
   "id": "73cc860b",
   "metadata": {},
   "source": [
    "---"
   ]
  },
  {
   "cell_type": "markdown",
   "id": "204995d589f8431f",
   "metadata": {},
   "source": [
    "### <a class='anchor' id='3_1'></a> **🧪 Model Selection**"
   ]
  },
  {
   "cell_type": "code",
   "execution_count": null,
   "id": "6777817f8e7b430d",
   "metadata": {
    "ExecuteTime": {
     "end_time": "2024-10-12T14:30:27.518251Z",
     "start_time": "2024-10-12T14:30:27.515445Z"
    },
    "deletable": true,
    "editable": true,
    "frozen": false
   },
   "outputs": [],
   "source": [
    "# Save the results in a Excel file\n",
    "df_results_train.index.name = 'Model'\n",
    "df_results_val.index.name = 'Model'\n",
    "\n",
    "df_results_train.to_excel('data/3rdNotebook/Models_Results.xlsx', sheet_name='Train_André')         # Change the name of the sheet (e.g. 'Train_André')\n",
    "df_results_val.to_excel('data/3rdNotebook/Models_Results.xlsx', sheet_name='Validation_André')"
   ]
  },
  {
   "cell_type": "code",
   "execution_count": null,
   "id": "810a29f7ed1cd0b",
   "metadata": {
    "ExecuteTime": {
     "end_time": "2024-10-12T14:30:27.704694Z",
     "start_time": "2024-10-12T14:30:27.701744Z"
    },
    "deletable": true,
    "editable": true,
    "frozen": false
   },
   "outputs": [],
   "source": []
  },
  {
   "cell_type": "markdown",
   "id": "6c570899f31ef3ff",
   "metadata": {},
   "source": [
    "---"
   ]
  },
  {
   "cell_type": "markdown",
   "id": "8d330ec1b5a3314e",
   "metadata": {},
   "source": [
    "### <a class='anchor' id='3_2'></a> **📏 Model Evaluation**"
   ]
  },
  {
   "cell_type": "code",
   "execution_count": null,
   "id": "4a650501fbd12d22",
   "metadata": {
    "ExecuteTime": {
     "end_time": "2024-10-12T14:30:42.274079Z",
     "start_time": "2024-10-12T14:30:42.270890Z"
    },
    "deletable": true,
    "editable": true,
    "frozen": false
   },
   "outputs": [],
   "source": []
  },
  {
   "cell_type": "code",
   "execution_count": null,
   "id": "4f7add73692b9d61",
   "metadata": {
    "ExecuteTime": {
     "end_time": "2024-10-12T14:30:42.461218Z",
     "start_time": "2024-10-12T14:30:42.457750Z"
    },
    "deletable": true,
    "editable": true,
    "frozen": false
   },
   "outputs": [],
   "source": []
  },
  {
   "cell_type": "markdown",
   "id": "e3b51b510a378ca3",
   "metadata": {},
   "source": [
    "---"
   ]
  },
  {
   "cell_type": "markdown",
   "id": "68462a4e54cb358e",
   "metadata": {},
   "source": [
    "### <a class='anchor' id='3_3'></a> **📈 Model Optimization**"
   ]
  },
  {
   "cell_type": "code",
   "execution_count": null,
   "id": "355ae13517df275e",
   "metadata": {
    "ExecuteTime": {
     "end_time": "2024-10-06T14:51:01.134240Z",
     "start_time": "2024-10-06T14:51:01.131638Z"
    },
    "deletable": true,
    "editable": true,
    "frozen": false
   },
   "outputs": [],
   "source": []
  },
  {
   "cell_type": "code",
   "execution_count": null,
   "id": "81efb2247d823541",
   "metadata": {
    "ExecuteTime": {
     "end_time": "2024-10-06T14:51:01.700166Z",
     "start_time": "2024-10-06T14:51:01.697774Z"
    },
    "deletable": true,
    "editable": true,
    "frozen": false
   },
   "outputs": [],
   "source": []
  },
  {
   "cell_type": "markdown",
   "id": "b47386269a38625",
   "metadata": {},
   "source": [
    "---"
   ]
  },
  {
   "cell_type": "markdown",
   "id": "745ef4c7353c33b4",
   "metadata": {},
   "source": [
    "### 📊 **Feature Importance**"
   ]
  },
  {
   "cell_type": "code",
   "execution_count": null,
   "id": "1a86fb1977da0b10",
   "metadata": {
    "ExecuteTime": {
     "end_time": "2024-10-06T14:51:33.139565Z",
     "start_time": "2024-10-06T14:51:33.136075Z"
    },
    "deletable": true,
    "editable": true,
    "frozen": false
   },
   "outputs": [],
   "source": []
  },
  {
   "cell_type": "code",
   "execution_count": null,
   "id": "2accb01eecd62499",
   "metadata": {
    "ExecuteTime": {
     "end_time": "2024-10-06T14:51:33.607961Z",
     "start_time": "2024-10-06T14:51:33.605457Z"
    },
    "deletable": true,
    "editable": true,
    "frozen": false
   },
   "outputs": [],
   "source": []
  },
  {
   "cell_type": "markdown",
   "id": "b82496a685ee8baa",
   "metadata": {},
   "source": [
    "---"
   ]
  },
  {
   "cell_type": "markdown",
   "id": "7ada486ffe254bb0",
   "metadata": {},
   "source": [
    "## 🔮 **Test Data Prediction**"
   ]
  },
  {
   "cell_type": "code",
   "execution_count": null,
   "id": "98ea63f2904166c3",
   "metadata": {
    "ExecuteTime": {
     "end_time": "2024-10-19T23:33:32.536692Z",
     "start_time": "2024-10-19T23:33:32.518306Z"
    }
   },
   "outputs": [],
   "source": [
    "# Predictions on the test_data\n",
    "pred_test_ord = knn_ball_ohe.predict(test_data_ordinal_encoded)\n",
    "pred_test_ohe = knn_ball_ohe.predict(test_data_ohe)"
   ]
  },
  {
   "cell_type": "code",
   "execution_count": null,
   "id": "a864194b3cc3c278",
   "metadata": {
    "ExecuteTime": {
     "end_time": "2024-10-19T23:33:33.230513Z",
     "start_time": "2024-10-19T23:33:33.091615Z"
    },
    "deletable": true,
    "editable": true,
    "frozen": false
   },
   "outputs": [],
   "source": [
    "# Dictionary with the mapping of the predicted values\n",
    "claim_injury_type_dict_swapped = {1: \"1. CANCELLED\", 2: \"2. NON-COMP\", 3: \"3. MED ONLY\", 4: \"4. TEMPORARY\",\n",
    "                                  5: \"5. PPD SCH LOSS\", 6: \"6. PPD NSL\", 7: \"7. PTD\", 8: \"8. DEATH\"}\n",
    "\n",
    "# Create a DataFrame with the 'ID' and the 'Predicted' columns\n",
    "submission_data = pd.DataFrame({'Claim Identifier': test_data['Claim Identifier'], 'Claim Injury Type': pred_test_ohe})\n",
    "submission_data['Claim Injury Type'] = submission_data['Claim Injury Type'].map(claim_injury_type_dict_swapped)\n",
    "submission_data"
   ]
  },
  {
   "cell_type": "markdown",
   "id": "4486952ea7b2abfa",
   "metadata": {},
   "source": [
    "---"
   ]
  },
  {
   "cell_type": "markdown",
   "id": "44821ed2896d8592",
   "metadata": {},
   "source": [
    "## 📋 **CSV Export - Submission**"
   ]
  },
  {
   "cell_type": "code",
   "execution_count": null,
   "id": "f0a88f8d5d4f3f57",
   "metadata": {
    "ExecuteTime": {
     "end_time": "2024-10-19T23:33:35.891333Z",
     "start_time": "2024-10-19T23:33:35.702692Z"
    },
    "deletable": true,
    "editable": true,
    "frozen": false
   },
   "outputs": [],
   "source": [
    "# Each submission in Kaggle should have different names and should have the version name in the following format \n",
    "# – GroupXX_VersionXX.csv (for example, Group 1 submitted his 8th version, the file should be named Group01__Version08.csv)\n",
    "\n",
    "submission_data.to_csv('submissions/Group33_Version01.csv', index=False, header=True, sep=',')\n",
    "# submission_data.to_csv('submissions/Group33_Version02.csv', index=False, header=True, sep=',')"
   ]
  },
  {
   "cell_type": "markdown",
   "id": "9dff3bdf66c1f233",
   "metadata": {},
   "source": [
    "---"
   ]
  }
 ],
 "metadata": {
  "kernelspec": {
   "display_name": "base",
   "language": "python",
   "name": "python3"
  },
  "language_info": {
   "codemirror_mode": {
    "name": "ipython",
    "version": 3
   },
   "file_extension": ".py",
   "mimetype": "text/x-python",
   "name": "python",
   "nbconvert_exporter": "python",
   "pygments_lexer": "ipython3",
   "version": "3.12.4"
  }
 },
 "nbformat": 4,
 "nbformat_minor": 5
}
