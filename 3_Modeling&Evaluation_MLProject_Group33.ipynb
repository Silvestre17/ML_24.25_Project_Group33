{
 "cells": [
  {
   "metadata": {},
   "cell_type": "markdown",
   "source": [
    "<div style=\"display: flex; align-items: center; justify-content: center; flex-wrap: wrap;\">\n",
    "    <div style=\"flex: 1; max-width: 400px; display: flex; justify-content: center;\">\n",
    "        <img src=\"https://i.ibb.co/JBPWVYR/Logo-Nova-IMS-Black.png\" style=\"max-width: 50%; height: auto; margin-top: 50px; margin-bottom: 50px;margin-left: 3rem;\">\n",
    "    </div>\n",
    "    <div style=\"flex: 2; text-align: center; margin-top: 20px;\">\n",
    "        <div style=\"font-size: 28px; font-weight: bold; line-height: 1.2;\">\n",
    "            <span style=\"color: #08306B;\">ML Project |</span> <span style=\"color: #08529C;\">To Grant or Not to Grant</span>\n",
    "        </div>\n",
    "        <div style=\"font-size: 17px; font-weight: bold; margin-top: 10px;\">\n",
    "            Fall Semester | 2024 - 2025\n",
    "        </div>\n",
    "        <div style=\"font-size: 17px; font-weight: bold;\">\n",
    "            Master in Data Science and Advanced Analytics\n",
    "        </div>\n",
    "        <div style=\"margin-top: 20px;\">\n",
    "            <div>André Silvestre, 20240502</div>\n",
    "            <div>João Henriques, 20240499</div>\n",
    "            <div>Simone Genovese, 20241459</div>\n",
    "            <div>Steven Carlson, 20240554</div>\n",
    "            <div>Vinícius Pinto, 20211682</div>\n",
    "            <div>Zofia Wojcik, 20240654</div>\n",
    "        </div>\n",
    "        <div style=\"margin-top: 20px; font-weight: bold;\">\n",
    "            TBL Group 33\n",
    "        </div>\n",
    "    </div>\n",
    "</div>"
   ],
   "id": "1834cc3d7b582eb2"
  },
  {
   "metadata": {},
   "cell_type": "markdown",
   "source": "## 📚 Libraries Import\n",
   "id": "7f603cf1cb0fd531"
  },
  {
   "metadata": {
    "deletable": true,
    "editable": true,
    "frozen": false,
    "ExecuteTime": {
     "end_time": "2024-10-12T14:23:25.677228Z",
     "start_time": "2024-10-12T14:23:25.508792Z"
    }
   },
   "cell_type": "code",
   "source": [
    "# For data\n",
    "import pandas as pd\n",
    "import numpy as np\n",
    "import os\n",
    "\n",
    "# For plotting\n",
    "import matplotlib.pyplot as plt\n",
    "import seaborn as sns\n",
    "import matplotlib.ticker as mtick\n",
    "import matplotlib.lines as mlines\n",
    "import missingno as msno\n",
    "\n",
    "# For data preprocessing\n",
    "from sklearn.model_selection import train_test_split\n",
    "\n",
    "# Set the style of the visualization\n",
    "pd.set_option('display.max_columns', None) # display all columns\n",
    "\n",
    "# for better resolution plots\n",
    "%config InlineBackend.figure_format = 'retina' # optionally, you can change 'svg' to 'retina'\n",
    "\n",
    "# Setting seaborn style\n",
    "sns.set_theme(style=\"white\")"
   ],
   "id": "b209518998b249d3",
   "outputs": [],
   "execution_count": 1
  },
  {
   "metadata": {},
   "cell_type": "markdown",
   "source": "## 🧮 Import Databases",
   "id": "4a5d91a720daf9a2"
  },
  {
   "metadata": {
    "deletable": true,
    "editable": true,
    "frozen": false,
    "ExecuteTime": {
     "end_time": "2024-10-12T14:23:25.687600Z",
     "start_time": "2024-10-12T14:23:25.683273Z"
    }
   },
   "cell_type": "code",
   "source": [
    "# Importing the dataset\n",
    "# train_data = pd.read_csv('data/train_data_1.csv', low_memory=False)   # low_memory=False to avoid warning message about mixed types\n",
    "# test_data = pd.read_csv('data/test_data_1.csv')"
   ],
   "id": "8e78aa233134c06e",
   "outputs": [],
   "execution_count": 2
  },
  {
   "metadata": {
    "ExecuteTime": {
     "end_time": "2024-10-12T14:23:25.986488Z",
     "start_time": "2024-10-12T14:23:25.982065Z"
    }
   },
   "cell_type": "code",
   "source": [
    "# # Display the first 2 rows of each dataset\n",
    "# train_data.head(2) "
   ],
   "id": "bd71ca18d539bbd0",
   "outputs": [],
   "execution_count": 3
  },
  {
   "metadata": {
    "ExecuteTime": {
     "end_time": "2024-10-12T14:23:27.644893Z",
     "start_time": "2024-10-12T14:23:27.641296Z"
    }
   },
   "cell_type": "code",
   "source": "# test_data.head(2)",
   "id": "e5400421ca668a5b",
   "outputs": [],
   "execution_count": 4
  },
  {
   "metadata": {},
   "cell_type": "markdown",
   "source": [
    "# <a class='anchor' id='3'></a>\n",
    "<br>\n",
    "<style>\n",
    "@import url('https://fonts.cdnfonts.com/css/avenir-next-lt-pro?styles=29974');\n",
    "</style>\n",
    "\n",
    "<div style=\"background: linear-gradient(to right,#08529C, #08306B); \n",
    "            padding: 10px; color: white; border-radius: 300px; text-align: center;\">\n",
    "    <center><h1 style=\"margin-left: 140px;margin-top: 10px; margin-bottom: 4px; color: white;\n",
    "                       font-size: 32px; font-family: 'Avenir Next LT Pro', sans-serif;\">\n",
    "        <b>3 | Modeling & Evaluation</b></h1></center>\n",
    "</div>\n",
    "\n",
    "<br><br>"
   ],
   "id": "61f158b792ebd291"
  },
  {
   "metadata": {},
   "cell_type": "code",
   "outputs": [],
   "execution_count": null,
   "source": "",
   "id": "e740fa8eeab0a205"
  },
  {
   "metadata": {},
   "cell_type": "markdown",
   "source": "# 💡 Modeling",
   "id": "26312ae5b0368022"
  },
  {
   "metadata": {
    "deletable": true,
    "editable": true,
    "frozen": false,
    "ExecuteTime": {
     "end_time": "2024-10-12T14:27:57.381059Z",
     "start_time": "2024-10-12T14:27:57.377664Z"
    }
   },
   "cell_type": "code",
   "source": "",
   "id": "e76ee07b6279e2e8",
   "outputs": [],
   "execution_count": null
  },
  {
   "metadata": {},
   "cell_type": "markdown",
   "source": "---",
   "id": "bc14c9ee6ff120ce"
  },
  {
   "metadata": {},
   "cell_type": "markdown",
   "source": "### <a class='anchor' id='3_1'></a> **🧪 Model Selection**",
   "id": "204995d589f8431f"
  },
  {
   "metadata": {
    "deletable": true,
    "editable": true,
    "frozen": false,
    "ExecuteTime": {
     "end_time": "2024-10-12T14:30:27.518251Z",
     "start_time": "2024-10-12T14:30:27.515445Z"
    }
   },
   "cell_type": "code",
   "source": "",
   "id": "6777817f8e7b430d",
   "outputs": [],
   "execution_count": null
  },
  {
   "metadata": {
    "deletable": true,
    "editable": true,
    "frozen": false,
    "ExecuteTime": {
     "end_time": "2024-10-12T14:30:27.704694Z",
     "start_time": "2024-10-12T14:30:27.701744Z"
    }
   },
   "cell_type": "code",
   "source": "",
   "id": "810a29f7ed1cd0b",
   "outputs": [],
   "execution_count": null
  },
  {
   "metadata": {},
   "cell_type": "markdown",
   "source": "---",
   "id": "6c570899f31ef3ff"
  },
  {
   "metadata": {},
   "cell_type": "markdown",
   "source": "### <a class='anchor' id='3_2'></a> **📏 Model Evaluation**",
   "id": "8d330ec1b5a3314e"
  },
  {
   "metadata": {
    "deletable": true,
    "editable": true,
    "frozen": false,
    "ExecuteTime": {
     "end_time": "2024-10-12T14:30:42.274079Z",
     "start_time": "2024-10-12T14:30:42.270890Z"
    }
   },
   "cell_type": "code",
   "source": "",
   "id": "4a650501fbd12d22",
   "outputs": [],
   "execution_count": null
  },
  {
   "metadata": {
    "deletable": true,
    "editable": true,
    "frozen": false,
    "ExecuteTime": {
     "end_time": "2024-10-12T14:30:42.461218Z",
     "start_time": "2024-10-12T14:30:42.457750Z"
    }
   },
   "cell_type": "code",
   "source": "",
   "id": "4f7add73692b9d61",
   "outputs": [],
   "execution_count": null
  },
  {
   "metadata": {},
   "cell_type": "markdown",
   "source": "---",
   "id": "e3b51b510a378ca3"
  },
  {
   "metadata": {},
   "cell_type": "markdown",
   "source": "### <a class='anchor' id='3_3'></a> **📈 Model Optimization**",
   "id": "68462a4e54cb358e"
  },
  {
   "metadata": {
    "ExecuteTime": {
     "end_time": "2024-10-06T14:51:01.134240Z",
     "start_time": "2024-10-06T14:51:01.131638Z"
    },
    "deletable": true,
    "editable": true,
    "frozen": false
   },
   "cell_type": "code",
   "outputs": [],
   "source": "",
   "id": "355ae13517df275e",
   "execution_count": null
  },
  {
   "metadata": {
    "ExecuteTime": {
     "end_time": "2024-10-06T14:51:01.700166Z",
     "start_time": "2024-10-06T14:51:01.697774Z"
    },
    "deletable": true,
    "editable": true,
    "frozen": false
   },
   "cell_type": "code",
   "outputs": [],
   "source": "",
   "id": "81efb2247d823541",
   "execution_count": null
  },
  {
   "metadata": {},
   "cell_type": "markdown",
   "source": "---",
   "id": "b47386269a38625"
  },
  {
   "metadata": {},
   "cell_type": "markdown",
   "source": "### 📊 Feature Importance",
   "id": "745ef4c7353c33b4"
  },
  {
   "metadata": {
    "ExecuteTime": {
     "end_time": "2024-10-06T14:51:33.139565Z",
     "start_time": "2024-10-06T14:51:33.136075Z"
    },
    "deletable": true,
    "editable": true,
    "frozen": false
   },
   "cell_type": "code",
   "outputs": [],
   "source": "",
   "id": "1a86fb1977da0b10",
   "execution_count": null
  },
  {
   "metadata": {
    "ExecuteTime": {
     "end_time": "2024-10-06T14:51:33.607961Z",
     "start_time": "2024-10-06T14:51:33.605457Z"
    },
    "deletable": true,
    "editable": true,
    "frozen": false
   },
   "cell_type": "code",
   "outputs": [],
   "source": "",
   "id": "2accb01eecd62499",
   "execution_count": null
  },
  {
   "metadata": {},
   "cell_type": "markdown",
   "source": "---",
   "id": "b82496a685ee8baa"
  },
  {
   "metadata": {},
   "cell_type": "markdown",
   "source": "## 🔮 Test Data Prediction",
   "id": "7ada486ffe254bb0"
  },
  {
   "metadata": {
    "ExecuteTime": {
     "end_time": "2024-10-06T14:52:38.934380Z",
     "start_time": "2024-10-06T14:52:38.931727Z"
    },
    "deletable": true,
    "editable": true,
    "frozen": false
   },
   "cell_type": "code",
   "outputs": [],
   "source": "",
   "id": "a864194b3cc3c278",
   "execution_count": null
  },
  {
   "metadata": {
    "ExecuteTime": {
     "end_time": "2024-10-06T14:52:40.124151Z",
     "start_time": "2024-10-06T14:52:40.121806Z"
    },
    "deletable": true,
    "editable": true,
    "frozen": false
   },
   "cell_type": "code",
   "outputs": [],
   "source": "",
   "id": "6c0adb6695d0e652",
   "execution_count": null
  },
  {
   "metadata": {},
   "cell_type": "markdown",
   "source": "---",
   "id": "4486952ea7b2abfa"
  },
  {
   "metadata": {},
   "cell_type": "markdown",
   "source": "## 📋 CSV Export - Submission",
   "id": "44821ed2896d8592"
  },
  {
   "metadata": {
    "ExecuteTime": {
     "end_time": "2024-10-06T17:17:07.861155Z",
     "start_time": "2024-10-06T17:17:07.841044Z"
    },
    "deletable": true,
    "editable": true,
    "frozen": false
   },
   "cell_type": "code",
   "outputs": [],
   "execution_count": 20,
   "source": [
    "# Each submission in Kaggle should have different names and should have the version name in the following format \n",
    "# – GroupXX_VersionXX.csv (for example, Group 1 submitted his 8th version, the file should be named Group01__Version08.csv)\n",
    "\n",
    "\n",
    "# submission_data.to_csv('submissions/Group33_Version01.csv', index=False, header=True, sep=',')"
   ],
   "id": "f0a88f8d5d4f3f57"
  },
  {
   "metadata": {
    "deletable": true,
    "editable": true,
    "frozen": false
   },
   "cell_type": "code",
   "outputs": [],
   "source": "",
   "id": "eddf6ca4cdda39b",
   "execution_count": null
  }
 ],
 "metadata": {
  "kernelspec": {
   "display_name": "Python 3",
   "language": "python",
   "name": "python3"
  },
  "language_info": {
   "codemirror_mode": {
    "name": "ipython",
    "version": 2
   },
   "file_extension": ".py",
   "mimetype": "text/x-python",
   "name": "python",
   "nbconvert_exporter": "python",
   "pygments_lexer": "ipython2",
   "version": "2.7.6"
  }
 },
 "nbformat": 4,
 "nbformat_minor": 5
}
