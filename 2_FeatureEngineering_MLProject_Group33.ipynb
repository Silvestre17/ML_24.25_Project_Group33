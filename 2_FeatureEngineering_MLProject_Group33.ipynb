{
 "cells": [
  {
   "metadata": {},
   "cell_type": "markdown",
   "source": [
    "<div style=\"display: flex; align-items: center; justify-content: center; flex-wrap: wrap;\">\n",
    "    <div style=\"flex: 1; max-width: 400px; display: flex; justify-content: center;\">\n",
    "        <img src=\"https://i.ibb.co/JBPWVYR/Logo-Nova-IMS-Black.png\" style=\"max-width: 50%; height: auto; margin-top: 50px; margin-bottom: 50px;margin-left: 3rem;\">\n",
    "    </div>\n",
    "    <div style=\"flex: 2; text-align: center; margin-top: 20px;\">\n",
    "        <div style=\"font-size: 28px; font-weight: bold; line-height: 1.2;\">\n",
    "            <span style=\"color: #08306B;\">ML Project |</span> <span style=\"color: #08529C;\">To Grant or Not to Grant</span>\n",
    "        </div>\n",
    "        <div style=\"font-size: 17px; font-weight: bold; margin-top: 10px;\">\n",
    "            Fall Semester | 2024 - 2025\n",
    "        </div>\n",
    "        <div style=\"font-size: 17px; font-weight: bold;\">\n",
    "            Master in Data Science and Advanced Analytics\n",
    "        </div>\n",
    "        <div style=\"margin-top: 20px;\">\n",
    "            <div>André Silvestre, 20240502</div>\n",
    "            <div>João Henriques, 20240499</div>\n",
    "            <div>Simone Genovese, 20241459</div>\n",
    "            <div>Steven Carlson, 20240554</div>\n",
    "            <div>Vinícius Pinto, 20211682</div>\n",
    "            <div>Zofia Wojcik, 20240654</div>\n",
    "        </div>\n",
    "        <div style=\"margin-top: 20px; font-weight: bold;\">\n",
    "            TBL Group 33\n",
    "        </div>\n",
    "    </div>\n",
    "</div>"
   ],
   "id": "d8b23b07f259ca99"
  },
  {
   "metadata": {},
   "cell_type": "markdown",
   "source": "## 📚 Libraries Import\n",
   "id": "df6859083154b24"
  },
  {
   "metadata": {
    "deletable": true,
    "editable": true,
    "frozen": false,
    "ExecuteTime": {
     "end_time": "2024-10-13T20:12:44.992830Z",
     "start_time": "2024-10-13T20:12:44.533550Z"
    }
   },
   "cell_type": "code",
   "source": [
    "# For data\n",
    "import pandas as pd\n",
    "import numpy as np\n",
    "import os\n",
    "\n",
    "# For plotting\n",
    "import matplotlib.pyplot as plt\n",
    "import seaborn as sns\n",
    "import matplotlib.ticker as mtick\n",
    "import matplotlib.lines as mlines\n",
    "import missingno as msno\n",
    "\n",
    "# For data preprocessing\n",
    "from sklearn.model_selection import train_test_split\n",
    "from sklearn import model_selection, preprocessing, feature_selection, ensemble, linear_model, metrics, decomposition\n",
    "\n",
    "# Set the style of the visualization\n",
    "pd.set_option('display.max_columns', None) # display all columns\n",
    "\n",
    "# for better resolution plots\n",
    "%config InlineBackend.figure_format = 'retina' # optionally, you can change 'svg' to 'retina'\n",
    "\n",
    "# Setting seaborn style\n",
    "sns.set_theme(style=\"white\")"
   ],
   "id": "347aab6ecd96c517",
   "outputs": [],
   "execution_count": 2
  },
  {
   "metadata": {},
   "cell_type": "markdown",
   "source": "## 🧮 Import Databases",
   "id": "568291f09e689c54"
  },
  {
   "metadata": {
    "deletable": true,
    "editable": true,
    "frozen": false,
    "ExecuteTime": {
     "end_time": "2024-10-13T20:18:31.279582Z",
     "start_time": "2024-10-13T20:18:30.362443Z"
    }
   },
   "cell_type": "code",
   "source": [
    "# Importing the dataset\n",
    "train_data = pd.read_parquet('data/1stNotebook/train_data_cleaned.parquet')\n",
    "test_data = pd.read_parquet('data/1stNotebook/test_data_cleaned.parquet')"
   ],
   "id": "315fdb11e7314c4d",
   "outputs": [],
   "execution_count": 5
  },
  {
   "metadata": {
    "ExecuteTime": {
     "end_time": "2024-10-13T20:18:32.199882Z",
     "start_time": "2024-10-13T20:18:32.181891Z"
    }
   },
   "cell_type": "code",
   "source": [
    "# Display the first 2 rows of each dataset\n",
    "train_data.head(2) "
   ],
   "id": "2f2303470f5985fe",
   "outputs": [
    {
     "data": {
      "text/plain": [
       "  Accident Date  Age at Injury Alternative Dispute Resolution Assembly Date  \\\n",
       "0    2019-12-30           31.0                              N    2020-01-01   \n",
       "1    2019-08-30           46.0                              N    2020-01-01   \n",
       "\n",
       "  Attorney/Representative  Average Weekly Wage  Birth Year   C-2 Date  \\\n",
       "0                       N                 0.00      1988.0 2019-12-31   \n",
       "1                       Y              1745.93      1973.0 2020-01-01   \n",
       "\n",
       "                   Carrier Name Carrier Type  Claim Identifier  \\\n",
       "0    NEW HAMPSHIRE INSURANCE CO  1A. PRIVATE           5393875   \n",
       "1  ZURICH AMERICAN INSURANCE CO  1A. PRIVATE           5393091   \n",
       "\n",
       "  Claim Injury Type County of Injury COVID-19 Indicator District Name Gender  \\\n",
       "0       2. NON-COMP     ST. LAWRENCE                  N      SYRACUSE      M   \n",
       "1      4. TEMPORARY          WYOMING                  N     ROCHESTER      F   \n",
       "\n",
       "   Industry Code Industry Code Description Medical Fee Region  \\\n",
       "0           44.0              RETAIL TRADE                  I   \n",
       "1           23.0              CONSTRUCTION                  I   \n",
       "\n",
       "   WCIO Cause of Injury Code WCIO Cause of Injury Description  \\\n",
       "0                       27.0     FROM LIQUID OR GREASE SPILLS   \n",
       "1                       97.0                REPETITIVE MOTION   \n",
       "\n",
       "   WCIO Nature of Injury Code WCIO Nature of Injury Description  \\\n",
       "0                        10.0                         CONTUSION   \n",
       "1                        49.0                    SPRAIN OR TEAR   \n",
       "\n",
       "   WCIO Part Of Body Code WCIO Part Of Body Description Zip Code  \\\n",
       "0                    62.0                      BUTTOCKS    13662   \n",
       "1                    38.0                   SHOULDER(S)    14569   \n",
       "\n",
       "   Number of Dependents  Birth Year Clean  Age at Injury Clean  \n",
       "0                   1.0            1988.0                 31.0  \n",
       "1                   4.0            1973.0                 46.0  "
      ],
      "text/html": [
       "<div>\n",
       "<style scoped>\n",
       "    .dataframe tbody tr th:only-of-type {\n",
       "        vertical-align: middle;\n",
       "    }\n",
       "\n",
       "    .dataframe tbody tr th {\n",
       "        vertical-align: top;\n",
       "    }\n",
       "\n",
       "    .dataframe thead th {\n",
       "        text-align: right;\n",
       "    }\n",
       "</style>\n",
       "<table border=\"1\" class=\"dataframe\">\n",
       "  <thead>\n",
       "    <tr style=\"text-align: right;\">\n",
       "      <th></th>\n",
       "      <th>Accident Date</th>\n",
       "      <th>Age at Injury</th>\n",
       "      <th>Alternative Dispute Resolution</th>\n",
       "      <th>Assembly Date</th>\n",
       "      <th>Attorney/Representative</th>\n",
       "      <th>Average Weekly Wage</th>\n",
       "      <th>Birth Year</th>\n",
       "      <th>C-2 Date</th>\n",
       "      <th>Carrier Name</th>\n",
       "      <th>Carrier Type</th>\n",
       "      <th>Claim Identifier</th>\n",
       "      <th>Claim Injury Type</th>\n",
       "      <th>County of Injury</th>\n",
       "      <th>COVID-19 Indicator</th>\n",
       "      <th>District Name</th>\n",
       "      <th>Gender</th>\n",
       "      <th>Industry Code</th>\n",
       "      <th>Industry Code Description</th>\n",
       "      <th>Medical Fee Region</th>\n",
       "      <th>WCIO Cause of Injury Code</th>\n",
       "      <th>WCIO Cause of Injury Description</th>\n",
       "      <th>WCIO Nature of Injury Code</th>\n",
       "      <th>WCIO Nature of Injury Description</th>\n",
       "      <th>WCIO Part Of Body Code</th>\n",
       "      <th>WCIO Part Of Body Description</th>\n",
       "      <th>Zip Code</th>\n",
       "      <th>Number of Dependents</th>\n",
       "      <th>Birth Year Clean</th>\n",
       "      <th>Age at Injury Clean</th>\n",
       "    </tr>\n",
       "  </thead>\n",
       "  <tbody>\n",
       "    <tr>\n",
       "      <th>0</th>\n",
       "      <td>2019-12-30</td>\n",
       "      <td>31.0</td>\n",
       "      <td>N</td>\n",
       "      <td>2020-01-01</td>\n",
       "      <td>N</td>\n",
       "      <td>0.00</td>\n",
       "      <td>1988.0</td>\n",
       "      <td>2019-12-31</td>\n",
       "      <td>NEW HAMPSHIRE INSURANCE CO</td>\n",
       "      <td>1A. PRIVATE</td>\n",
       "      <td>5393875</td>\n",
       "      <td>2. NON-COMP</td>\n",
       "      <td>ST. LAWRENCE</td>\n",
       "      <td>N</td>\n",
       "      <td>SYRACUSE</td>\n",
       "      <td>M</td>\n",
       "      <td>44.0</td>\n",
       "      <td>RETAIL TRADE</td>\n",
       "      <td>I</td>\n",
       "      <td>27.0</td>\n",
       "      <td>FROM LIQUID OR GREASE SPILLS</td>\n",
       "      <td>10.0</td>\n",
       "      <td>CONTUSION</td>\n",
       "      <td>62.0</td>\n",
       "      <td>BUTTOCKS</td>\n",
       "      <td>13662</td>\n",
       "      <td>1.0</td>\n",
       "      <td>1988.0</td>\n",
       "      <td>31.0</td>\n",
       "    </tr>\n",
       "    <tr>\n",
       "      <th>1</th>\n",
       "      <td>2019-08-30</td>\n",
       "      <td>46.0</td>\n",
       "      <td>N</td>\n",
       "      <td>2020-01-01</td>\n",
       "      <td>Y</td>\n",
       "      <td>1745.93</td>\n",
       "      <td>1973.0</td>\n",
       "      <td>2020-01-01</td>\n",
       "      <td>ZURICH AMERICAN INSURANCE CO</td>\n",
       "      <td>1A. PRIVATE</td>\n",
       "      <td>5393091</td>\n",
       "      <td>4. TEMPORARY</td>\n",
       "      <td>WYOMING</td>\n",
       "      <td>N</td>\n",
       "      <td>ROCHESTER</td>\n",
       "      <td>F</td>\n",
       "      <td>23.0</td>\n",
       "      <td>CONSTRUCTION</td>\n",
       "      <td>I</td>\n",
       "      <td>97.0</td>\n",
       "      <td>REPETITIVE MOTION</td>\n",
       "      <td>49.0</td>\n",
       "      <td>SPRAIN OR TEAR</td>\n",
       "      <td>38.0</td>\n",
       "      <td>SHOULDER(S)</td>\n",
       "      <td>14569</td>\n",
       "      <td>4.0</td>\n",
       "      <td>1973.0</td>\n",
       "      <td>46.0</td>\n",
       "    </tr>\n",
       "  </tbody>\n",
       "</table>\n",
       "</div>"
      ]
     },
     "execution_count": 6,
     "metadata": {},
     "output_type": "execute_result"
    }
   ],
   "execution_count": 6
  },
  {
   "metadata": {
    "ExecuteTime": {
     "end_time": "2024-10-13T20:18:35.758933Z",
     "start_time": "2024-10-13T20:18:35.744631Z"
    }
   },
   "cell_type": "code",
   "source": "test_data.head(2)",
   "id": "af1aebdc5596482",
   "outputs": [
    {
     "data": {
      "text/plain": [
       "  Accident Date  Age at Injury Alternative Dispute Resolution Assembly Date  \\\n",
       "0    2022-12-24             19                              N    2023-01-02   \n",
       "1    2022-11-20             19                              N    2023-01-02   \n",
       "\n",
       "  Attorney/Representative  Average Weekly Wage  Birth Year   C-2 Date  \\\n",
       "0                       N                  NaN        2003 2023-01-02   \n",
       "1                       N                  NaN        2003 2023-01-02   \n",
       "\n",
       "                Carrier Name Carrier Type  Claim Identifier County of Injury  \\\n",
       "0  INDEMNITY INSURANCE CO OF  1A. PRIVATE           6165911            BRONX   \n",
       "1    A I U INSURANCE COMPANY  1A. PRIVATE           6166141           QUEENS   \n",
       "\n",
       "  COVID-19 Indicator District Name Gender  Industry Code  \\\n",
       "0                  N           NYC      M             48   \n",
       "1                  N           NYC      F             45   \n",
       "\n",
       "        Industry Code Description Medical Fee Region  \\\n",
       "0  TRANSPORTATION AND WAREHOUSING                 IV   \n",
       "1                    RETAIL TRADE                 IV   \n",
       "\n",
       "   WCIO Cause of Injury Code WCIO Cause of Injury Description  \\\n",
       "0                         31          FALL, SLIP OR TRIP, NOC   \n",
       "1                         75         FALLING OR FLYING OBJECT   \n",
       "\n",
       "   WCIO Nature of Injury Code WCIO Nature of Injury Description  \\\n",
       "0                          10                         CONTUSION   \n",
       "1                          10                         CONTUSION   \n",
       "\n",
       "   WCIO Part Of Body Code WCIO Part Of Body Description Zip Code  \\\n",
       "0                      54                     LOWER LEG    10466   \n",
       "1                      10          MULTIPLE HEAD INJURY    11691   \n",
       "\n",
       "   Number of Dependents  Birth Year Clean  Age at Injury Clean  \n",
       "0                     1              2003                   19  \n",
       "1                     1              2003                   19  "
      ],
      "text/html": [
       "<div>\n",
       "<style scoped>\n",
       "    .dataframe tbody tr th:only-of-type {\n",
       "        vertical-align: middle;\n",
       "    }\n",
       "\n",
       "    .dataframe tbody tr th {\n",
       "        vertical-align: top;\n",
       "    }\n",
       "\n",
       "    .dataframe thead th {\n",
       "        text-align: right;\n",
       "    }\n",
       "</style>\n",
       "<table border=\"1\" class=\"dataframe\">\n",
       "  <thead>\n",
       "    <tr style=\"text-align: right;\">\n",
       "      <th></th>\n",
       "      <th>Accident Date</th>\n",
       "      <th>Age at Injury</th>\n",
       "      <th>Alternative Dispute Resolution</th>\n",
       "      <th>Assembly Date</th>\n",
       "      <th>Attorney/Representative</th>\n",
       "      <th>Average Weekly Wage</th>\n",
       "      <th>Birth Year</th>\n",
       "      <th>C-2 Date</th>\n",
       "      <th>Carrier Name</th>\n",
       "      <th>Carrier Type</th>\n",
       "      <th>Claim Identifier</th>\n",
       "      <th>County of Injury</th>\n",
       "      <th>COVID-19 Indicator</th>\n",
       "      <th>District Name</th>\n",
       "      <th>Gender</th>\n",
       "      <th>Industry Code</th>\n",
       "      <th>Industry Code Description</th>\n",
       "      <th>Medical Fee Region</th>\n",
       "      <th>WCIO Cause of Injury Code</th>\n",
       "      <th>WCIO Cause of Injury Description</th>\n",
       "      <th>WCIO Nature of Injury Code</th>\n",
       "      <th>WCIO Nature of Injury Description</th>\n",
       "      <th>WCIO Part Of Body Code</th>\n",
       "      <th>WCIO Part Of Body Description</th>\n",
       "      <th>Zip Code</th>\n",
       "      <th>Number of Dependents</th>\n",
       "      <th>Birth Year Clean</th>\n",
       "      <th>Age at Injury Clean</th>\n",
       "    </tr>\n",
       "  </thead>\n",
       "  <tbody>\n",
       "    <tr>\n",
       "      <th>0</th>\n",
       "      <td>2022-12-24</td>\n",
       "      <td>19</td>\n",
       "      <td>N</td>\n",
       "      <td>2023-01-02</td>\n",
       "      <td>N</td>\n",
       "      <td>NaN</td>\n",
       "      <td>2003</td>\n",
       "      <td>2023-01-02</td>\n",
       "      <td>INDEMNITY INSURANCE CO OF</td>\n",
       "      <td>1A. PRIVATE</td>\n",
       "      <td>6165911</td>\n",
       "      <td>BRONX</td>\n",
       "      <td>N</td>\n",
       "      <td>NYC</td>\n",
       "      <td>M</td>\n",
       "      <td>48</td>\n",
       "      <td>TRANSPORTATION AND WAREHOUSING</td>\n",
       "      <td>IV</td>\n",
       "      <td>31</td>\n",
       "      <td>FALL, SLIP OR TRIP, NOC</td>\n",
       "      <td>10</td>\n",
       "      <td>CONTUSION</td>\n",
       "      <td>54</td>\n",
       "      <td>LOWER LEG</td>\n",
       "      <td>10466</td>\n",
       "      <td>1</td>\n",
       "      <td>2003</td>\n",
       "      <td>19</td>\n",
       "    </tr>\n",
       "    <tr>\n",
       "      <th>1</th>\n",
       "      <td>2022-11-20</td>\n",
       "      <td>19</td>\n",
       "      <td>N</td>\n",
       "      <td>2023-01-02</td>\n",
       "      <td>N</td>\n",
       "      <td>NaN</td>\n",
       "      <td>2003</td>\n",
       "      <td>2023-01-02</td>\n",
       "      <td>A I U INSURANCE COMPANY</td>\n",
       "      <td>1A. PRIVATE</td>\n",
       "      <td>6166141</td>\n",
       "      <td>QUEENS</td>\n",
       "      <td>N</td>\n",
       "      <td>NYC</td>\n",
       "      <td>F</td>\n",
       "      <td>45</td>\n",
       "      <td>RETAIL TRADE</td>\n",
       "      <td>IV</td>\n",
       "      <td>75</td>\n",
       "      <td>FALLING OR FLYING OBJECT</td>\n",
       "      <td>10</td>\n",
       "      <td>CONTUSION</td>\n",
       "      <td>10</td>\n",
       "      <td>MULTIPLE HEAD INJURY</td>\n",
       "      <td>11691</td>\n",
       "      <td>1</td>\n",
       "      <td>2003</td>\n",
       "      <td>19</td>\n",
       "    </tr>\n",
       "  </tbody>\n",
       "</table>\n",
       "</div>"
      ]
     },
     "execution_count": 7,
     "metadata": {},
     "output_type": "execute_result"
    }
   ],
   "execution_count": 7
  },
  {
   "metadata": {},
   "cell_type": "markdown",
   "source": [
    "# <a class='anchor' id='2'></a>\n",
    "<br>\n",
    "<style>\n",
    "@import url('https://fonts.cdnfonts.com/css/avenir-next-lt-pro?styles=29974');\n",
    "</style>\n",
    "\n",
    "<div style=\"background: linear-gradient(to right,#08529C, #08306B); \n",
    "            padding: 10px; color: white; border-radius: 300px; text-align: center;\">\n",
    "    <center><h1 style=\"margin-left: 140px;margin-top: 10px; margin-bottom: 4px; color: white;\n",
    "                       font-size: 32px; font-family: 'Avenir Next LT Pro', sans-serif;\">\n",
    "        <b>2 | Data Preparation</b></h1></center>\n",
    "</div>\n",
    "\n",
    "<br><br>"
   ],
   "id": "88745c759264780e"
  },
  {
   "metadata": {},
   "cell_type": "markdown",
   "source": [
    "### ⚖️ **Training/Validation Division**\n",
    "\n",
    "> Before starting the feature engineering process, we will divide the training data into training and validation sets. This will allow us to evaluate the performance of the models we will develop."
   ],
   "id": "b71790756d7cf2c"
  },
  {
   "metadata": {
    "deletable": true,
    "editable": true,
    "frozen": false,
    "ExecuteTime": {
     "end_time": "2024-10-13T20:12:17.448444700Z",
     "start_time": "2024-10-12T14:27:57.711700Z"
    }
   },
   "cell_type": "code",
   "outputs": [],
   "source": "",
   "id": "cf6ff2b5d693ca05",
   "execution_count": null
  },
  {
   "metadata": {
    "deletable": true,
    "editable": true,
    "frozen": false,
    "ExecuteTime": {
     "end_time": "2024-10-12T14:27:58.005872Z",
     "start_time": "2024-10-12T14:27:58.002474Z"
    }
   },
   "cell_type": "code",
   "outputs": [],
   "source": "",
   "id": "7278e1d9a9915246",
   "execution_count": null
  },
  {
   "metadata": {
    "deletable": true,
    "editable": true,
    "frozen": false
   },
   "cell_type": "code",
   "outputs": [],
   "source": "",
   "id": "29684cbab218d806",
   "execution_count": null
  },
  {
   "metadata": {
    "deletable": true,
    "editable": true,
    "frozen": false
   },
   "cell_type": "code",
   "outputs": [],
   "source": "",
   "id": "c8c93f4a24b512da",
   "execution_count": null
  },
  {
   "metadata": {},
   "cell_type": "markdown",
   "source": "### <a class='anchor' id='DP_FeatureEng'></a> 🛠️ **Feature Engineering**",
   "id": "ef5b76cd360cdbdd"
  },
  {
   "metadata": {
    "ExecuteTime": {
     "end_time": "2024-10-12T14:28:51.070149Z",
     "start_time": "2024-10-12T14:28:51.067757Z"
    }
   },
   "cell_type": "code",
   "source": "",
   "id": "14913a4f0ab0c01f",
   "outputs": [],
   "execution_count": null
  },
  {
   "metadata": {
    "deletable": true,
    "editable": true,
    "frozen": false
   },
   "cell_type": "code",
   "outputs": [],
   "source": "",
   "id": "177feb9afba9f66a",
   "execution_count": null
  },
  {
   "metadata": {
    "deletable": true,
    "editable": true,
    "frozen": false
   },
   "cell_type": "code",
   "outputs": [],
   "source": "",
   "id": "6efc7f26d22a86ad",
   "execution_count": null
  },
  {
   "metadata": {
    "deletable": true,
    "editable": true,
    "frozen": false
   },
   "cell_type": "code",
   "outputs": [],
   "source": "",
   "id": "e299d6223e0baab0",
   "execution_count": null
  },
  {
   "metadata": {
    "deletable": true,
    "editable": true,
    "frozen": false
   },
   "cell_type": "code",
   "outputs": [],
   "source": "",
   "id": "9349764d93350c40",
   "execution_count": null
  },
  {
   "metadata": {},
   "cell_type": "markdown",
   "source": "---",
   "id": "d67696b6afd030df"
  },
  {
   "metadata": {},
   "cell_type": "markdown",
   "source": "---",
   "id": "ccda17ccc5b4676c"
  },
  {
   "metadata": {},
   "cell_type": "markdown",
   "source": "# 💾 Save Data ",
   "id": "297a5e296a7fc010"
  },
  {
   "metadata": {},
   "cell_type": "code",
   "outputs": [],
   "source": "",
   "id": "c0c74e636027c585",
   "execution_count": null
  },
  {
   "metadata": {
    "ExecuteTime": {
     "end_time": "2024-10-13T12:51:36.101341Z",
     "start_time": "2024-10-13T12:51:36.098048Z"
    }
   },
   "cell_type": "code",
   "outputs": [],
   "source": "",
   "id": "b90a11f91bd654bb",
   "execution_count": null
  },
  {
   "metadata": {},
   "cell_type": "markdown",
   "source": "---",
   "id": "e413c8da7578443"
  },
  {
   "metadata": {},
   "cell_type": "markdown",
   "source": "# 🔗 Bibliography/References",
   "id": "3cc6c7a9e951003d"
  },
  {
   "metadata": {},
   "cell_type": "markdown",
   "source": [
    "**[[1]](https://www.)** XXXXXXXXXXX\n",
    "\n",
    "**[2]** XXXXXXXXXXX\n",
    "\n",
    "**[3]** XXXXXXXXXXX\n",
    "\n",
    "**[4]** XXXXXXXXXXX"
   ],
   "id": "5ffd749f539c0b32"
  }
 ],
 "metadata": {
  "kernelspec": {
   "display_name": "Python 3",
   "language": "python",
   "name": "python3"
  },
  "language_info": {
   "codemirror_mode": {
    "name": "ipython",
    "version": 2
   },
   "file_extension": ".py",
   "mimetype": "text/x-python",
   "name": "python",
   "nbconvert_exporter": "python",
   "pygments_lexer": "ipython2",
   "version": "2.7.6"
  }
 },
 "nbformat": 4,
 "nbformat_minor": 5
}
