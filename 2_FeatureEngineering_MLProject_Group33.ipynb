{
 "cells": [
  {
   "metadata": {},
   "cell_type": "markdown",
   "source": [
    "<img src=\"https://i.ibb.co/JBPWVYR/Logo-Nova-IMS-Black.png\" style=\"width: 220px;margin-top:50px;margin-bottom:50px;margin-left:60px\" align=\"left\">\n",
    "   <div style= \"font-size: 28px;font-weight:bold;margin-top:20px;margin-bottom:20px;margin-left:360px;margin-right:140px; line-height: 1.1;color:#08529C;\"><center>ML Project | To Grant or Not to Grant</center></div>\n",
    "   <div style= \"font-size: 17px;font-weight:bold;\"><center>Fall Semester | 2024 - 2025</center></div>\n",
    "   <div><center><b>Master in Data Science and Advanced Analytics</b> </center></div>\n",
    " <br>\n",
    "    <div><center>André Silvestre, 20240502 </center></div>\n",
    "    <div><center>João Henriques, 20240499 </center></div>\n",
    "    <div><center>Simone Genovese, 20241459 </center></div>\n",
    "    <div><center>Steven Carlson, 20240554 </center></div>\n",
    "    <div><center>Vinícius Pinto, 20211682 </center></div>\n",
    "    <div><center>Zofia Wojcik, 20240654 </center></div>\n",
    "    <br>\n",
    "    <div><center><b>TBL Group 33</b></center></div>\n",
    " <br>"
   ],
   "id": "d8b23b07f259ca99"
  },
  {
   "metadata": {},
   "cell_type": "markdown",
   "source": "## 📚 Libraries Import\n",
   "id": "df6859083154b24"
  },
  {
   "metadata": {
    "deletable": true,
    "editable": true,
    "frozen": false
   },
   "cell_type": "code",
   "source": [
    "# For data\n",
    "import pandas as pd\n",
    "import numpy as np\n",
    "import os\n",
    "\n",
    "# For plotting\n",
    "import matplotlib.pyplot as plt\n",
    "import seaborn as sns\n",
    "import matplotlib.ticker as mtick\n",
    "import matplotlib.lines as mlines\n",
    "import missingno as msno\n",
    "\n",
    "# For data preprocessing\n",
    "from sklearn.model_selection import train_test_split\n",
    "\n",
    "# Set the style of the visualization\n",
    "pd.set_option('display.max_columns', None) # display all columns\n",
    "\n",
    "# for better resolution plots\n",
    "%config InlineBackend.figure_format = 'retina' # optionally, you can change 'svg' to 'retina'\n",
    "\n",
    "# Setting seaborn style\n",
    "sns.set_theme(style=\"white\")"
   ],
   "id": "347aab6ecd96c517",
   "outputs": [],
   "execution_count": null
  },
  {
   "metadata": {},
   "cell_type": "markdown",
   "source": "## 🧮 Import Databases",
   "id": "568291f09e689c54"
  },
  {
   "metadata": {
    "deletable": true,
    "editable": true,
    "frozen": false
   },
   "cell_type": "code",
   "source": [
    "# Importing the dataset\n",
    "# train_data = pd.read_csv('data/train_data_1.csv', low_memory=False)   # low_memory=False to avoid warning message about mixed types\n",
    "# test_data = pd.read_csv('data/test_data_1.csv')"
   ],
   "id": "315fdb11e7314c4d",
   "outputs": [],
   "execution_count": null
  },
  {
   "metadata": {},
   "cell_type": "code",
   "source": [
    "# Display the first 2 rows of each dataset\n",
    "train_data.head(2) "
   ],
   "id": "2f2303470f5985fe",
   "outputs": [],
   "execution_count": null
  },
  {
   "metadata": {},
   "cell_type": "code",
   "source": "test_data.head(2)",
   "id": "af1aebdc5596482",
   "outputs": [],
   "execution_count": null
  },
  {
   "metadata": {},
   "cell_type": "markdown",
   "source": [
    "# <a class='anchor' id='2'></a>\n",
    "<br>\n",
    "<style>\n",
    "@import url('https://fonts.cdnfonts.com/css/avenir-next-lt-pro?styles=29974');\n",
    "</style>\n",
    "\n",
    "<div style=\"background: linear-gradient(to right,#08529C, #08306B); \n",
    "            padding: 10px; color: white; border-radius: 300px; text-align: center;\">\n",
    "    <center><h1 style=\"margin-left: 140px;margin-top: 10px; margin-bottom: 4px; color: white;\n",
    "                       font-size: 32px; font-family: 'Avenir Next LT Pro', sans-serif;\">\n",
    "        <b>2 | Data Preparation</b></h1></center>\n",
    "</div>\n",
    "\n",
    "<br><br>"
   ],
   "id": "88745c759264780e"
  },
  {
   "metadata": {},
   "cell_type": "markdown",
   "source": "### <a class='anchor' id='DP_FeatureEng'></a> ## 🛠️ Feature Engineering",
   "id": "ef5b76cd360cdbdd"
  },
  {
   "metadata": {
    "ExecuteTime": {
     "end_time": "2024-10-12T14:28:51.070149Z",
     "start_time": "2024-10-12T14:28:51.067757Z"
    }
   },
   "cell_type": "code",
   "source": "",
   "id": "14913a4f0ab0c01f",
   "outputs": [],
   "execution_count": null
  },
  {
   "metadata": {
    "deletable": true,
    "editable": true,
    "frozen": false
   },
   "cell_type": "code",
   "outputs": [],
   "source": "",
   "id": "177feb9afba9f66a",
   "execution_count": null
  },
  {
   "metadata": {
    "deletable": true,
    "editable": true,
    "frozen": false
   },
   "cell_type": "code",
   "outputs": [],
   "source": "",
   "id": "6efc7f26d22a86ad",
   "execution_count": null
  },
  {
   "metadata": {
    "deletable": true,
    "editable": true,
    "frozen": false
   },
   "cell_type": "code",
   "outputs": [],
   "source": "",
   "id": "e299d6223e0baab0",
   "execution_count": null
  },
  {
   "metadata": {
    "deletable": true,
    "editable": true,
    "frozen": false
   },
   "cell_type": "code",
   "outputs": [],
   "source": "",
   "id": "9349764d93350c40",
   "execution_count": null
  },
  {
   "metadata": {},
   "cell_type": "markdown",
   "source": "---",
   "id": "d67696b6afd030df"
  }
 ],
 "metadata": {
  "kernelspec": {
   "display_name": "Python 3",
   "language": "python",
   "name": "python3"
  },
  "language_info": {
   "codemirror_mode": {
    "name": "ipython",
    "version": 2
   },
   "file_extension": ".py",
   "mimetype": "text/x-python",
   "name": "python",
   "nbconvert_exporter": "python",
   "pygments_lexer": "ipython2",
   "version": "2.7.6"
  }
 },
 "nbformat": 4,
 "nbformat_minor": 5
}
