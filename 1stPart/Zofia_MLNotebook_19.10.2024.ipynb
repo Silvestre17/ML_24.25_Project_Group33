{
 "cells": [
  {
   "cell_type": "code",
   "execution_count": 1,
   "id": "c3c9ffec-2259-4c8b-b342-fd2889fc0b54",
   "metadata": {},
   "outputs": [],
   "source": [
    "import matplotlib.pyplot as plt\n",
    "import numpy as np\n",
    "import pandas as pd\n",
    "import seaborn as sns"
   ]
  },
  {
   "cell_type": "code",
   "execution_count": 2,
   "id": "de46b33e-0000-41ec-a5fa-ba09eec5e2e9",
   "metadata": {},
   "outputs": [],
   "source": [
    "train_data = pd.read_csv(\"train_data.csv\", low_memory=False)\n",
    "test_data = pd.read_csv(\"test_data.csv\")"
   ]
  },
  {
   "cell_type": "code",
   "execution_count": 3,
   "id": "582a0ec6-2ba6-4b9e-ba8d-b5b7b49b6b34",
   "metadata": {},
   "outputs": [
    {
     "data": {
      "text/html": [
       "<div>\n",
       "<style scoped>\n",
       "    .dataframe tbody tr th:only-of-type {\n",
       "        vertical-align: middle;\n",
       "    }\n",
       "\n",
       "    .dataframe tbody tr th {\n",
       "        vertical-align: top;\n",
       "    }\n",
       "\n",
       "    .dataframe thead th {\n",
       "        text-align: right;\n",
       "    }\n",
       "</style>\n",
       "<table border=\"1\" class=\"dataframe\">\n",
       "  <thead>\n",
       "    <tr style=\"text-align: right;\">\n",
       "      <th></th>\n",
       "      <th>Accident Date</th>\n",
       "      <th>Age at Injury</th>\n",
       "      <th>Alternative Dispute Resolution</th>\n",
       "      <th>Assembly Date</th>\n",
       "      <th>Attorney/Representative</th>\n",
       "      <th>Average Weekly Wage</th>\n",
       "      <th>Birth Year</th>\n",
       "      <th>C-2 Date</th>\n",
       "      <th>C-3 Date</th>\n",
       "      <th>Carrier Name</th>\n",
       "      <th>...</th>\n",
       "      <th>WCIO Cause of Injury Code</th>\n",
       "      <th>WCIO Cause of Injury Description</th>\n",
       "      <th>WCIO Nature of Injury Code</th>\n",
       "      <th>WCIO Nature of Injury Description</th>\n",
       "      <th>WCIO Part Of Body Code</th>\n",
       "      <th>WCIO Part Of Body Description</th>\n",
       "      <th>Zip Code</th>\n",
       "      <th>Agreement Reached</th>\n",
       "      <th>WCB Decision</th>\n",
       "      <th>Number of Dependents</th>\n",
       "    </tr>\n",
       "  </thead>\n",
       "  <tbody>\n",
       "    <tr>\n",
       "      <th>0</th>\n",
       "      <td>2019-12-30</td>\n",
       "      <td>31.0</td>\n",
       "      <td>N</td>\n",
       "      <td>2020-01-01</td>\n",
       "      <td>N</td>\n",
       "      <td>0.00</td>\n",
       "      <td>1988.0</td>\n",
       "      <td>2019-12-31</td>\n",
       "      <td>NaN</td>\n",
       "      <td>NEW HAMPSHIRE INSURANCE CO</td>\n",
       "      <td>...</td>\n",
       "      <td>27.0</td>\n",
       "      <td>FROM LIQUID OR GREASE SPILLS</td>\n",
       "      <td>10.0</td>\n",
       "      <td>CONTUSION</td>\n",
       "      <td>62.0</td>\n",
       "      <td>BUTTOCKS</td>\n",
       "      <td>13662</td>\n",
       "      <td>0.0</td>\n",
       "      <td>Not Work Related</td>\n",
       "      <td>1.0</td>\n",
       "    </tr>\n",
       "    <tr>\n",
       "      <th>1</th>\n",
       "      <td>2019-08-30</td>\n",
       "      <td>46.0</td>\n",
       "      <td>N</td>\n",
       "      <td>2020-01-01</td>\n",
       "      <td>Y</td>\n",
       "      <td>1745.93</td>\n",
       "      <td>1973.0</td>\n",
       "      <td>2020-01-01</td>\n",
       "      <td>2020-01-14</td>\n",
       "      <td>ZURICH AMERICAN INSURANCE CO</td>\n",
       "      <td>...</td>\n",
       "      <td>97.0</td>\n",
       "      <td>REPETITIVE MOTION</td>\n",
       "      <td>49.0</td>\n",
       "      <td>SPRAIN OR TEAR</td>\n",
       "      <td>38.0</td>\n",
       "      <td>SHOULDER(S)</td>\n",
       "      <td>14569</td>\n",
       "      <td>1.0</td>\n",
       "      <td>Not Work Related</td>\n",
       "      <td>4.0</td>\n",
       "    </tr>\n",
       "    <tr>\n",
       "      <th>2</th>\n",
       "      <td>2019-12-06</td>\n",
       "      <td>40.0</td>\n",
       "      <td>N</td>\n",
       "      <td>2020-01-01</td>\n",
       "      <td>N</td>\n",
       "      <td>1434.80</td>\n",
       "      <td>1979.0</td>\n",
       "      <td>2020-01-01</td>\n",
       "      <td>NaN</td>\n",
       "      <td>INDEMNITY INSURANCE CO OF</td>\n",
       "      <td>...</td>\n",
       "      <td>79.0</td>\n",
       "      <td>OBJECT BEING LIFTED OR HANDLED</td>\n",
       "      <td>7.0</td>\n",
       "      <td>CONCUSSION</td>\n",
       "      <td>10.0</td>\n",
       "      <td>MULTIPLE HEAD INJURY</td>\n",
       "      <td>12589</td>\n",
       "      <td>0.0</td>\n",
       "      <td>Not Work Related</td>\n",
       "      <td>6.0</td>\n",
       "    </tr>\n",
       "    <tr>\n",
       "      <th>3</th>\n",
       "      <td>NaN</td>\n",
       "      <td>NaN</td>\n",
       "      <td>NaN</td>\n",
       "      <td>2020-01-01</td>\n",
       "      <td>NaN</td>\n",
       "      <td>NaN</td>\n",
       "      <td>NaN</td>\n",
       "      <td>NaN</td>\n",
       "      <td>NaN</td>\n",
       "      <td>NaN</td>\n",
       "      <td>...</td>\n",
       "      <td>NaN</td>\n",
       "      <td>NaN</td>\n",
       "      <td>NaN</td>\n",
       "      <td>NaN</td>\n",
       "      <td>NaN</td>\n",
       "      <td>NaN</td>\n",
       "      <td>NaN</td>\n",
       "      <td>NaN</td>\n",
       "      <td>NaN</td>\n",
       "      <td>NaN</td>\n",
       "    </tr>\n",
       "    <tr>\n",
       "      <th>4</th>\n",
       "      <td>2019-12-30</td>\n",
       "      <td>61.0</td>\n",
       "      <td>N</td>\n",
       "      <td>2020-01-01</td>\n",
       "      <td>N</td>\n",
       "      <td>NaN</td>\n",
       "      <td>1958.0</td>\n",
       "      <td>2019-12-31</td>\n",
       "      <td>NaN</td>\n",
       "      <td>STATE INSURANCE FUND</td>\n",
       "      <td>...</td>\n",
       "      <td>16.0</td>\n",
       "      <td>HAND TOOL, UTENSIL; NOT POWERED</td>\n",
       "      <td>43.0</td>\n",
       "      <td>PUNCTURE</td>\n",
       "      <td>36.0</td>\n",
       "      <td>FINGER(S)</td>\n",
       "      <td>12603</td>\n",
       "      <td>0.0</td>\n",
       "      <td>Not Work Related</td>\n",
       "      <td>1.0</td>\n",
       "    </tr>\n",
       "  </tbody>\n",
       "</table>\n",
       "<p>5 rows × 33 columns</p>\n",
       "</div>"
      ],
      "text/plain": [
       "  Accident Date  Age at Injury Alternative Dispute Resolution Assembly Date  \\\n",
       "0    2019-12-30           31.0                              N    2020-01-01   \n",
       "1    2019-08-30           46.0                              N    2020-01-01   \n",
       "2    2019-12-06           40.0                              N    2020-01-01   \n",
       "3           NaN            NaN                            NaN    2020-01-01   \n",
       "4    2019-12-30           61.0                              N    2020-01-01   \n",
       "\n",
       "  Attorney/Representative  Average Weekly Wage  Birth Year    C-2 Date  \\\n",
       "0                       N                 0.00      1988.0  2019-12-31   \n",
       "1                       Y              1745.93      1973.0  2020-01-01   \n",
       "2                       N              1434.80      1979.0  2020-01-01   \n",
       "3                     NaN                  NaN         NaN         NaN   \n",
       "4                       N                  NaN      1958.0  2019-12-31   \n",
       "\n",
       "     C-3 Date                  Carrier Name  ... WCIO Cause of Injury Code  \\\n",
       "0         NaN    NEW HAMPSHIRE INSURANCE CO  ...                      27.0   \n",
       "1  2020-01-14  ZURICH AMERICAN INSURANCE CO  ...                      97.0   \n",
       "2         NaN     INDEMNITY INSURANCE CO OF  ...                      79.0   \n",
       "3         NaN                           NaN  ...                       NaN   \n",
       "4         NaN          STATE INSURANCE FUND  ...                      16.0   \n",
       "\n",
       "   WCIO Cause of Injury Description WCIO Nature of Injury Code  \\\n",
       "0      FROM LIQUID OR GREASE SPILLS                       10.0   \n",
       "1                 REPETITIVE MOTION                       49.0   \n",
       "2    OBJECT BEING LIFTED OR HANDLED                        7.0   \n",
       "3                               NaN                        NaN   \n",
       "4   HAND TOOL, UTENSIL; NOT POWERED                       43.0   \n",
       "\n",
       "  WCIO Nature of Injury Description WCIO Part Of Body Code  \\\n",
       "0                         CONTUSION                   62.0   \n",
       "1                    SPRAIN OR TEAR                   38.0   \n",
       "2                        CONCUSSION                   10.0   \n",
       "3                               NaN                    NaN   \n",
       "4                          PUNCTURE                   36.0   \n",
       "\n",
       "  WCIO Part Of Body Description Zip Code Agreement Reached      WCB Decision  \\\n",
       "0                      BUTTOCKS    13662               0.0  Not Work Related   \n",
       "1                   SHOULDER(S)    14569               1.0  Not Work Related   \n",
       "2          MULTIPLE HEAD INJURY    12589               0.0  Not Work Related   \n",
       "3                           NaN      NaN               NaN               NaN   \n",
       "4                     FINGER(S)    12603               0.0  Not Work Related   \n",
       "\n",
       "   Number of Dependents  \n",
       "0                   1.0  \n",
       "1                   4.0  \n",
       "2                   6.0  \n",
       "3                   NaN  \n",
       "4                   1.0  \n",
       "\n",
       "[5 rows x 33 columns]"
      ]
     },
     "execution_count": 3,
     "metadata": {},
     "output_type": "execute_result"
    }
   ],
   "source": [
    "train_data.head()"
   ]
  },
  {
   "cell_type": "code",
   "execution_count": 4,
   "id": "aa957aa5-0ab6-4653-8d32-dace5b1579df",
   "metadata": {},
   "outputs": [
    {
     "data": {
      "text/html": [
       "<div>\n",
       "<style scoped>\n",
       "    .dataframe tbody tr th:only-of-type {\n",
       "        vertical-align: middle;\n",
       "    }\n",
       "\n",
       "    .dataframe tbody tr th {\n",
       "        vertical-align: top;\n",
       "    }\n",
       "\n",
       "    .dataframe thead th {\n",
       "        text-align: right;\n",
       "    }\n",
       "</style>\n",
       "<table border=\"1\" class=\"dataframe\">\n",
       "  <thead>\n",
       "    <tr style=\"text-align: right;\">\n",
       "      <th></th>\n",
       "      <th>Accident Date</th>\n",
       "      <th>Age at Injury</th>\n",
       "      <th>Alternative Dispute Resolution</th>\n",
       "      <th>Assembly Date</th>\n",
       "      <th>Attorney/Representative</th>\n",
       "      <th>Average Weekly Wage</th>\n",
       "      <th>Birth Year</th>\n",
       "      <th>C-2 Date</th>\n",
       "      <th>C-3 Date</th>\n",
       "      <th>Carrier Name</th>\n",
       "      <th>...</th>\n",
       "      <th>Medical Fee Region</th>\n",
       "      <th>OIICS Nature of Injury Description</th>\n",
       "      <th>WCIO Cause of Injury Code</th>\n",
       "      <th>WCIO Cause of Injury Description</th>\n",
       "      <th>WCIO Nature of Injury Code</th>\n",
       "      <th>WCIO Nature of Injury Description</th>\n",
       "      <th>WCIO Part Of Body Code</th>\n",
       "      <th>WCIO Part Of Body Description</th>\n",
       "      <th>Zip Code</th>\n",
       "      <th>Number of Dependents</th>\n",
       "    </tr>\n",
       "  </thead>\n",
       "  <tbody>\n",
       "    <tr>\n",
       "      <th>0</th>\n",
       "      <td>2022-12-24</td>\n",
       "      <td>19</td>\n",
       "      <td>N</td>\n",
       "      <td>2023-01-02</td>\n",
       "      <td>N</td>\n",
       "      <td>NaN</td>\n",
       "      <td>2003.0</td>\n",
       "      <td>2023-01-02</td>\n",
       "      <td>NaN</td>\n",
       "      <td>INDEMNITY INSURANCE CO OF</td>\n",
       "      <td>...</td>\n",
       "      <td>IV</td>\n",
       "      <td>NaN</td>\n",
       "      <td>31.0</td>\n",
       "      <td>FALL, SLIP OR TRIP, NOC</td>\n",
       "      <td>10.0</td>\n",
       "      <td>CONTUSION</td>\n",
       "      <td>54.0</td>\n",
       "      <td>LOWER LEG</td>\n",
       "      <td>10466</td>\n",
       "      <td>1</td>\n",
       "    </tr>\n",
       "    <tr>\n",
       "      <th>1</th>\n",
       "      <td>2022-11-20</td>\n",
       "      <td>19</td>\n",
       "      <td>N</td>\n",
       "      <td>2023-01-02</td>\n",
       "      <td>N</td>\n",
       "      <td>NaN</td>\n",
       "      <td>2003.0</td>\n",
       "      <td>2023-01-02</td>\n",
       "      <td>NaN</td>\n",
       "      <td>A I U INSURANCE COMPANY</td>\n",
       "      <td>...</td>\n",
       "      <td>IV</td>\n",
       "      <td>NaN</td>\n",
       "      <td>75.0</td>\n",
       "      <td>FALLING OR FLYING OBJECT</td>\n",
       "      <td>10.0</td>\n",
       "      <td>CONTUSION</td>\n",
       "      <td>10.0</td>\n",
       "      <td>MULTIPLE HEAD INJURY</td>\n",
       "      <td>11691</td>\n",
       "      <td>1</td>\n",
       "    </tr>\n",
       "    <tr>\n",
       "      <th>2</th>\n",
       "      <td>2022-12-26</td>\n",
       "      <td>59</td>\n",
       "      <td>N</td>\n",
       "      <td>2023-01-02</td>\n",
       "      <td>N</td>\n",
       "      <td>0.0</td>\n",
       "      <td>1963.0</td>\n",
       "      <td>2022-12-31</td>\n",
       "      <td>NaN</td>\n",
       "      <td>AMGUARD INSURANCE COMPANY</td>\n",
       "      <td>...</td>\n",
       "      <td>III</td>\n",
       "      <td>NaN</td>\n",
       "      <td>68.0</td>\n",
       "      <td>STATIONARY OBJECT</td>\n",
       "      <td>49.0</td>\n",
       "      <td>SPRAIN OR TEAR</td>\n",
       "      <td>62.0</td>\n",
       "      <td>BUTTOCKS</td>\n",
       "      <td>10604</td>\n",
       "      <td>0</td>\n",
       "    </tr>\n",
       "    <tr>\n",
       "      <th>3</th>\n",
       "      <td>2022-12-28</td>\n",
       "      <td>55</td>\n",
       "      <td>N</td>\n",
       "      <td>2023-01-02</td>\n",
       "      <td>N</td>\n",
       "      <td>0.0</td>\n",
       "      <td>0.0</td>\n",
       "      <td>2023-01-02</td>\n",
       "      <td>NaN</td>\n",
       "      <td>INDEMNITY INS. OF N AMERICA</td>\n",
       "      <td>...</td>\n",
       "      <td>IV</td>\n",
       "      <td>NaN</td>\n",
       "      <td>25.0</td>\n",
       "      <td>FROM DIFFERENT LEVEL (ELEVATION)</td>\n",
       "      <td>10.0</td>\n",
       "      <td>CONTUSION</td>\n",
       "      <td>53.0</td>\n",
       "      <td>KNEE</td>\n",
       "      <td>11411</td>\n",
       "      <td>6</td>\n",
       "    </tr>\n",
       "    <tr>\n",
       "      <th>4</th>\n",
       "      <td>2022-12-20</td>\n",
       "      <td>25</td>\n",
       "      <td>N</td>\n",
       "      <td>2023-01-02</td>\n",
       "      <td>N</td>\n",
       "      <td>0.0</td>\n",
       "      <td>1997.0</td>\n",
       "      <td>2022-12-31</td>\n",
       "      <td>NaN</td>\n",
       "      <td>NEW HAMPSHIRE INSURANCE CO</td>\n",
       "      <td>...</td>\n",
       "      <td>IV</td>\n",
       "      <td>NaN</td>\n",
       "      <td>79.0</td>\n",
       "      <td>OBJECT BEING LIFTED OR HANDLED</td>\n",
       "      <td>40.0</td>\n",
       "      <td>LACERATION</td>\n",
       "      <td>37.0</td>\n",
       "      <td>THUMB</td>\n",
       "      <td>11212</td>\n",
       "      <td>5</td>\n",
       "    </tr>\n",
       "  </tbody>\n",
       "</table>\n",
       "<p>5 rows × 30 columns</p>\n",
       "</div>"
      ],
      "text/plain": [
       "  Accident Date  Age at Injury Alternative Dispute Resolution Assembly Date  \\\n",
       "0    2022-12-24             19                              N    2023-01-02   \n",
       "1    2022-11-20             19                              N    2023-01-02   \n",
       "2    2022-12-26             59                              N    2023-01-02   \n",
       "3    2022-12-28             55                              N    2023-01-02   \n",
       "4    2022-12-20             25                              N    2023-01-02   \n",
       "\n",
       "  Attorney/Representative  Average Weekly Wage  Birth Year    C-2 Date  \\\n",
       "0                       N                  NaN      2003.0  2023-01-02   \n",
       "1                       N                  NaN      2003.0  2023-01-02   \n",
       "2                       N                  0.0      1963.0  2022-12-31   \n",
       "3                       N                  0.0         0.0  2023-01-02   \n",
       "4                       N                  0.0      1997.0  2022-12-31   \n",
       "\n",
       "  C-3 Date                 Carrier Name  ... Medical Fee Region  \\\n",
       "0      NaN    INDEMNITY INSURANCE CO OF  ...                 IV   \n",
       "1      NaN      A I U INSURANCE COMPANY  ...                 IV   \n",
       "2      NaN    AMGUARD INSURANCE COMPANY  ...                III   \n",
       "3      NaN  INDEMNITY INS. OF N AMERICA  ...                 IV   \n",
       "4      NaN   NEW HAMPSHIRE INSURANCE CO  ...                 IV   \n",
       "\n",
       "   OIICS Nature of Injury Description WCIO Cause of Injury Code  \\\n",
       "0                                 NaN                      31.0   \n",
       "1                                 NaN                      75.0   \n",
       "2                                 NaN                      68.0   \n",
       "3                                 NaN                      25.0   \n",
       "4                                 NaN                      79.0   \n",
       "\n",
       "   WCIO Cause of Injury Description WCIO Nature of Injury Code  \\\n",
       "0           FALL, SLIP OR TRIP, NOC                       10.0   \n",
       "1          FALLING OR FLYING OBJECT                       10.0   \n",
       "2                 STATIONARY OBJECT                       49.0   \n",
       "3  FROM DIFFERENT LEVEL (ELEVATION)                       10.0   \n",
       "4    OBJECT BEING LIFTED OR HANDLED                       40.0   \n",
       "\n",
       "  WCIO Nature of Injury Description WCIO Part Of Body Code  \\\n",
       "0                         CONTUSION                   54.0   \n",
       "1                         CONTUSION                   10.0   \n",
       "2                    SPRAIN OR TEAR                   62.0   \n",
       "3                         CONTUSION                   53.0   \n",
       "4                        LACERATION                   37.0   \n",
       "\n",
       "   WCIO Part Of Body Description  Zip Code Number of Dependents  \n",
       "0                      LOWER LEG     10466                    1  \n",
       "1           MULTIPLE HEAD INJURY     11691                    1  \n",
       "2                       BUTTOCKS     10604                    0  \n",
       "3                           KNEE     11411                    6  \n",
       "4                          THUMB     11212                    5  \n",
       "\n",
       "[5 rows x 30 columns]"
      ]
     },
     "execution_count": 4,
     "metadata": {},
     "output_type": "execute_result"
    }
   ],
   "source": [
    "test_data.head()"
   ]
  },
  {
   "cell_type": "code",
   "execution_count": 5,
   "id": "9b5f2481-4380-4fff-840e-eccb7182e5a3",
   "metadata": {},
   "outputs": [],
   "source": [
    "# Drop columns that are not present in the test dataset\n",
    "train_data.drop(columns=[\"WCB Decision\", \"Agreement Reached\"], inplace=True)"
   ]
  },
  {
   "cell_type": "code",
   "execution_count": 6,
   "id": "6dd9f7aa-7cb2-495b-a404-485d23c4f1e6",
   "metadata": {},
   "outputs": [
    {
     "data": {
      "text/html": [
       "<div>\n",
       "<style scoped>\n",
       "    .dataframe tbody tr th:only-of-type {\n",
       "        vertical-align: middle;\n",
       "    }\n",
       "\n",
       "    .dataframe tbody tr th {\n",
       "        vertical-align: top;\n",
       "    }\n",
       "\n",
       "    .dataframe thead th {\n",
       "        text-align: right;\n",
       "    }\n",
       "</style>\n",
       "<table border=\"1\" class=\"dataframe\">\n",
       "  <thead>\n",
       "    <tr style=\"text-align: right;\">\n",
       "      <th></th>\n",
       "      <th>n NAs | Train</th>\n",
       "      <th>% NAs | Train</th>\n",
       "      <th>n NAs | Test</th>\n",
       "      <th>% NAs | Test</th>\n",
       "    </tr>\n",
       "  </thead>\n",
       "  <tbody>\n",
       "    <tr>\n",
       "      <th>Accident Date</th>\n",
       "      <td>23134</td>\n",
       "      <td>3.90</td>\n",
       "      <td>2444.0</td>\n",
       "      <td>0.63</td>\n",
       "    </tr>\n",
       "    <tr>\n",
       "      <th>Age at Injury</th>\n",
       "      <td>19445</td>\n",
       "      <td>3.28</td>\n",
       "      <td>0.0</td>\n",
       "      <td>0.00</td>\n",
       "    </tr>\n",
       "    <tr>\n",
       "      <th>Alternative Dispute Resolution</th>\n",
       "      <td>19445</td>\n",
       "      <td>3.28</td>\n",
       "      <td>0.0</td>\n",
       "      <td>0.00</td>\n",
       "    </tr>\n",
       "    <tr>\n",
       "      <th>Assembly Date</th>\n",
       "      <td>0</td>\n",
       "      <td>0.00</td>\n",
       "      <td>0.0</td>\n",
       "      <td>0.00</td>\n",
       "    </tr>\n",
       "    <tr>\n",
       "      <th>Attorney/Representative</th>\n",
       "      <td>19445</td>\n",
       "      <td>3.28</td>\n",
       "      <td>0.0</td>\n",
       "      <td>0.00</td>\n",
       "    </tr>\n",
       "    <tr>\n",
       "      <th>Average Weekly Wage</th>\n",
       "      <td>48096</td>\n",
       "      <td>8.10</td>\n",
       "      <td>19204.0</td>\n",
       "      <td>4.95</td>\n",
       "    </tr>\n",
       "    <tr>\n",
       "      <th>Birth Year</th>\n",
       "      <td>48523</td>\n",
       "      <td>8.18</td>\n",
       "      <td>19470.0</td>\n",
       "      <td>5.02</td>\n",
       "    </tr>\n",
       "    <tr>\n",
       "      <th>C-2 Date</th>\n",
       "      <td>34005</td>\n",
       "      <td>5.73</td>\n",
       "      <td>9134.0</td>\n",
       "      <td>2.35</td>\n",
       "    </tr>\n",
       "    <tr>\n",
       "      <th>C-3 Date</th>\n",
       "      <td>406226</td>\n",
       "      <td>68.45</td>\n",
       "      <td>302759.0</td>\n",
       "      <td>78.04</td>\n",
       "    </tr>\n",
       "    <tr>\n",
       "      <th>COVID-19 Indicator</th>\n",
       "      <td>19445</td>\n",
       "      <td>3.28</td>\n",
       "      <td>0.0</td>\n",
       "      <td>0.00</td>\n",
       "    </tr>\n",
       "    <tr>\n",
       "      <th>Carrier Name</th>\n",
       "      <td>19445</td>\n",
       "      <td>3.28</td>\n",
       "      <td>0.0</td>\n",
       "      <td>0.00</td>\n",
       "    </tr>\n",
       "    <tr>\n",
       "      <th>Carrier Type</th>\n",
       "      <td>19445</td>\n",
       "      <td>3.28</td>\n",
       "      <td>0.0</td>\n",
       "      <td>0.00</td>\n",
       "    </tr>\n",
       "    <tr>\n",
       "      <th>Claim Identifier</th>\n",
       "      <td>0</td>\n",
       "      <td>0.00</td>\n",
       "      <td>0.0</td>\n",
       "      <td>0.00</td>\n",
       "    </tr>\n",
       "    <tr>\n",
       "      <th>Claim Injury Type</th>\n",
       "      <td>19445</td>\n",
       "      <td>3.28</td>\n",
       "      <td>NaN</td>\n",
       "      <td>NaN</td>\n",
       "    </tr>\n",
       "    <tr>\n",
       "      <th>County of Injury</th>\n",
       "      <td>19445</td>\n",
       "      <td>3.28</td>\n",
       "      <td>0.0</td>\n",
       "      <td>0.00</td>\n",
       "    </tr>\n",
       "    <tr>\n",
       "      <th>District Name</th>\n",
       "      <td>19445</td>\n",
       "      <td>3.28</td>\n",
       "      <td>0.0</td>\n",
       "      <td>0.00</td>\n",
       "    </tr>\n",
       "    <tr>\n",
       "      <th>First Hearing Date</th>\n",
       "      <td>442673</td>\n",
       "      <td>74.59</td>\n",
       "      <td>344947.0</td>\n",
       "      <td>88.91</td>\n",
       "    </tr>\n",
       "    <tr>\n",
       "      <th>Gender</th>\n",
       "      <td>19445</td>\n",
       "      <td>3.28</td>\n",
       "      <td>0.0</td>\n",
       "      <td>0.00</td>\n",
       "    </tr>\n",
       "    <tr>\n",
       "      <th>IME-4 Count</th>\n",
       "      <td>460668</td>\n",
       "      <td>77.62</td>\n",
       "      <td>352726.0</td>\n",
       "      <td>90.91</td>\n",
       "    </tr>\n",
       "    <tr>\n",
       "      <th>Industry Code</th>\n",
       "      <td>29403</td>\n",
       "      <td>4.95</td>\n",
       "      <td>7736.0</td>\n",
       "      <td>1.99</td>\n",
       "    </tr>\n",
       "    <tr>\n",
       "      <th>Industry Code Description</th>\n",
       "      <td>29403</td>\n",
       "      <td>4.95</td>\n",
       "      <td>7736.0</td>\n",
       "      <td>1.99</td>\n",
       "    </tr>\n",
       "    <tr>\n",
       "      <th>Medical Fee Region</th>\n",
       "      <td>19445</td>\n",
       "      <td>3.28</td>\n",
       "      <td>0.0</td>\n",
       "      <td>0.00</td>\n",
       "    </tr>\n",
       "    <tr>\n",
       "      <th>Number of Dependents</th>\n",
       "      <td>19445</td>\n",
       "      <td>3.28</td>\n",
       "      <td>0.0</td>\n",
       "      <td>0.00</td>\n",
       "    </tr>\n",
       "    <tr>\n",
       "      <th>OIICS Nature of Injury Description</th>\n",
       "      <td>593471</td>\n",
       "      <td>100.00</td>\n",
       "      <td>387975.0</td>\n",
       "      <td>100.00</td>\n",
       "    </tr>\n",
       "    <tr>\n",
       "      <th>WCIO Cause of Injury Code</th>\n",
       "      <td>35085</td>\n",
       "      <td>5.91</td>\n",
       "      <td>10348.0</td>\n",
       "      <td>2.67</td>\n",
       "    </tr>\n",
       "    <tr>\n",
       "      <th>WCIO Cause of Injury Description</th>\n",
       "      <td>35085</td>\n",
       "      <td>5.91</td>\n",
       "      <td>10348.0</td>\n",
       "      <td>2.67</td>\n",
       "    </tr>\n",
       "    <tr>\n",
       "      <th>WCIO Nature of Injury Code</th>\n",
       "      <td>35102</td>\n",
       "      <td>5.91</td>\n",
       "      <td>10560.0</td>\n",
       "      <td>2.72</td>\n",
       "    </tr>\n",
       "    <tr>\n",
       "      <th>WCIO Nature of Injury Description</th>\n",
       "      <td>35102</td>\n",
       "      <td>5.91</td>\n",
       "      <td>10560.0</td>\n",
       "      <td>2.72</td>\n",
       "    </tr>\n",
       "    <tr>\n",
       "      <th>WCIO Part Of Body Code</th>\n",
       "      <td>36527</td>\n",
       "      <td>6.15</td>\n",
       "      <td>9549.0</td>\n",
       "      <td>2.46</td>\n",
       "    </tr>\n",
       "    <tr>\n",
       "      <th>WCIO Part Of Body Description</th>\n",
       "      <td>36527</td>\n",
       "      <td>6.15</td>\n",
       "      <td>9549.0</td>\n",
       "      <td>2.46</td>\n",
       "    </tr>\n",
       "    <tr>\n",
       "      <th>Zip Code</th>\n",
       "      <td>48082</td>\n",
       "      <td>8.10</td>\n",
       "      <td>19342.0</td>\n",
       "      <td>4.99</td>\n",
       "    </tr>\n",
       "  </tbody>\n",
       "</table>\n",
       "</div>"
      ],
      "text/plain": [
       "                                    n NAs | Train  % NAs | Train  \\\n",
       "Accident Date                               23134           3.90   \n",
       "Age at Injury                               19445           3.28   \n",
       "Alternative Dispute Resolution              19445           3.28   \n",
       "Assembly Date                                   0           0.00   \n",
       "Attorney/Representative                     19445           3.28   \n",
       "Average Weekly Wage                         48096           8.10   \n",
       "Birth Year                                  48523           8.18   \n",
       "C-2 Date                                    34005           5.73   \n",
       "C-3 Date                                   406226          68.45   \n",
       "COVID-19 Indicator                          19445           3.28   \n",
       "Carrier Name                                19445           3.28   \n",
       "Carrier Type                                19445           3.28   \n",
       "Claim Identifier                                0           0.00   \n",
       "Claim Injury Type                           19445           3.28   \n",
       "County of Injury                            19445           3.28   \n",
       "District Name                               19445           3.28   \n",
       "First Hearing Date                         442673          74.59   \n",
       "Gender                                      19445           3.28   \n",
       "IME-4 Count                                460668          77.62   \n",
       "Industry Code                               29403           4.95   \n",
       "Industry Code Description                   29403           4.95   \n",
       "Medical Fee Region                          19445           3.28   \n",
       "Number of Dependents                        19445           3.28   \n",
       "OIICS Nature of Injury Description         593471         100.00   \n",
       "WCIO Cause of Injury Code                   35085           5.91   \n",
       "WCIO Cause of Injury Description            35085           5.91   \n",
       "WCIO Nature of Injury Code                  35102           5.91   \n",
       "WCIO Nature of Injury Description           35102           5.91   \n",
       "WCIO Part Of Body Code                      36527           6.15   \n",
       "WCIO Part Of Body Description               36527           6.15   \n",
       "Zip Code                                    48082           8.10   \n",
       "\n",
       "                                    n NAs | Test  % NAs | Test  \n",
       "Accident Date                             2444.0          0.63  \n",
       "Age at Injury                                0.0          0.00  \n",
       "Alternative Dispute Resolution               0.0          0.00  \n",
       "Assembly Date                                0.0          0.00  \n",
       "Attorney/Representative                      0.0          0.00  \n",
       "Average Weekly Wage                      19204.0          4.95  \n",
       "Birth Year                               19470.0          5.02  \n",
       "C-2 Date                                  9134.0          2.35  \n",
       "C-3 Date                                302759.0         78.04  \n",
       "COVID-19 Indicator                           0.0          0.00  \n",
       "Carrier Name                                 0.0          0.00  \n",
       "Carrier Type                                 0.0          0.00  \n",
       "Claim Identifier                             0.0          0.00  \n",
       "Claim Injury Type                            NaN           NaN  \n",
       "County of Injury                             0.0          0.00  \n",
       "District Name                                0.0          0.00  \n",
       "First Hearing Date                      344947.0         88.91  \n",
       "Gender                                       0.0          0.00  \n",
       "IME-4 Count                             352726.0         90.91  \n",
       "Industry Code                             7736.0          1.99  \n",
       "Industry Code Description                 7736.0          1.99  \n",
       "Medical Fee Region                           0.0          0.00  \n",
       "Number of Dependents                         0.0          0.00  \n",
       "OIICS Nature of Injury Description      387975.0        100.00  \n",
       "WCIO Cause of Injury Code                10348.0          2.67  \n",
       "WCIO Cause of Injury Description         10348.0          2.67  \n",
       "WCIO Nature of Injury Code               10560.0          2.72  \n",
       "WCIO Nature of Injury Description        10560.0          2.72  \n",
       "WCIO Part Of Body Code                    9549.0          2.46  \n",
       "WCIO Part Of Body Description             9549.0          2.46  \n",
       "Zip Code                                 19342.0          4.99  "
      ]
     },
     "execution_count": 6,
     "metadata": {},
     "output_type": "execute_result"
    }
   ],
   "source": [
    "# Check for missing values (n = number of missing values & % = percentage of missing values)\n",
    "pd.DataFrame({\n",
    "    \"n NAs | Train\": train_data.isnull().sum(),\n",
    "    \"% NAs | Train\": round(train_data.isnull().mean() * 100, 2),\n",
    "    \"n NAs | Test\": test_data.isnull().sum(),\n",
    "    \"% NAs | Test\": round(test_data.isnull().mean() * 100, 2)}\n",
    ")"
   ]
  },
  {
   "cell_type": "markdown",
   "id": "e9e74611-f3be-46a6-95ba-9f8ee14afc0f",
   "metadata": {},
   "source": [
    "# Individual feature analysis\n",
    "- `Attorney/Representative` (Is the claim being represented by an Attorney?)\n",
    "- `Average Weekly Wage` (The wage used to calculate workers' compensation, disability, or Paid Leave wage replacement benefits.)\n",
    "- `COVID-19 Indicator` (Indication that the claim may be associated with COVID-19.)\n",
    "- `Gender` (The reported gender of the injured worker.)\n",
    "- `IME-4 Count` (Number of IME-4 forms received per claim. The IME-4 form is the \"Independent Examiner's Report of Independent Medical Examination\" form.)"
   ]
  },
  {
   "cell_type": "markdown",
   "id": "972c8cfe-7070-4d85-9bae-f57d0132894c",
   "metadata": {},
   "source": [
    "Attorney/Representative: 19445 (3.28%) NAs in Train, 0 NAs in Test  <br>\n",
    "Average Weekly Wage: 48096 (8.10%) NAs in Train, 19204 (4.95%) NAs in Test\t<br>\n",
    "Covid-19 Indicator: 19445(3.28%) NAs in Train, 0 NAs in Test <br>\n",
    "Gender: 19445 (3.28%) NAs in Train, 0 NAs in Test <br>\n",
    "**IME-4 Count: 460668 (77.62%) NAs in Train, 352726.0 (90.91%) NAs in Test** <br>"
   ]
  },
  {
   "cell_type": "code",
   "execution_count": 7,
   "id": "8a0accf1-6c00-4489-b939-1f7ac5be11b8",
   "metadata": {},
   "outputs": [
    {
     "data": {
      "text/html": [
       "<div>\n",
       "<style scoped>\n",
       "    .dataframe tbody tr th:only-of-type {\n",
       "        vertical-align: middle;\n",
       "    }\n",
       "\n",
       "    .dataframe tbody tr th {\n",
       "        vertical-align: top;\n",
       "    }\n",
       "\n",
       "    .dataframe thead th {\n",
       "        text-align: right;\n",
       "    }\n",
       "</style>\n",
       "<table border=\"1\" class=\"dataframe\">\n",
       "  <thead>\n",
       "    <tr style=\"text-align: right;\">\n",
       "      <th></th>\n",
       "      <th>Attorney/Representative</th>\n",
       "      <th>Average Weekly Wage</th>\n",
       "      <th>COVID-19 Indicator</th>\n",
       "      <th>Gender</th>\n",
       "      <th>IME-4 Count</th>\n",
       "    </tr>\n",
       "  </thead>\n",
       "  <tbody>\n",
       "    <tr>\n",
       "      <th>0</th>\n",
       "      <td>N</td>\n",
       "      <td>0.00</td>\n",
       "      <td>N</td>\n",
       "      <td>M</td>\n",
       "      <td>NaN</td>\n",
       "    </tr>\n",
       "    <tr>\n",
       "      <th>1</th>\n",
       "      <td>Y</td>\n",
       "      <td>1745.93</td>\n",
       "      <td>N</td>\n",
       "      <td>F</td>\n",
       "      <td>4.0</td>\n",
       "    </tr>\n",
       "    <tr>\n",
       "      <th>2</th>\n",
       "      <td>N</td>\n",
       "      <td>1434.80</td>\n",
       "      <td>N</td>\n",
       "      <td>M</td>\n",
       "      <td>NaN</td>\n",
       "    </tr>\n",
       "    <tr>\n",
       "      <th>3</th>\n",
       "      <td>NaN</td>\n",
       "      <td>NaN</td>\n",
       "      <td>NaN</td>\n",
       "      <td>NaN</td>\n",
       "      <td>NaN</td>\n",
       "    </tr>\n",
       "    <tr>\n",
       "      <th>4</th>\n",
       "      <td>N</td>\n",
       "      <td>NaN</td>\n",
       "      <td>N</td>\n",
       "      <td>M</td>\n",
       "      <td>NaN</td>\n",
       "    </tr>\n",
       "    <tr>\n",
       "      <th>...</th>\n",
       "      <td>...</td>\n",
       "      <td>...</td>\n",
       "      <td>...</td>\n",
       "      <td>...</td>\n",
       "      <td>...</td>\n",
       "    </tr>\n",
       "    <tr>\n",
       "      <th>593466</th>\n",
       "      <td>NaN</td>\n",
       "      <td>NaN</td>\n",
       "      <td>NaN</td>\n",
       "      <td>NaN</td>\n",
       "      <td>NaN</td>\n",
       "    </tr>\n",
       "    <tr>\n",
       "      <th>593467</th>\n",
       "      <td>N</td>\n",
       "      <td>0.00</td>\n",
       "      <td>N</td>\n",
       "      <td>F</td>\n",
       "      <td>NaN</td>\n",
       "    </tr>\n",
       "    <tr>\n",
       "      <th>593468</th>\n",
       "      <td>NaN</td>\n",
       "      <td>NaN</td>\n",
       "      <td>NaN</td>\n",
       "      <td>NaN</td>\n",
       "      <td>NaN</td>\n",
       "    </tr>\n",
       "    <tr>\n",
       "      <th>593469</th>\n",
       "      <td>NaN</td>\n",
       "      <td>NaN</td>\n",
       "      <td>NaN</td>\n",
       "      <td>NaN</td>\n",
       "      <td>NaN</td>\n",
       "    </tr>\n",
       "    <tr>\n",
       "      <th>593470</th>\n",
       "      <td>NaN</td>\n",
       "      <td>NaN</td>\n",
       "      <td>NaN</td>\n",
       "      <td>NaN</td>\n",
       "      <td>NaN</td>\n",
       "    </tr>\n",
       "  </tbody>\n",
       "</table>\n",
       "<p>593471 rows × 5 columns</p>\n",
       "</div>"
      ],
      "text/plain": [
       "       Attorney/Representative  Average Weekly Wage COVID-19 Indicator Gender  \\\n",
       "0                            N                 0.00                  N      M   \n",
       "1                            Y              1745.93                  N      F   \n",
       "2                            N              1434.80                  N      M   \n",
       "3                          NaN                  NaN                NaN    NaN   \n",
       "4                            N                  NaN                  N      M   \n",
       "...                        ...                  ...                ...    ...   \n",
       "593466                     NaN                  NaN                NaN    NaN   \n",
       "593467                       N                 0.00                  N      F   \n",
       "593468                     NaN                  NaN                NaN    NaN   \n",
       "593469                     NaN                  NaN                NaN    NaN   \n",
       "593470                     NaN                  NaN                NaN    NaN   \n",
       "\n",
       "        IME-4 Count  \n",
       "0               NaN  \n",
       "1               4.0  \n",
       "2               NaN  \n",
       "3               NaN  \n",
       "4               NaN  \n",
       "...             ...  \n",
       "593466          NaN  \n",
       "593467          NaN  \n",
       "593468          NaN  \n",
       "593469          NaN  \n",
       "593470          NaN  \n",
       "\n",
       "[593471 rows x 5 columns]"
      ]
     },
     "execution_count": 7,
     "metadata": {},
     "output_type": "execute_result"
    }
   ],
   "source": [
    "train_data[['Attorney/Representative', 'Average Weekly Wage', 'COVID-19 Indicator', 'Gender', 'IME-4 Count']]"
   ]
  },
  {
   "cell_type": "code",
   "execution_count": 8,
   "id": "dcbe8626-8c29-484c-927a-4bfd67eae857",
   "metadata": {},
   "outputs": [
    {
     "name": "stdout",
     "output_type": "stream",
     "text": [
      "<class 'pandas.core.frame.DataFrame'>\n",
      "RangeIndex: 593471 entries, 0 to 593470\n",
      "Data columns (total 5 columns):\n",
      " #   Column                   Non-Null Count   Dtype  \n",
      "---  ------                   --------------   -----  \n",
      " 0   Attorney/Representative  574026 non-null  object \n",
      " 1   Average Weekly Wage      545375 non-null  float64\n",
      " 2   COVID-19 Indicator       574026 non-null  object \n",
      " 3   Gender                   574026 non-null  object \n",
      " 4   IME-4 Count              132803 non-null  float64\n",
      "dtypes: float64(2), object(3)\n",
      "memory usage: 22.6+ MB\n"
     ]
    }
   ],
   "source": [
    "train_data[['Attorney/Representative', 'Average Weekly Wage', 'COVID-19 Indicator', 'Gender', 'IME-4 Count']].info()"
   ]
  },
  {
   "cell_type": "markdown",
   "id": "d999ec7f-6ae8-4b8a-b860-9b3fbc6be50a",
   "metadata": {},
   "source": [
    "## Handling data type"
   ]
  },
  {
   "cell_type": "code",
   "execution_count": 9,
   "id": "3aaacad8-555b-43d0-a84f-51b4fc724291",
   "metadata": {},
   "outputs": [
    {
     "data": {
      "text/html": [
       "<div>\n",
       "<style scoped>\n",
       "    .dataframe tbody tr th:only-of-type {\n",
       "        vertical-align: middle;\n",
       "    }\n",
       "\n",
       "    .dataframe tbody tr th {\n",
       "        vertical-align: top;\n",
       "    }\n",
       "\n",
       "    .dataframe thead th {\n",
       "        text-align: right;\n",
       "    }\n",
       "</style>\n",
       "<table border=\"1\" class=\"dataframe\">\n",
       "  <thead>\n",
       "    <tr style=\"text-align: right;\">\n",
       "      <th></th>\n",
       "      <th>Data type</th>\n",
       "    </tr>\n",
       "  </thead>\n",
       "  <tbody>\n",
       "    <tr>\n",
       "      <th>Attorney/Representative</th>\n",
       "      <td>object</td>\n",
       "    </tr>\n",
       "    <tr>\n",
       "      <th>Average Weekly Wage</th>\n",
       "      <td>float64</td>\n",
       "    </tr>\n",
       "    <tr>\n",
       "      <th>COVID-19 Indicator</th>\n",
       "      <td>object</td>\n",
       "    </tr>\n",
       "    <tr>\n",
       "      <th>Gender</th>\n",
       "      <td>object</td>\n",
       "    </tr>\n",
       "    <tr>\n",
       "      <th>IME-4 Count</th>\n",
       "      <td>float64</td>\n",
       "    </tr>\n",
       "  </tbody>\n",
       "</table>\n",
       "</div>"
      ],
      "text/plain": [
       "                        Data type\n",
       "Attorney/Representative    object\n",
       "Average Weekly Wage       float64\n",
       "COVID-19 Indicator         object\n",
       "Gender                     object\n",
       "IME-4 Count               float64"
      ]
     },
     "execution_count": 9,
     "metadata": {},
     "output_type": "execute_result"
    }
   ],
   "source": [
    "pd.DataFrame(train_data[['Attorney/Representative', 'Average Weekly Wage', 'COVID-19 Indicator', 'Gender', 'IME-4 Count']].dtypes).rename(columns={0: 'Data type'})"
   ]
  },
  {
   "cell_type": "code",
   "execution_count": 10,
   "id": "dd683349-06ca-4b80-8a65-e85de3cea02e",
   "metadata": {},
   "outputs": [
    {
     "data": {
      "text/html": [
       "<div>\n",
       "<style scoped>\n",
       "    .dataframe tbody tr th:only-of-type {\n",
       "        vertical-align: middle;\n",
       "    }\n",
       "\n",
       "    .dataframe tbody tr th {\n",
       "        vertical-align: top;\n",
       "    }\n",
       "\n",
       "    .dataframe thead th {\n",
       "        text-align: right;\n",
       "    }\n",
       "</style>\n",
       "<table border=\"1\" class=\"dataframe\">\n",
       "  <thead>\n",
       "    <tr style=\"text-align: right;\">\n",
       "      <th></th>\n",
       "      <th>Data type</th>\n",
       "    </tr>\n",
       "  </thead>\n",
       "  <tbody>\n",
       "    <tr>\n",
       "      <th>Attorney/Representative</th>\n",
       "      <td>object</td>\n",
       "    </tr>\n",
       "    <tr>\n",
       "      <th>Average Weekly Wage</th>\n",
       "      <td>float64</td>\n",
       "    </tr>\n",
       "    <tr>\n",
       "      <th>COVID-19 Indicator</th>\n",
       "      <td>object</td>\n",
       "    </tr>\n",
       "    <tr>\n",
       "      <th>Gender</th>\n",
       "      <td>object</td>\n",
       "    </tr>\n",
       "    <tr>\n",
       "      <th>IME-4 Count</th>\n",
       "      <td>float64</td>\n",
       "    </tr>\n",
       "  </tbody>\n",
       "</table>\n",
       "</div>"
      ],
      "text/plain": [
       "                        Data type\n",
       "Attorney/Representative    object\n",
       "Average Weekly Wage       float64\n",
       "COVID-19 Indicator         object\n",
       "Gender                     object\n",
       "IME-4 Count               float64"
      ]
     },
     "execution_count": 10,
     "metadata": {},
     "output_type": "execute_result"
    }
   ],
   "source": [
    "pd.DataFrame(test_data[['Attorney/Representative', 'Average Weekly Wage', 'COVID-19 Indicator', 'Gender', 'IME-4 Count']].dtypes).rename(columns={0: 'Data type'})"
   ]
  },
  {
   "cell_type": "markdown",
   "id": "f7849518-c1fb-4180-aa5d-5701787c55d3",
   "metadata": {},
   "source": [
    "Good data types for `Average Weekly Wage`, `Gender` <br>\n",
    "Wrong data types for `Attorney/Representative`, `COVID-19 Indicator`, `IME-4 Count` <br>\n",
    "Need to change:\n",
    "\n",
    "- `Attorney/Representative` - boolean,\n",
    "- `COVID-19 Indicator` - boolean,\n",
    "- `IME-4 Count` - integer"
   ]
  },
  {
   "cell_type": "code",
   "execution_count": 11,
   "id": "c1a36347-899f-4052-9a7e-5047d80a9dc5",
   "metadata": {},
   "outputs": [
    {
     "name": "stdout",
     "output_type": "stream",
     "text": [
      "['N' nan 'Y'] ['N' 'Y']\n"
     ]
    }
   ],
   "source": [
    "print(train_data['COVID-19 Indicator'].unique(), test_data['COVID-19 Indicator'].unique())"
   ]
  },
  {
   "cell_type": "code",
   "execution_count": 12,
   "id": "64b7c214-3c8d-48e9-a330-f8223b5d0634",
   "metadata": {},
   "outputs": [
    {
     "name": "stdout",
     "output_type": "stream",
     "text": [
      "['N' 'Y' nan] ['N' 'Y']\n"
     ]
    }
   ],
   "source": [
    "print(train_data['Attorney/Representative'].unique(), test_data['Attorney/Representative'].unique())"
   ]
  },
  {
   "cell_type": "code",
   "execution_count": 13,
   "id": "8a7cee5d-b995-41e5-ab3a-98c0d33b9c16",
   "metadata": {},
   "outputs": [
    {
     "name": "stdout",
     "output_type": "stream",
     "text": [
      "['M' 'F' nan 'U' 'X'] ['M' 'F' 'U' 'X']\n"
     ]
    }
   ],
   "source": [
    "print(train_data['Gender'].unique(), test_data['Gender'].unique())"
   ]
  },
  {
   "cell_type": "markdown",
   "id": "f2f220c2-eed8-411e-a028-ccaa05b49525",
   "metadata": {},
   "source": [
    "`Attorney/Representative` and `COVID-19 Indicator` have only 2 unique values (+ NaN in `train_data`) <br>\n",
    "Note that there are 4 different categories for `Gender` + NaN. Need to merge `U` and NaN together. It'll leave us with 3 categories - M, F, and X"
   ]
  },
  {
   "cell_type": "code",
   "execution_count": 14,
   "id": "ee4bf3d5-bf8f-4d52-a3fd-a72098548657",
   "metadata": {},
   "outputs": [],
   "source": [
    "# Converting NaNs to U (Unknown) in 'Gender'\n",
    "train_data['Gender'] = train_data['Gender'].replace(np.nan, 'U')\n",
    "test_data['Gender'] = test_data['Gender'].replace(np.nan, 'U')"
   ]
  },
  {
   "cell_type": "code",
   "execution_count": 15,
   "id": "26acce3c-9d17-4206-8a11-6c0e8548ae91",
   "metadata": {},
   "outputs": [
    {
     "name": "stderr",
     "output_type": "stream",
     "text": [
      "/var/folders/1v/g732xzmj3fq2t8__lcdf8r_40000gn/T/ipykernel_7364/1814373196.py:4: FutureWarning: Downcasting behavior in `replace` is deprecated and will be removed in a future version. To retain the old behavior, explicitly call `result.infer_objects(copy=False)`. To opt-in to the future behavior, set `pd.set_option('future.no_silent_downcasting', True)`\n",
      "  test_data.replace({'Attorney/Representative': {'Y': True, 'N': False},\n"
     ]
    }
   ],
   "source": [
    "# Converting 'Y' to True and 'N' to False in 'Attorney/Representative' and 'COVID-19 Indicator'\n",
    "train_data.replace({'Attorney/Representative': {'Y': True, 'N': False}, \n",
    "                    'COVID-19 Indicator': {'Y': True, 'N': False}}, inplace=True)\n",
    "test_data.replace({'Attorney/Representative': {'Y': True, 'N': False}, \n",
    "                    'COVID-19 Indicator': {'Y': True, 'N': False}}, inplace=True)"
   ]
  },
  {
   "cell_type": "code",
   "execution_count": 16,
   "id": "d7e385bb-e454-4f7c-acb0-c4ed7b4cbde2",
   "metadata": {},
   "outputs": [],
   "source": [
    "###decided not to do it since the NAs values make the visualization of bool harder###\n",
    "# converting to \"boolean\" over \"bool\" allows preservation of NaNs\n",
    "#train_data['Attorney/Representative'] = train_data['Attorney/Representative'].astype(\"boolean\")\n",
    "#train_data['COVID-19 Indicator'] = train_data['COVID-19 Indicator'].astype(\"boolean\")\n",
    "\n",
    "#test_data['Attorney/Representative'] = test_data['Attorney/Representative'].astype(\"boolean\")\n",
    "#test_data['COVID-19 Indicator'] = test_data['COVID-19 Indicator'].astype(\"boolean\")"
   ]
  },
  {
   "cell_type": "code",
   "execution_count": 17,
   "id": "ed8f21ea-70cb-4bff-90c5-7e331c2996bb",
   "metadata": {},
   "outputs": [],
   "source": [
    "# Converting IME-4 Count to int\n",
    "train_data['IME-4 Count'] = train_data['IME-4 Count'].astype('Int64')\n",
    "test_data['IME-4 Count'] = test_data['IME-4 Count'].astype('Int64')"
   ]
  },
  {
   "cell_type": "code",
   "execution_count": 18,
   "id": "ca993bba-1efd-4ad7-81d6-8b2206f546ba",
   "metadata": {},
   "outputs": [
    {
     "data": {
      "text/html": [
       "<div>\n",
       "<style scoped>\n",
       "    .dataframe tbody tr th:only-of-type {\n",
       "        vertical-align: middle;\n",
       "    }\n",
       "\n",
       "    .dataframe tbody tr th {\n",
       "        vertical-align: top;\n",
       "    }\n",
       "\n",
       "    .dataframe thead th {\n",
       "        text-align: right;\n",
       "    }\n",
       "</style>\n",
       "<table border=\"1\" class=\"dataframe\">\n",
       "  <thead>\n",
       "    <tr style=\"text-align: right;\">\n",
       "      <th></th>\n",
       "      <th>Data type</th>\n",
       "    </tr>\n",
       "  </thead>\n",
       "  <tbody>\n",
       "    <tr>\n",
       "      <th>Attorney/Representative</th>\n",
       "      <td>object</td>\n",
       "    </tr>\n",
       "    <tr>\n",
       "      <th>Average Weekly Wage</th>\n",
       "      <td>float64</td>\n",
       "    </tr>\n",
       "    <tr>\n",
       "      <th>COVID-19 Indicator</th>\n",
       "      <td>object</td>\n",
       "    </tr>\n",
       "    <tr>\n",
       "      <th>Gender</th>\n",
       "      <td>object</td>\n",
       "    </tr>\n",
       "    <tr>\n",
       "      <th>IME-4 Count</th>\n",
       "      <td>Int64</td>\n",
       "    </tr>\n",
       "  </tbody>\n",
       "</table>\n",
       "</div>"
      ],
      "text/plain": [
       "                        Data type\n",
       "Attorney/Representative    object\n",
       "Average Weekly Wage       float64\n",
       "COVID-19 Indicator         object\n",
       "Gender                     object\n",
       "IME-4 Count                 Int64"
      ]
     },
     "execution_count": 18,
     "metadata": {},
     "output_type": "execute_result"
    }
   ],
   "source": [
    "pd.DataFrame(train_data[['Attorney/Representative', 'Average Weekly Wage', 'COVID-19 Indicator', 'Gender', 'IME-4 Count']].dtypes).rename(columns={0: 'Data type'})"
   ]
  },
  {
   "cell_type": "code",
   "execution_count": 19,
   "id": "55691d0f-60b0-4e1d-852f-304f22c3f659",
   "metadata": {},
   "outputs": [
    {
     "data": {
      "text/html": [
       "<div>\n",
       "<style scoped>\n",
       "    .dataframe tbody tr th:only-of-type {\n",
       "        vertical-align: middle;\n",
       "    }\n",
       "\n",
       "    .dataframe tbody tr th {\n",
       "        vertical-align: top;\n",
       "    }\n",
       "\n",
       "    .dataframe thead th {\n",
       "        text-align: right;\n",
       "    }\n",
       "</style>\n",
       "<table border=\"1\" class=\"dataframe\">\n",
       "  <thead>\n",
       "    <tr style=\"text-align: right;\">\n",
       "      <th></th>\n",
       "      <th>Data type</th>\n",
       "    </tr>\n",
       "  </thead>\n",
       "  <tbody>\n",
       "    <tr>\n",
       "      <th>Attorney/Representative</th>\n",
       "      <td>bool</td>\n",
       "    </tr>\n",
       "    <tr>\n",
       "      <th>Average Weekly Wage</th>\n",
       "      <td>float64</td>\n",
       "    </tr>\n",
       "    <tr>\n",
       "      <th>COVID-19 Indicator</th>\n",
       "      <td>bool</td>\n",
       "    </tr>\n",
       "    <tr>\n",
       "      <th>Gender</th>\n",
       "      <td>object</td>\n",
       "    </tr>\n",
       "    <tr>\n",
       "      <th>IME-4 Count</th>\n",
       "      <td>Int64</td>\n",
       "    </tr>\n",
       "  </tbody>\n",
       "</table>\n",
       "</div>"
      ],
      "text/plain": [
       "                        Data type\n",
       "Attorney/Representative      bool\n",
       "Average Weekly Wage       float64\n",
       "COVID-19 Indicator           bool\n",
       "Gender                     object\n",
       "IME-4 Count                 Int64"
      ]
     },
     "execution_count": 19,
     "metadata": {},
     "output_type": "execute_result"
    }
   ],
   "source": [
    "pd.DataFrame(test_data[['Attorney/Representative', 'Average Weekly Wage', 'COVID-19 Indicator', 'Gender', 'IME-4 Count']].dtypes).rename(columns={0: 'Data type'})"
   ]
  },
  {
   "cell_type": "markdown",
   "id": "d6f897bf-ce0b-450a-9b0f-370bf95ac631",
   "metadata": {},
   "source": [
    "UPDATED: <br>\n",
    "- Good data types for `Average Weekly Wage`, `Gender`, `IME-4 Count`, `Attorney/Representative`, `COVID-19 Indicator` "
   ]
  },
  {
   "cell_type": "markdown",
   "id": "9221e752-b295-421a-9c3d-e4daadc0c362",
   "metadata": {},
   "source": [
    "## Strange Values Check"
   ]
  },
  {
   "cell_type": "markdown",
   "id": "fe0de24e-f57c-4785-9f40-72b1b876fbc6",
   "metadata": {},
   "source": [
    "As noted above:\n",
    "- no abnormalities in `Attorney/Representative` and `COVID-19 Indicator`<br>\n",
    "\n",
    "Need to check `Average Weekly Wage` and `IME-4 Count`"
   ]
  },
  {
   "cell_type": "code",
   "execution_count": 20,
   "id": "2d0153a0-0fde-44ea-aebc-f8a14938e19f",
   "metadata": {},
   "outputs": [
    {
     "data": {
      "text/html": [
       "<div>\n",
       "<style scoped>\n",
       "    .dataframe tbody tr th:only-of-type {\n",
       "        vertical-align: middle;\n",
       "    }\n",
       "\n",
       "    .dataframe tbody tr th {\n",
       "        vertical-align: top;\n",
       "    }\n",
       "\n",
       "    .dataframe thead th {\n",
       "        text-align: right;\n",
       "    }\n",
       "</style>\n",
       "<table border=\"1\" class=\"dataframe\">\n",
       "  <thead>\n",
       "    <tr style=\"text-align: right;\">\n",
       "      <th></th>\n",
       "      <th>count</th>\n",
       "      <th>mean</th>\n",
       "      <th>std</th>\n",
       "      <th>min</th>\n",
       "      <th>25%</th>\n",
       "      <th>50%</th>\n",
       "      <th>75%</th>\n",
       "      <th>max</th>\n",
       "    </tr>\n",
       "  </thead>\n",
       "  <tbody>\n",
       "    <tr>\n",
       "      <th>Average Weekly Wage</th>\n",
       "      <td>545375.0</td>\n",
       "      <td>491.088321</td>\n",
       "      <td>6092.91812</td>\n",
       "      <td>0.0</td>\n",
       "      <td>0.0</td>\n",
       "      <td>0.0</td>\n",
       "      <td>841.0</td>\n",
       "      <td>2828079.0</td>\n",
       "    </tr>\n",
       "    <tr>\n",
       "      <th>IME-4 Count</th>\n",
       "      <td>132803.0</td>\n",
       "      <td>3.207337</td>\n",
       "      <td>2.832303</td>\n",
       "      <td>1.0</td>\n",
       "      <td>1.0</td>\n",
       "      <td>2.0</td>\n",
       "      <td>4.0</td>\n",
       "      <td>73.0</td>\n",
       "    </tr>\n",
       "  </tbody>\n",
       "</table>\n",
       "</div>"
      ],
      "text/plain": [
       "                        count        mean         std  min  25%  50%    75%  \\\n",
       "Average Weekly Wage  545375.0  491.088321  6092.91812  0.0  0.0  0.0  841.0   \n",
       "IME-4 Count          132803.0    3.207337    2.832303  1.0  1.0  2.0    4.0   \n",
       "\n",
       "                           max  \n",
       "Average Weekly Wage  2828079.0  \n",
       "IME-4 Count               73.0  "
      ]
     },
     "execution_count": 20,
     "metadata": {},
     "output_type": "execute_result"
    }
   ],
   "source": [
    "train_data[['Average Weekly Wage', 'IME-4 Count']].describe().T"
   ]
  },
  {
   "cell_type": "markdown",
   "id": "23c07354-9cee-4680-b1ce-eaab71070b0a",
   "metadata": {},
   "source": [
    "- Plenty of 0s in `Average Weekly Wage`\n",
    "- Top value in `Average Weekly Wage` is very unlikely - weekly income of 2 828 079\n",
    "- 73 forms per single claim in `IME-4 Count`"
   ]
  },
  {
   "cell_type": "code",
   "execution_count": 21,
   "id": "faa5dd4f-1c4a-4371-ad28-d3a62b89076d",
   "metadata": {},
   "outputs": [
    {
     "data": {
      "text/plain": [
       "16"
      ]
     },
     "execution_count": 21,
     "metadata": {},
     "output_type": "execute_result"
    }
   ],
   "source": [
    "# How many cases have crazy big income\n",
    "(train_data['Average Weekly Wage'] > 100_000).sum()"
   ]
  },
  {
   "cell_type": "code",
   "execution_count": 22,
   "id": "fda8d20b-9c2d-44ed-b117-88a0abe8d8b9",
   "metadata": {},
   "outputs": [
    {
     "data": {
      "text/plain": [
       "545375"
      ]
     },
     "execution_count": 22,
     "metadata": {},
     "output_type": "execute_result"
    }
   ],
   "source": [
    "train_data['Average Weekly Wage'].count()"
   ]
  },
  {
   "cell_type": "code",
   "execution_count": 23,
   "id": "ed21b2c7-fc42-4c94-9dc9-81ded6d9a582",
   "metadata": {},
   "outputs": [
    {
     "name": "stdout",
     "output_type": "stream",
     "text": [
      "335450 (61.508136603254634%) people have no weekly income.\n"
     ]
    }
   ],
   "source": [
    "print(f'{(train_data['Average Weekly Wage'] == 0).sum()} ({(train_data['Average Weekly Wage'] == 0).sum()/train_data['Average Weekly Wage'].count()*100}%) people have no weekly income.')"
   ]
  },
  {
   "cell_type": "code",
   "execution_count": 24,
   "id": "73d3db3b-0988-412e-b91a-9c0806991fb7",
   "metadata": {},
   "outputs": [
    {
     "data": {
      "text/html": [
       "<div>\n",
       "<style scoped>\n",
       "    .dataframe tbody tr th:only-of-type {\n",
       "        vertical-align: middle;\n",
       "    }\n",
       "\n",
       "    .dataframe tbody tr th {\n",
       "        vertical-align: top;\n",
       "    }\n",
       "\n",
       "    .dataframe thead th {\n",
       "        text-align: right;\n",
       "    }\n",
       "</style>\n",
       "<table border=\"1\" class=\"dataframe\">\n",
       "  <thead>\n",
       "    <tr style=\"text-align: right;\">\n",
       "      <th></th>\n",
       "      <th>count</th>\n",
       "      <th>mean</th>\n",
       "      <th>std</th>\n",
       "      <th>min</th>\n",
       "      <th>25%</th>\n",
       "      <th>50%</th>\n",
       "      <th>75%</th>\n",
       "      <th>max</th>\n",
       "    </tr>\n",
       "  </thead>\n",
       "  <tbody>\n",
       "    <tr>\n",
       "      <th>Average Weekly Wage</th>\n",
       "      <td>368771.0</td>\n",
       "      <td>183.343831</td>\n",
       "      <td>3542.310214</td>\n",
       "      <td>0.0</td>\n",
       "      <td>0.0</td>\n",
       "      <td>0.0</td>\n",
       "      <td>0.0</td>\n",
       "      <td>1950317.0</td>\n",
       "    </tr>\n",
       "    <tr>\n",
       "      <th>IME-4 Count</th>\n",
       "      <td>35249.0</td>\n",
       "      <td>2.118131</td>\n",
       "      <td>1.465406</td>\n",
       "      <td>1.0</td>\n",
       "      <td>1.0</td>\n",
       "      <td>2.0</td>\n",
       "      <td>2.0</td>\n",
       "      <td>18.0</td>\n",
       "    </tr>\n",
       "  </tbody>\n",
       "</table>\n",
       "</div>"
      ],
      "text/plain": [
       "                        count        mean          std  min  25%  50%  75%  \\\n",
       "Average Weekly Wage  368771.0  183.343831  3542.310214  0.0  0.0  0.0  0.0   \n",
       "IME-4 Count           35249.0    2.118131     1.465406  1.0  1.0  2.0  2.0   \n",
       "\n",
       "                           max  \n",
       "Average Weekly Wage  1950317.0  \n",
       "IME-4 Count               18.0  "
      ]
     },
     "execution_count": 24,
     "metadata": {},
     "output_type": "execute_result"
    }
   ],
   "source": [
    "test_data[['Average Weekly Wage', 'IME-4 Count']].describe().T"
   ]
  },
  {
   "cell_type": "markdown",
   "id": "3e0aef1b-aff8-45a4-b48a-5a42a05f788e",
   "metadata": {},
   "source": [
    "- Genuine 0s or missing values in `Average Weekly Wage`?<br>\n",
    "- Note that there is even larger proportion of 0s in `test_data`"
   ]
  },
  {
   "cell_type": "markdown",
   "id": "3d18425b-766e-469f-bd2f-7896ee04f3b4",
   "metadata": {},
   "source": [
    "# Average Weekly Wage and IME-4 Count\n",
    "Very ugly graphs since there is unproportianally many 0s or 1s in `Average Weekly Wage` and `IME-4 Count`"
   ]
  },
  {
   "cell_type": "code",
   "execution_count": 25,
   "id": "3cbbf18c-9c6b-45fc-a91d-2cd901931a4e",
   "metadata": {},
   "outputs": [
    {
     "data": {
      "image/png": "[encoded data removed]",
      "text/plain": [
       "<Figure size 640x480 with 1 Axes>"
      ]
     },
     "metadata": {},
     "output_type": "display_data"
    }
   ],
   "source": [
    "bins = (0, 500, 1000, 1500, 2000, 2500, 3000, 6000)\n",
    "\n",
    "plt.hist(train_data['Average Weekly Wage'], bins=bins)  \n",
    "plt.title('Average Weekly Wage', y=-.2)\n",
    "\n",
    "plt.show()"
   ]
  },
  {
   "cell_type": "code",
   "execution_count": 26,
   "id": "87618574-37bf-40b2-9549-c683c2c8da10",
   "metadata": {},
   "outputs": [
    {
     "data": {
      "image/png": "[encoded data removed]",
      "text/plain": [
       "<Figure size 640x480 with 1 Axes>"
      ]
     },
     "metadata": {},
     "output_type": "display_data"
    }
   ],
   "source": [
    "sns.boxplot(x=train_data['Average Weekly Wage'])\n",
    "\n",
    "plt.show()"
   ]
  },
  {
   "cell_type": "code",
   "execution_count": 27,
   "id": "87e2385c-bbd9-4890-8c94-535a172662a7",
   "metadata": {},
   "outputs": [
    {
     "data": {
      "image/png": "[encoded data removed]",
      "text/plain": [
       "<Figure size 640x480 with 1 Axes>"
      ]
     },
     "metadata": {},
     "output_type": "display_data"
    }
   ],
   "source": [
    "# Single Metric Variable Histogram\n",
    "plt.hist(train_data['IME-4 Count'], bins=2)  # mess around with the bins\n",
    "plt.title('IME-4 Count', y=-0.2)\n",
    "\n",
    "plt.show()"
   ]
  },
  {
   "cell_type": "markdown",
   "id": "d4e8f688-f443-4f99-adc5-2a3d60b3d91d",
   "metadata": {},
   "source": [
    "# Gender"
   ]
  },
  {
   "cell_type": "code",
   "execution_count": 28,
   "id": "cabebaae-44e5-4a53-825c-4dd3bbfdf8e0",
   "metadata": {},
   "outputs": [
    {
     "data": {
      "image/png": "[encoded data removed]",
      "text/plain": [
       "<Figure size 640x480 with 1 Axes>"
      ]
     },
     "metadata": {},
     "output_type": "display_data"
    }
   ],
   "source": [
    "sns.countplot(x='Gender', data=train_data)\n",
    "\n",
    "# Set the title\n",
    "plt.title('Gender Distribution')\n",
    "\n",
    "# Show the plot\n",
    "plt.show()"
   ]
  },
  {
   "cell_type": "code",
   "execution_count": 29,
   "id": "bee3cab8-3965-4b0d-8176-bcadae53ae2c",
   "metadata": {},
   "outputs": [
    {
     "data": {
      "text/plain": [
       "Gender\n",
       "M    335218\n",
       "F    234051\n",
       "U     24156\n",
       "X        46\n",
       "Name: count, dtype: int64"
      ]
     },
     "execution_count": 29,
     "metadata": {},
     "output_type": "execute_result"
    }
   ],
   "source": [
    "train_data['Gender'].value_counts()"
   ]
  },
  {
   "cell_type": "code",
   "execution_count": 30,
   "id": "328f1e70-ed59-4406-a3c6-3688b1890b3b",
   "metadata": {},
   "outputs": [
    {
     "data": {
      "text/plain": [
       "Gender\n",
       "M    215343\n",
       "F    167019\n",
       "U      5340\n",
       "X       273\n",
       "Name: count, dtype: int64"
      ]
     },
     "execution_count": 30,
     "metadata": {},
     "output_type": "execute_result"
    }
   ],
   "source": [
    "test_data['Gender'].value_counts()"
   ]
  },
  {
   "cell_type": "markdown",
   "id": "0173889e-235f-40b8-9f22-da95fa56c3b1",
   "metadata": {},
   "source": [
    "# COVID-19 Indicator"
   ]
  },
  {
   "cell_type": "code",
   "execution_count": 31,
   "id": "381075a9-4d2e-4f57-a7be-672cdc4a4fa1",
   "metadata": {},
   "outputs": [
    {
     "data": {
      "image/png": "[encoded data removed]",
      "text/plain": [
       "<Figure size 640x480 with 1 Axes>"
      ]
     },
     "metadata": {},
     "output_type": "display_data"
    }
   ],
   "source": [
    "sns.countplot(x='COVID-19 Indicator', data=train_data)\n",
    "\n",
    "# Set the title\n",
    "plt.title('COVID-19 Indicator Distribution')\n",
    "\n",
    "# Show the plot\n",
    "plt.show()"
   ]
  },
  {
   "cell_type": "code",
   "execution_count": 32,
   "id": "1bd35e20-7dfb-494c-afea-070df30f7d2f",
   "metadata": {},
   "outputs": [
    {
     "data": {
      "image/png": "[encoded data removed]",
      "text/plain": [
       "<Figure size 1400x500 with 2 Axes>"
      ]
     },
     "metadata": {},
     "output_type": "display_data"
    }
   ],
   "source": [
    "# Assuming train_data and test_data DataFrames are already defined and contain the 'Attorney/Representative' column\n",
    "\n",
    "# Calculate the percentage of each category (True, False, and NaN) for train_data\n",
    "train_covid_counts = train_data['COVID-19 Indicator'].value_counts(dropna=False)\n",
    "train_covid_percentage = (train_covid_counts / len(train_data['COVID-19 Indicator'])) * 100\n",
    "\n",
    "# Calculate the percentage of each category (True, False, and NaN) for test_data\n",
    "test_covid_counts = test_data['COVID-19 Indicator'].value_counts(dropna=False)\n",
    "test_covid_percentage = (test_covid_counts / len(test_data['COVID-19 Indicator'])) * 100\n",
    "\n",
    "# Create a figure with two subplots side by side\n",
    "fig, axes = plt.subplots(1, 2, figsize=(14, 5))\n",
    "\n",
    "# Plot for train_data\n",
    "train_covid_percentage.plot(kind='bar', ax=axes[0], color='skyblue')\n",
    "axes[0].set_title('Train Data: Percentage of True, False, and NaN')\n",
    "axes[0].set_ylabel('Percentage')\n",
    "axes[0].set_xlabel('COVID-19 Indicator')\n",
    "\n",
    "# Annotate the bars for train_data\n",
    "for i, percentage in enumerate(train_covid_percentage):\n",
    "    axes[0].text(i, percentage + 0.5, f'{percentage:.2f}%', ha='center')\n",
    "\n",
    "# Plot for test_data\n",
    "test_covid_percentage.plot(kind='bar', ax=axes[1], color='lightcoral')\n",
    "axes[1].set_title('Test Data: Percentage of True, False, and NaN')\n",
    "axes[1].set_ylabel('Percentage')\n",
    "axes[1].set_xlabel('COVID-19 Indicator')\n",
    "\n",
    "# Annotate the bars for test_data\n",
    "for i, percentage in enumerate(test_covid_percentage):\n",
    "    axes[1].text(i, percentage + 0.5, f'{percentage:.2f}%', ha='center')\n",
    "\n",
    "# Adjust layout for better spacing\n",
    "plt.tight_layout()\n",
    "\n",
    "# Show the plots\n",
    "plt.show()"
   ]
  },
  {
   "cell_type": "markdown",
   "id": "6b4a30db-7171-4634-b410-acb40d88e3e6",
   "metadata": {},
   "source": [
    "# Attorney/Representative "
   ]
  },
  {
   "cell_type": "code",
   "execution_count": 33,
   "id": "9046aea5-7a86-4b09-b81f-a892476e72af",
   "metadata": {},
   "outputs": [
    {
     "data": {
      "image/png": "[encoded data removed]",
      "text/plain": [
       "<Figure size 640x480 with 1 Axes>"
      ]
     },
     "metadata": {},
     "output_type": "display_data"
    }
   ],
   "source": [
    "sns.countplot(x='Attorney/Representative', data=train_data)\n",
    "\n",
    "# Set the title\n",
    "plt.title('Attorney/Representative Distribution')\n",
    "\n",
    "# Show the plot\n",
    "plt.show()"
   ]
  },
  {
   "cell_type": "code",
   "execution_count": 34,
   "id": "980d0c1e-a1dc-4b06-9b89-da19baa0124f",
   "metadata": {},
   "outputs": [
    {
     "data": {
      "image/png": "[encoded data removed]",
      "text/plain": [
       "<Figure size 1400x500 with 2 Axes>"
      ]
     },
     "metadata": {},
     "output_type": "display_data"
    }
   ],
   "source": [
    "# Calculate the percentage of each category (True, False, and NaN) for train_data\n",
    "train_attorney_rep_counts = train_data['Attorney/Representative'].value_counts(dropna=False)\n",
    "train_attorney_rep_percentage = (train_attorney_rep_counts / len(train_data)) * 100\n",
    "\n",
    "# Calculate the percentage of each category (True, False, and NaN) for test_data\n",
    "test_attorney_rep_counts = test_data['Attorney/Representative'].value_counts(dropna=False)\n",
    "test_attorney_rep_percentage = (test_attorney_rep_counts / len(test_data)) * 100\n",
    "\n",
    "# Create a figure with two subplots side by side\n",
    "fig, axes = plt.subplots(1, 2, figsize=(14, 5))\n",
    "\n",
    "# Plot for train_data\n",
    "train_attorney_rep_percentage.plot(kind='bar', ax=axes[0], color='skyblue')\n",
    "axes[0].set_title('Train Data: Percentage of True, False, and NaN')\n",
    "axes[0].set_ylabel('Percentage')\n",
    "axes[0].set_xlabel('Attorney/Representative')\n",
    "\n",
    "# Annotate the bars for train_data\n",
    "for i, percentage in enumerate(train_attorney_rep_percentage):\n",
    "    axes[0].text(i, percentage + 0.5, f'{percentage:.2f}%', ha='center')\n",
    "\n",
    "# Plot for test_data\n",
    "test_attorney_rep_percentage.plot(kind='bar', ax=axes[1], color='lightcoral')\n",
    "axes[1].set_title('Test Data: Percentage of True, False, and NaN')\n",
    "axes[1].set_ylabel('Percentage')\n",
    "axes[1].set_xlabel('Attorney/Representative')\n",
    "\n",
    "# Annotate the bars for test_data\n",
    "for i, percentage in enumerate(test_attorney_rep_percentage):\n",
    "    axes[1].text(i, percentage + 0.5, f'{percentage:.2f}%', ha='center')\n",
    "\n",
    "# Adjust layout for better spacing\n",
    "plt.tight_layout()\n",
    "\n",
    "# Show the plots\n",
    "plt.show()"
   ]
  },
  {
   "cell_type": "markdown",
   "id": "77afc307-29e6-486d-8eb3-3f7b9ab0441a",
   "metadata": {},
   "source": [
    "# Correlation"
   ]
  },
  {
   "cell_type": "code",
   "execution_count": 35,
   "id": "1119e635-74ef-4478-a71f-de6581787885",
   "metadata": {},
   "outputs": [],
   "source": [
    "metric_features = train_data[['Age at Injury', 'Average Weekly Wage', 'Birth Year', 'IME-4 Count', 'Industry Code', 'WCIO Cause of Injury Code',\n",
    "                              'WCIO Nature of Injury Code', 'WCIO Part Of Body Code', 'Number of Dependents']]"
   ]
  },
  {
   "cell_type": "code",
   "execution_count": 36,
   "id": "bb836b06-60e2-48d2-b58d-e082bca809a9",
   "metadata": {},
   "outputs": [
    {
     "data": {
      "image/png": "[encoded data removed]",
      "text/plain": [
       "<Figure size 1200x800 with 2 Axes>"
      ]
     },
     "metadata": {},
     "output_type": "display_data"
    }
   ],
   "source": [
    "corr = metric_features.corr(method=\"pearson\").round(2)\n",
    "\n",
    "mask_annot = np.absolute(corr.values) >= 0.5 \n",
    "annot = np.where(mask_annot, corr.values, np.full(corr.shape,\"\")) \n",
    "fig = plt.figure(figsize=(12, 8))\n",
    "\n",
    "sns.heatmap(data=corr, \n",
    "            annot=annot,\n",
    "            fmt='s', \n",
    "            vmin=-1, vmax=1, center=0,\n",
    "            square=True, linewidths=.5,\n",
    "            cmap='PiYG'\n",
    "    \n",
    "           )\n",
    "\n",
    "plt.show()"
   ]
  },
  {
   "cell_type": "code",
   "execution_count": 37,
   "id": "574d2df5-0d2d-4340-b2b0-cfa89dc80339",
   "metadata": {},
   "outputs": [
    {
     "data": {
      "image/png": "[encoded data removed]",
      "text/plain": [
       "<Figure size 640x480 with 1 Axes>"
      ]
     },
     "metadata": {},
     "output_type": "display_data"
    }
   ],
   "source": [
    "cat1 = 'Gender'\n",
    "cat2 = 'Attorney/Representative'\n",
    "\n",
    "catpc_df = train_data.groupby([cat1, cat2])[cat2].size() / train_data.groupby([cat1])[cat2].size() \n",
    "\n",
    "catpc_df.unstack().plot.bar(color=('skyblue','lightcoral'), stacked=True)\n",
    "\n",
    "\n",
    "plt.show()"
   ]
  },
  {
   "cell_type": "code",
   "execution_count": 38,
   "id": "0be2ba1b-8afc-441f-bfe7-94c3c0607fda",
   "metadata": {},
   "outputs": [
    {
     "data": {
      "image/png": "[encoded data removed]",
      "text/plain": [
       "<Figure size 640x480 with 1 Axes>"
      ]
     },
     "metadata": {},
     "output_type": "display_data"
    }
   ],
   "source": [
    "cat1 = 'Gender'\n",
    "cat2 = 'COVID-19 Indicator'\n",
    "\n",
    "catpc_df = train_data.groupby([cat1, cat2])[cat2].size() / train_data.groupby([cat1])[cat2].size() \n",
    "\n",
    "catpc_df.unstack().plot.bar(color=('skyblue','lightcoral') ,stacked=True)\n",
    "\n",
    "\n",
    "plt.show()"
   ]
  },
  {
   "cell_type": "markdown",
   "id": "9f0d8353-7cad-49e4-b397-824b70481975",
   "metadata": {},
   "source": [
    "# Key Notes\n",
    "- According to Cramer's V correlation matrix `COVID-19 Indicator` highly correlates with `WCIO Cause of Injury Description` (0.85) and `WCIO Nature of Injury Description` (0.86) and has a correlation higher than 0.7 with 11 other categorical featurse. Moreover, it's outcome values are highly unbalanced. Is it a redundant feature?\n",
    "- For many variables the same % of NAs appear.  I.e., 12 variables in Test have 3.28% of NAs. Need to delete these rows?\n",
    "- 61.5% of `train_data` has 0 of `Average Weekly Wage`. I didn't touch it because I suspect plenty of these 0s are genuine. These values are also missing for `test_data`. Also, some values on the other side of the spectrum. With so many ambiguos values , in my opinion, this feature might be a candidate for removal."
   ]
  }
 ],
 "metadata": {
  "kernelspec": {
   "display_name": "Python 3 (ipykernel)",
   "language": "python",
   "name": "python3"
  },
  "language_info": {
   "codemirror_mode": {
    "name": "ipython",
    "version": 3
   },
   "file_extension": ".py",
   "mimetype": "text/x-python",
   "name": "python",
   "nbconvert_exporter": "python",
   "pygments_lexer": "ipython3",
   "version": "3.12.2"
  }
 },
 "nbformat": 4,
 "nbformat_minor": 5
}
