{
 "cells": [
  {
   "metadata": {},
   "cell_type": "markdown",
   "source": [
    "<div style=\"display: flex; align-items: center; justify-content: center; flex-wrap: wrap;\">\n",
    "    <div style=\"flex: 1; max-width: 400px; display: flex; justify-content: center;\">\n",
    "        <img src=\"https://i.ibb.co/JBPWVYR/Logo-Nova-IMS-Black.png\" style=\"max-width: 50%; height: auto; margin-top: 50px; margin-bottom: 50px;margin-left: 3rem;\">\n",
    "    </div>\n",
    "    <div style=\"flex: 2; text-align: center; margin-top: 20px;\">\n",
    "        <div style=\"font-size: 28px; font-weight: bold; line-height: 1.2;\">\n",
    "            <span style=\"color: #08306B;\">ML Project |</span> <span style=\"color: #08529C;\">To Grant or Not to Grant</span>\n",
    "        </div>\n",
    "        <div style=\"font-size: 17px; font-weight: bold; margin-top: 10px;\">\n",
    "            Fall Semester | 2024 - 2025\n",
    "        </div>\n",
    "        <div style=\"font-size: 17px; font-weight: bold;\">\n",
    "            Master in Data Science and Advanced Analytics\n",
    "        </div>\n",
    "        <div style=\"margin-top: 20px;\">\n",
    "            <div>André Silvestre, 20240502</div>\n",
    "            <div>João Henriques, 20240499</div>\n",
    "            <div>Simone Genovese, 20241459</div>\n",
    "            <div>Steven Carlson, 20240554</div>\n",
    "            <div>Vinícius Pinto, 20211682</div>\n",
    "            <div>Zofia Wojcik, 20240654</div>\n",
    "        </div>\n",
    "        <div style=\"margin-top: 20px; font-weight: bold;\">\n",
    "            TBL Group 33\n",
    "        </div>\n",
    "    </div>\n",
    "</div>"
   ],
   "id": "1834cc3d7b582eb2"
  },
  {
   "metadata": {},
   "cell_type": "markdown",
   "source": "## 📚 Libraries Import\n",
   "id": "7f603cf1cb0fd531"
  },
  {
   "metadata": {
    "deletable": true,
    "editable": true,
    "frozen": false,
    "ExecuteTime": {
     "end_time": "2024-10-13T20:35:06.406043Z",
     "start_time": "2024-10-13T20:35:05.324344Z"
    }
   },
   "cell_type": "code",
   "source": [
    "# For data\n",
    "import pandas as pd\n",
    "import numpy as np\n",
    "import os\n",
    "\n",
    "# For plotting\n",
    "import matplotlib.pyplot as plt\n",
    "import seaborn as sns\n",
    "import matplotlib.ticker as mtick\n",
    "import matplotlib.lines as mlines\n",
    "import missingno as msno\n",
    "\n",
    "# For data preprocessing\n",
    "from sklearn.model_selection import train_test_split\n",
    "from sklearn.preprocessing import StandardScaler, MinMaxScaler, LabelEncoder\n",
    "\n",
    "# For modeling\n",
    "from sklearn.linear_model import LogisticRegression\n",
    "from sklearn.naive_bayes import GaussianNB\n",
    "from sklearn.neighbors import KNeighborsClassifier\n",
    "from sklearn import tree\n",
    "from sklearn.tree import DecisionTreeClassifier\n",
    "from sklearn.neural_network import MLPClassifier\n",
    "from sklearn.svm import SVC\n",
    "from sklearn.ensemble import RandomForestClassifier, GradientBoostingClassifier\n",
    "from sklearn.model_selection import GridSearchCV, cross_val_score, StratifiedKFold, learning_curve\n",
    "\n",
    "\n",
    "# For evaluation\n",
    "from collections import Counter\n",
    "from sklearn import metrics\n",
    "from sklearn.metrics import confusion_matrix, classification_report, accuracy_score, roc_auc_score, roc_curve, auc\n",
    "from sklearn.model_selection import cross_val_score\n",
    "\n",
    "\n",
    "# Set the style of the visualization\n",
    "pd.set_option('display.max_columns', None) # display all columns\n",
    "\n",
    "# for better resolution plots\n",
    "%config InlineBackend.figure_format = 'retina' # optionally, you can change 'svg' to 'retina'\n",
    "\n",
    "# Setting seaborn style\n",
    "sns.set_theme(style=\"white\")"
   ],
   "id": "b209518998b249d3",
   "outputs": [],
   "execution_count": 1
  },
  {
   "metadata": {},
   "cell_type": "markdown",
   "source": "## 🧮 Import Databases",
   "id": "4a5d91a720daf9a2"
  },
  {
   "metadata": {
    "deletable": true,
    "editable": true,
    "frozen": false,
    "ExecuteTime": {
     "end_time": "2024-10-12T14:23:25.687600Z",
     "start_time": "2024-10-12T14:23:25.683273Z"
    }
   },
   "cell_type": "code",
   "source": [
    "# Importing the dataset\n",
    "# train_data = pd.read_parquet('data/')\n",
    "# test_data = pd.read_parquet('data/test_data_1.csv')"
   ],
   "id": "8e78aa233134c06e",
   "outputs": [],
   "execution_count": 2
  },
  {
   "metadata": {
    "ExecuteTime": {
     "end_time": "2024-10-12T14:23:25.986488Z",
     "start_time": "2024-10-12T14:23:25.982065Z"
    }
   },
   "cell_type": "code",
   "source": [
    "# Display the first 2 rows of each dataset\n",
    "# train_data.head(2) "
   ],
   "id": "bd71ca18d539bbd0",
   "outputs": [],
   "execution_count": 3
  },
  {
   "metadata": {
    "ExecuteTime": {
     "end_time": "2024-10-12T14:23:27.644893Z",
     "start_time": "2024-10-12T14:23:27.641296Z"
    }
   },
   "cell_type": "code",
   "source": "# test_data.head(2)",
   "id": "e5400421ca668a5b",
   "outputs": [],
   "execution_count": 4
  },
  {
   "metadata": {},
   "cell_type": "markdown",
   "source": [
    "# <a class='anchor' id='3'></a>\n",
    "<br>\n",
    "<style>\n",
    "@import url('https://fonts.cdnfonts.com/css/avenir-next-lt-pro?styles=29974');\n",
    "</style>\n",
    "\n",
    "<div style=\"background: linear-gradient(to right,#08529C, #08306B); \n",
    "            padding: 10px; color: white; border-radius: 300px; text-align: center;\">\n",
    "    <center><h1 style=\"margin-left: 140px;margin-top: 10px; margin-bottom: 4px; color: white;\n",
    "                       font-size: 32px; font-family: 'Avenir Next LT Pro', sans-serif;\">\n",
    "        <b>3 | Modeling & Evaluation</b></h1></center>\n",
    "</div>\n",
    "\n",
    "<br><br>"
   ],
   "id": "61f158b792ebd291"
  },
  {
   "metadata": {},
   "cell_type": "markdown",
   "source": "#### **📈📉 Data Normalization**",
   "id": "6714bd8f0747bd46"
  },
  {
   "metadata": {},
   "cell_type": "code",
   "outputs": [],
   "execution_count": null,
   "source": [
    "# # For the 'KNN' and 'Logistic Regression' models, let's normalize the variables\n",
    "# from sklearn.preprocessing import MinMaxScaler\n",
    "# \n",
    "# X_train_norm = MinMaxScaler().fit_transform(X_train)\n",
    "# X_validation_norm = MinMaxScaler().fit_transform(X_validation)\n",
    "# X_test_norm = MinMaxScaler().fit_transform(X_test)"
   ],
   "id": "13e46b60f81b4152"
  },
  {
   "metadata": {},
   "cell_type": "code",
   "outputs": [],
   "execution_count": null,
   "source": "",
   "id": "e740fa8eeab0a205"
  },
  {
   "metadata": {},
   "cell_type": "markdown",
   "source": "# **💡 Modeling**",
   "id": "26312ae5b0368022"
  },
  {
   "metadata": {
    "ExecuteTime": {
     "end_time": "2024-10-13T20:46:18.521507Z",
     "start_time": "2024-10-13T20:46:18.512411Z"
    }
   },
   "cell_type": "code",
   "source": [
    "# Function that will print the results of the classification report and the confusion matrix for both datasets (train and validation)\n",
    "def classification_metrics(y_train, pred_train , y_val, pred_val):\n",
    "    print('___________________________________________________________________________________________________________')\n",
    "    print('                                                     TRAIN                                                 ')\n",
    "    print('-----------------------------------------------------------------------------------------------------------')\n",
    "    print(classification_report(y_train, pred_train, target_names=[str(i) for i in np.unique(y_train)]))\n",
    "\n",
    "    print('___________________________________________________________________________________________________________')\n",
    "    print('                                                VALIDATION                                                 ')\n",
    "    print('-----------------------------------------------------------------------------------------------------------')\n",
    "    print(classification_report(y_val, pred_val, target_names=[str(i) for i in np.unique(y_val)]))\n",
    "    \n",
    "    \n",
    "    # Confusion Matrix for Train and Validation side by side\n",
    "    fig, ax = plt.subplots(1,2, figsize=(12,4))\n",
    "    sns.heatmap(confusion_matrix(y_train, pred_train, labels=np.unique(y_val)),\n",
    "                annot=True, fmt='d', cmap='Blues', cbar=False, \n",
    "                xticklabels=np.unique(y_val), yticklabels=np.unique(y_val),\n",
    "                ax=ax[0])\n",
    "    ax[0].set_title('Confusion matrix [Train]', fontsize=14, fontweight='bold')\n",
    "    ax[0].set_xlabel('\\nPredicted', fontsize=8, fontweight='bold')\n",
    "    ax[0].set_yticklabels(rotation=0)\n",
    "    ax[0].set_ylabel('True\\n', fontsize=8, fontweight='bold')\n",
    "    \n",
    "    sns.heatmap(confusion_matrix(y_val, pred_val, labels=np.unique(y_val)),\n",
    "                annot=True, fmt='d', cmap='Blues', cbar=False, \n",
    "                xticklabels=np.unique(y_val), yticklabels=np.unique(y_val),\n",
    "                ax=ax[1])\n",
    "    ax[1].set_title('Confusion matrix [Validation]', fontsize=14, fontweight='bold')\n",
    "    ax[1].set_xlabel('\\nPredicted', fontsize=8, fontweight='bold')\n",
    "    ax[1].set_yticklabels(rotation=0)\n",
    "    ax[1].set_ylabel('True\\n', fontsize=8, fontweight='bold')\n",
    "    plt.show()"
   ],
   "id": "62931543e5893c7e",
   "outputs": [],
   "execution_count": 4
  },
  {
   "metadata": {},
   "cell_type": "markdown",
   "source": "### **Logistic Regression[<sup>[1]</sup>](https://scikit-learn.org/1.5/modules/generated/sklearn.linear_model.LogisticRegression.html)**",
   "id": "e911fc9f991fab36"
  },
  {
   "metadata": {
    "ExecuteTime": {
     "end_time": "2024-10-13T20:24:03.159523Z",
     "start_time": "2024-10-13T20:24:03.156690Z"
    }
   },
   "cell_type": "code",
   "source": "",
   "id": "fdc077bdc8c39898",
   "outputs": [],
   "execution_count": null
  },
  {
   "metadata": {
    "ExecuteTime": {
     "end_time": "2024-10-13T20:24:03.574854Z",
     "start_time": "2024-10-13T20:24:03.572855Z"
    }
   },
   "cell_type": "code",
   "source": "",
   "id": "6600486579e72ea3",
   "outputs": [],
   "execution_count": null
  },
  {
   "metadata": {},
   "cell_type": "markdown",
   "source": "### **Naive Bayes[<sup>[2]</sup>](https://scikit-learn.org/1.5/modules/generated/sklearn.naive_bayes.GaussianNB.html)**",
   "id": "767babb4472cb7e4"
  },
  {
   "metadata": {
    "ExecuteTime": {
     "end_time": "2024-10-13T20:24:03.883693Z",
     "start_time": "2024-10-13T20:24:03.881493Z"
    }
   },
   "cell_type": "code",
   "source": [
    "# # Naive Bayes\n",
    "# nb = GaussianNB()\n",
    "# cv = cross_val_score(nb,X_train_norm,y_train,cv=5)\n",
    "\n",
    "# # Train the model\n",
    "# knn.fit(X_train_norm, y_train)\n",
    "# \n",
    "# # Test the model\n",
    "# predicted_prob = knn.predict_proba(X_test_norm)[:,1]\n",
    "# predicted = knn.predict(X_test_norm)\n",
    "# y_proba = knn.predict_proba(X_test_norm)\n",
    "# \n",
    "# # Accuracy\n",
    "# accuracy = metrics.accuracy_score(y_test, predicted)\n",
    "# print(\"Accuracy (overall correct predictions):\",  round(accuracy,2))\n",
    "# \n",
    "# # AUC\n",
    "# auc = metrics.roc_auc_score(y_test, predicted_prob)\n",
    "# print(\"AUC:\", round(auc,2))"
   ],
   "id": "f937a6b7381a379",
   "outputs": [],
   "execution_count": null
  },
  {
   "metadata": {
    "ExecuteTime": {
     "end_time": "2024-10-13T20:24:04.164417Z",
     "start_time": "2024-10-13T20:24:04.162300Z"
    }
   },
   "cell_type": "code",
   "source": "",
   "id": "4e1e4886c3866948",
   "outputs": [],
   "execution_count": null
  },
  {
   "metadata": {},
   "cell_type": "markdown",
   "source": "### **K-Nearest Neighbors (KNN)[<sup>[3]</sup>](https://scikit-learn.org/1.5/modules/generated/sklearn.neighbors.KNeighborsClassifier.html)**",
   "id": "983890a7217565d3"
  },
  {
   "metadata": {
    "ExecuteTime": {
     "end_time": "2024-10-13T20:24:04.798682Z",
     "start_time": "2024-10-13T20:24:04.796358Z"
    }
   },
   "cell_type": "code",
   "source": [
    "# # KNN | K-Nearest Neighbors\n",
    "# knn = KNeighborsClassifier()\n",
    "# cv = cross_val_score(knn,X_train_norm,y_train,cv=5)\n"
   ],
   "id": "3b008b51b5b4e256",
   "outputs": [],
   "execution_count": null
  },
  {
   "metadata": {
    "ExecuteTime": {
     "end_time": "2024-10-13T20:24:04.987262Z",
     "start_time": "2024-10-13T20:24:04.984885Z"
    }
   },
   "cell_type": "code",
   "source": "",
   "id": "7b7461714e3b1b15",
   "outputs": [],
   "execution_count": null
  },
  {
   "metadata": {},
   "cell_type": "markdown",
   "source": "### **Decision Tree[<sup>[4]</sup>](https://scikit-learn.org/1.5/modules/generated/sklearn.tree.DecisionTreeClassifier.html)**",
   "id": "f6f6bbd860a401e3"
  },
  {
   "metadata": {
    "ExecuteTime": {
     "end_time": "2024-10-13T20:24:09.802688Z",
     "start_time": "2024-10-13T20:24:09.800186Z"
    }
   },
   "cell_type": "code",
   "source": "",
   "id": "f68df9e6a9280561",
   "outputs": [],
   "execution_count": null
  },
  {
   "metadata": {
    "ExecuteTime": {
     "end_time": "2024-10-13T20:24:10.168500Z",
     "start_time": "2024-10-13T20:24:10.165850Z"
    }
   },
   "cell_type": "code",
   "source": "",
   "id": "def9514c31415a30",
   "outputs": [],
   "execution_count": null
  },
  {
   "metadata": {},
   "cell_type": "markdown",
   "source": "### **Random Forest[<sup>[5]</sup>](https://scikit-learn.org/1.5/modules/generated/sklearn.ensemble.RandomForestClassifier.html)**",
   "id": "2f2c9cc20b4cf6da"
  },
  {
   "metadata": {
    "ExecuteTime": {
     "end_time": "2024-10-13T20:24:14.306942Z",
     "start_time": "2024-10-13T20:24:14.304549Z"
    }
   },
   "cell_type": "code",
   "source": "",
   "id": "16f2a9f29c8939f2",
   "outputs": [],
   "execution_count": null
  },
  {
   "metadata": {
    "ExecuteTime": {
     "end_time": "2024-10-13T20:24:14.796692Z",
     "start_time": "2024-10-13T20:24:14.793818Z"
    }
   },
   "cell_type": "code",
   "source": "",
   "id": "53eba8e08891e5d",
   "outputs": [],
   "execution_count": null
  },
  {
   "metadata": {},
   "cell_type": "markdown",
   "source": "### **Support Vector Machine (SVM)[<sup>[6]</sup>](https://scikit-learn.org/1.5/modules/generated/sklearn.svm.SVC.html)**",
   "id": "e88e9b0127415789"
  },
  {
   "metadata": {
    "ExecuteTime": {
     "end_time": "2024-10-13T20:21:36.768955Z",
     "start_time": "2024-10-13T20:21:36.766350Z"
    }
   },
   "cell_type": "code",
   "source": "",
   "id": "cb264af66e6750dc",
   "outputs": [],
   "execution_count": null
  },
  {
   "metadata": {},
   "cell_type": "code",
   "outputs": [],
   "execution_count": null,
   "source": "",
   "id": "631d557b76579a61"
  },
  {
   "metadata": {},
   "cell_type": "markdown",
   "source": "### **Gradient Boosting[<sup>[7]</sup>](https://scikit-learn.org/1.5/modules/generated/sklearn.ensemble.GradientBoostingClassifier.html)**",
   "id": "de31aca10ac6f1cc"
  },
  {
   "metadata": {
    "ExecuteTime": {
     "end_time": "2024-10-13T20:27:45.776437Z",
     "start_time": "2024-10-13T20:27:45.773686Z"
    }
   },
   "cell_type": "code",
   "source": "",
   "id": "76a6c62e32c67cb4",
   "outputs": [],
   "execution_count": null
  },
  {
   "metadata": {
    "ExecuteTime": {
     "end_time": "2024-10-13T20:27:46.464282Z",
     "start_time": "2024-10-13T20:27:46.461555Z"
    }
   },
   "cell_type": "code",
   "source": "",
   "id": "6b9ad19fb6c275d7",
   "outputs": [],
   "execution_count": null
  },
  {
   "metadata": {},
   "cell_type": "markdown",
   "source": "### **XGBoost[<sup>[8]</sup>](https://xgboost.readthedocs.io/en/latest/python/python_api.html)**",
   "id": "723d6b9144222720"
  },
  {
   "metadata": {
    "ExecuteTime": {
     "end_time": "2024-10-13T20:27:50.191227Z",
     "start_time": "2024-10-13T20:27:50.189433Z"
    }
   },
   "cell_type": "code",
   "source": "",
   "id": "d7c100680822c662",
   "outputs": [],
   "execution_count": null
  },
  {
   "metadata": {},
   "cell_type": "code",
   "outputs": [],
   "execution_count": null,
   "source": "",
   "id": "ac2090c6eace34e1"
  },
  {
   "metadata": {},
   "cell_type": "markdown",
   "source": "---",
   "id": "bc14c9ee6ff120ce"
  },
  {
   "metadata": {},
   "cell_type": "markdown",
   "source": "### <a class='anchor' id='3_1'></a> **🧪 Model Selection**",
   "id": "204995d589f8431f"
  },
  {
   "metadata": {
    "deletable": true,
    "editable": true,
    "frozen": false,
    "ExecuteTime": {
     "end_time": "2024-10-12T14:30:27.518251Z",
     "start_time": "2024-10-12T14:30:27.515445Z"
    }
   },
   "cell_type": "code",
   "source": "",
   "id": "6777817f8e7b430d",
   "outputs": [],
   "execution_count": null
  },
  {
   "metadata": {
    "deletable": true,
    "editable": true,
    "frozen": false,
    "ExecuteTime": {
     "end_time": "2024-10-12T14:30:27.704694Z",
     "start_time": "2024-10-12T14:30:27.701744Z"
    }
   },
   "cell_type": "code",
   "source": "",
   "id": "810a29f7ed1cd0b",
   "outputs": [],
   "execution_count": null
  },
  {
   "metadata": {},
   "cell_type": "markdown",
   "source": "---",
   "id": "6c570899f31ef3ff"
  },
  {
   "metadata": {},
   "cell_type": "markdown",
   "source": "### <a class='anchor' id='3_2'></a> **📏 Model Evaluation**",
   "id": "8d330ec1b5a3314e"
  },
  {
   "metadata": {
    "deletable": true,
    "editable": true,
    "frozen": false,
    "ExecuteTime": {
     "end_time": "2024-10-12T14:30:42.274079Z",
     "start_time": "2024-10-12T14:30:42.270890Z"
    }
   },
   "cell_type": "code",
   "source": "",
   "id": "4a650501fbd12d22",
   "outputs": [],
   "execution_count": null
  },
  {
   "metadata": {
    "deletable": true,
    "editable": true,
    "frozen": false,
    "ExecuteTime": {
     "end_time": "2024-10-12T14:30:42.461218Z",
     "start_time": "2024-10-12T14:30:42.457750Z"
    }
   },
   "cell_type": "code",
   "source": "",
   "id": "4f7add73692b9d61",
   "outputs": [],
   "execution_count": null
  },
  {
   "metadata": {},
   "cell_type": "markdown",
   "source": "---",
   "id": "e3b51b510a378ca3"
  },
  {
   "metadata": {},
   "cell_type": "markdown",
   "source": "### <a class='anchor' id='3_3'></a> **📈 Model Optimization**",
   "id": "68462a4e54cb358e"
  },
  {
   "metadata": {
    "ExecuteTime": {
     "end_time": "2024-10-06T14:51:01.134240Z",
     "start_time": "2024-10-06T14:51:01.131638Z"
    },
    "deletable": true,
    "editable": true,
    "frozen": false
   },
   "cell_type": "code",
   "outputs": [],
   "source": "",
   "id": "355ae13517df275e",
   "execution_count": null
  },
  {
   "metadata": {
    "ExecuteTime": {
     "end_time": "2024-10-06T14:51:01.700166Z",
     "start_time": "2024-10-06T14:51:01.697774Z"
    },
    "deletable": true,
    "editable": true,
    "frozen": false
   },
   "cell_type": "code",
   "outputs": [],
   "source": "",
   "id": "81efb2247d823541",
   "execution_count": null
  },
  {
   "metadata": {},
   "cell_type": "markdown",
   "source": "---",
   "id": "b47386269a38625"
  },
  {
   "metadata": {},
   "cell_type": "markdown",
   "source": "### 📊 Feature Importance",
   "id": "745ef4c7353c33b4"
  },
  {
   "metadata": {
    "ExecuteTime": {
     "end_time": "2024-10-06T14:51:33.139565Z",
     "start_time": "2024-10-06T14:51:33.136075Z"
    },
    "deletable": true,
    "editable": true,
    "frozen": false
   },
   "cell_type": "code",
   "outputs": [],
   "source": "",
   "id": "1a86fb1977da0b10",
   "execution_count": null
  },
  {
   "metadata": {
    "ExecuteTime": {
     "end_time": "2024-10-06T14:51:33.607961Z",
     "start_time": "2024-10-06T14:51:33.605457Z"
    },
    "deletable": true,
    "editable": true,
    "frozen": false
   },
   "cell_type": "code",
   "outputs": [],
   "source": "",
   "id": "2accb01eecd62499",
   "execution_count": null
  },
  {
   "metadata": {},
   "cell_type": "markdown",
   "source": "---",
   "id": "b82496a685ee8baa"
  },
  {
   "metadata": {},
   "cell_type": "markdown",
   "source": "## 🔮 Test Data Prediction",
   "id": "7ada486ffe254bb0"
  },
  {
   "metadata": {
    "ExecuteTime": {
     "end_time": "2024-10-06T14:52:38.934380Z",
     "start_time": "2024-10-06T14:52:38.931727Z"
    },
    "deletable": true,
    "editable": true,
    "frozen": false
   },
   "cell_type": "code",
   "outputs": [],
   "source": "",
   "id": "a864194b3cc3c278",
   "execution_count": null
  },
  {
   "metadata": {
    "ExecuteTime": {
     "end_time": "2024-10-06T14:52:40.124151Z",
     "start_time": "2024-10-06T14:52:40.121806Z"
    },
    "deletable": true,
    "editable": true,
    "frozen": false
   },
   "cell_type": "code",
   "outputs": [],
   "source": "",
   "id": "6c0adb6695d0e652",
   "execution_count": null
  },
  {
   "metadata": {},
   "cell_type": "markdown",
   "source": "---",
   "id": "4486952ea7b2abfa"
  },
  {
   "metadata": {},
   "cell_type": "markdown",
   "source": "## 📋 CSV Export - Submission",
   "id": "44821ed2896d8592"
  },
  {
   "metadata": {
    "ExecuteTime": {
     "end_time": "2024-10-06T17:17:07.861155Z",
     "start_time": "2024-10-06T17:17:07.841044Z"
    },
    "deletable": true,
    "editable": true,
    "frozen": false
   },
   "cell_type": "code",
   "outputs": [],
   "execution_count": 20,
   "source": [
    "# Each submission in Kaggle should have different names and should have the version name in the following format \n",
    "# – GroupXX_VersionXX.csv (for example, Group 1 submitted his 8th version, the file should be named Group01__Version08.csv)\n",
    "\n",
    "\n",
    "# submission_data.to_csv('submissions/Group33_Version01.csv', index=False, header=True, sep=',')"
   ],
   "id": "f0a88f8d5d4f3f57"
  },
  {
   "metadata": {
    "deletable": true,
    "editable": true,
    "frozen": false
   },
   "cell_type": "code",
   "outputs": [],
   "source": "",
   "id": "eddf6ca4cdda39b",
   "execution_count": null
  }
 ],
 "metadata": {
  "kernelspec": {
   "display_name": "Python 3",
   "language": "python",
   "name": "python3"
  },
  "language_info": {
   "codemirror_mode": {
    "name": "ipython",
    "version": 2
   },
   "file_extension": ".py",
   "mimetype": "text/x-python",
   "name": "python",
   "nbconvert_exporter": "python",
   "pygments_lexer": "ipython2",
   "version": "2.7.6"
  }
 },
 "nbformat": 4,
 "nbformat_minor": 5
}
